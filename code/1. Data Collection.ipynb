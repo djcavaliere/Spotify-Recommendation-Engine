{
 "cells": [
  {
   "cell_type": "markdown",
   "id": "09b66c4d-d672-48bf-a793-674ef9374113",
   "metadata": {},
   "source": [
    "## Data Collection\n",
    "I utilize two datasets in building a song recommendation system. The first is a library of tracks available on kaggle and the second is my extended listening history which I requested directly from Spotify. Because both datasets are incomplete I will make calls to the Spotify Web API to pull in artist and track features to ensure I have a complete library. Lastly I will build a function that takes an artist and track name as inputs and outputs all the necessary datapoints to be considered in my recommendation model. I will utilize this function in model evaluation and also within my streamlit app.\n",
    "\n",
    "Data Sources\n",
    "<br>1- Spotify Listening History\n",
    "<br>2- Kaggle Song List\n",
    "<br>3- Spotify API"
   ]
  },
  {
   "cell_type": "markdown",
   "id": "15e934eb-324b-4ffc-8f47-d0545684988d",
   "metadata": {},
   "source": [
    "#### Import Libraries"
   ]
  },
  {
   "cell_type": "code",
   "execution_count": 3,
   "id": "a44e2963-9b97-4356-b612-c2b769d20134",
   "metadata": {},
   "outputs": [],
   "source": [
    "import pandas as pd\n",
    "import numpy as np\n",
    "import matplotlib.pyplot as plt\n",
    "from sklearn import preprocessing\n",
    "\n",
    "import time\n",
    "import pickle"
   ]
  },
  {
   "cell_type": "markdown",
   "id": "c787d893-6b44-4ae0-af73-6f8ed54230da",
   "metadata": {},
   "source": [
    "#### Load in Datasets"
   ]
  },
  {
   "cell_type": "code",
   "execution_count": 2,
   "id": "00a88724-ee44-467d-b873-8ddb17ddcc01",
   "metadata": {},
   "outputs": [],
   "source": [
    "#load kaggle data\n",
    "kaggle_df = pd.read_csv('../data/data.csv')\n",
    "\n",
    "#load extended listening history\n",
    "extended = pd.read_json('../data/endsong_0.json')\n",
    "extended1 = pd.read_json('../data/endsong_1.json')\n",
    "extended2 = pd.read_json('../data/endsong_2.json')\n",
    "extended = pd.concat([extended, extended1, extended2])\n",
    "\n",
    "#remove rows with null track ids\n",
    "extended = extended[extended['spotify_track_uri'].isnull() == False]\n",
    "extended.reset_index(drop = True, inplace = True)\n",
    "\n",
    "#pull track ids into useable format\n",
    "extended['track_id'] = [extended['spotify_track_uri'][x][14:] for x in range(len(extended['spotify_track_uri']))]"
   ]
  },
  {
   "cell_type": "markdown",
   "id": "4ba36c83-4f74-4527-baa5-5f249119db30",
   "metadata": {},
   "source": [
    "### Spotify API\n",
    "In order to access the Spotify API I first setup a developer account to receive some credentials which can be used to make requests to the API. The main endpoints that I hit were search, tracks, audio features, and artist. These endpoints provided various features relating to the artist and track including genre, energy, danceability, acousticness, etc which I can use to identify the similarity between tracks and provide recommendations.\n",
    "\n",
    "Please note there are specific rate limits associated with each endpoint. As such I split my datasets into smaller batches and utilized a sleep function to ensure that I did not exceed these rate limits. Rerunning these API calls will take a few hours. "
   ]
  },
  {
   "cell_type": "code",
   "execution_count": 4,
   "id": "160f3010-03fa-429b-b4fa-10307195dfb9",
   "metadata": {},
   "outputs": [],
   "source": [
    "#import spotipy and use credentials to authenticate through spotify api\n",
    "import spotipy\n",
    "\n",
    "#!ln -s ../config.py config.py \n",
    "import config\n",
    "\n",
    "from spotipy.oauth2 import SpotifyClientCredentials\n",
    "client_credentials_manager = SpotifyClientCredentials(client_id=config.cid, client_secret=config.secret)\n",
    "sp = spotipy.Spotify(client_credentials_manager = client_credentials_manager)"
   ]
  },
  {
   "cell_type": "code",
   "execution_count": 5,
   "id": "ffda9862-e1d7-4dea-8a9e-761ff10354ad",
   "metadata": {},
   "outputs": [],
   "source": [
    "def track_features(data):\n",
    "    danceability = []\n",
    "    energy = []\n",
    "    key = []\n",
    "    loudness = []\n",
    "    mode = []\n",
    "    speechiness = []\n",
    "    acousticness = []\n",
    "    instrumentalness = []\n",
    "    liveness = []\n",
    "    valence = []\n",
    "    tempo = []\n",
    "    track_id = []\n",
    "    duration_ms = []\n",
    "    time_signature = []\n",
    "    \n",
    "    for t in data:\n",
    "        try:\n",
    "            results = sp.audio_features(tracks = t)\n",
    "            danceability.append(results[0]['danceability'])\n",
    "            energy.append(results[0]['energy'])\n",
    "            key.append(results[0]['key'])\n",
    "            loudness.append(results[0]['loudness'])\n",
    "            mode.append(results[0]['mode'])\n",
    "            speechiness.append(results[0]['speechiness'])\n",
    "            acousticness.append(results[0]['acousticness'])\n",
    "            instrumentalness.append(results[0]['instrumentalness'])\n",
    "            liveness.append(results[0]['liveness'])\n",
    "            valence.append(results[0]['valence'])\n",
    "            tempo.append(results[0]['tempo'])\n",
    "            track_id.append(results[0]['id'])\n",
    "            duration_ms.append(results[0]['duration_ms'])\n",
    "            time_signature.append(results[0]['time_signature'])\n",
    "        except:\n",
    "            pass\n",
    "    \n",
    "    track_features = pd.DataFrame(track_id, columns = ['trackID'])\n",
    "    track_features['danceability'] = danceability\n",
    "    track_features['energy'] = energy\n",
    "    track_features['key'] = key\n",
    "    track_features['loudness'] = loudness \n",
    "    track_features['mode'] = mode \n",
    "    track_features['speechiness'] = speechiness\n",
    "    track_features['acousticness'] = acousticness\n",
    "    track_features['instrumentalness'] = instrumentalness\n",
    "    track_features['liveness'] = liveness\n",
    "    track_features['valence'] = valence\n",
    "    track_features['tempo'] = tempo\n",
    "    track_features['duration_ms'] = duration_ms\n",
    "    track_features['time_signature'] = time_signature\n",
    "    \n",
    "    return track_features"
   ]
  },
  {
   "cell_type": "markdown",
   "id": "683f66b9-0ab0-4aa9-abc6-841950f52c25",
   "metadata": {},
   "source": [
    "#### Kaggle Dataset - Genre & Followers\n",
    "\n",
    "While the Kaggle dataset included features relating to each track it did not contain information regarding the genre or followers associated with each artist. The function below pulls this additional information from the Spotify API and combines it with the original dataset."
   ]
  },
  {
   "cell_type": "code",
   "execution_count": 9,
   "id": "64059c2f-1672-4c50-a62d-57ed4a7522b6",
   "metadata": {},
   "outputs": [],
   "source": [
    "#Using a different function as the kaggle data doesnt include artist ID\n",
    "def kaggle_artist_features(artist):\n",
    "    results = sp.search(q=f'artist: {artist}', type='artist', limit=1)\n",
    "    t = results['artists']['items']\n",
    "    ids = []\n",
    "    artist = artist\n",
    "    name = []\n",
    "    genre = []\n",
    "    followers = []\n",
    "    \n",
    "    try:\n",
    "        for s in t: \n",
    "            ids.append(s['id'])\n",
    "            genre.append(s['genres'])\n",
    "            followers.append(s['followers']['total'])\n",
    "            name.append(s['name'])   \n",
    "    except:\n",
    "        ids.append(0)\n",
    "        \n",
    "    art_feat = pd.DataFrame(ids, columns = ['artist_id'])\n",
    "    art_feat['artists'] = artist\n",
    "    art_feat['artistName'] = name\n",
    "    art_feat['genre'] = genre\n",
    "    art_feat['followers'] = followers\n",
    "    \n",
    "    return art_feat"
   ]
  },
  {
   "cell_type": "code",
   "execution_count": 90,
   "id": "ac4f1a7a-1308-4297-b857-746514908f52",
   "metadata": {},
   "outputs": [],
   "source": [
    "#I ran into issues trying to pull artist data so I had to run API requests in smaller batches\n",
    "#I also had to filter out strings that were too long to be searched\n",
    "\n",
    "artist_batches = np.array_split(kaggle_df['artists'].loc[(kaggle_df['artists'].str.len() < 200)].unique(), 150)\n",
    "\n",
    "kaggle_artists = []"
   ]
  },
  {
   "cell_type": "code",
   "execution_count": 17,
   "id": "4a1858eb-62be-42f3-8f46-1e6802e64a22",
   "metadata": {},
   "outputs": [],
   "source": [
    "for x in range(140,150):\n",
    "    if counter < 1:\n",
    "        time.sleep(30)\n",
    "        kaggle_artists.append([kaggle_artist_features(a) for a in artist_batches[x]])\n",
    "        counter += 1\n",
    "    else: \n",
    "        time.sleep(30)\n",
    "        counter == 0\n",
    "        kaggle_artists.append([kaggle_artist_features(a) for a in artist_batches[x]])"
   ]
  },
  {
   "cell_type": "code",
   "execution_count": 71,
   "id": "e0378539-b9f6-47a4-9a1b-452b80a5e550",
   "metadata": {},
   "outputs": [],
   "source": [
    "#Condensing the artists data into one dataframe with the track data from kaggle_df\n",
    "batch_df = []\n",
    "\n",
    "for df in range(len(kaggle_artists)):\n",
    "    batch_df.append(pd.concat([x for x in kaggle_artists[df]]))\n",
    "\n",
    "test= pd.concat([batch_df[x] for x in range(len(batch_df))])\n",
    "\n",
    "kaggle = pd.merge(left = kaggle_df, right = test, on = ['artists', 'artists'], how = 'left')"
   ]
  },
  {
   "cell_type": "markdown",
   "id": "e3bd5b9a-e2fe-41b0-a79d-2875a5fc60b7",
   "metadata": {},
   "source": [
    "#### Extended Streaming History\n",
    "Spotify provided my with a few json files containing my extended listening history, however this dataset does not include most of the track or artist features that I need to identify song similarities. The functions below pull the additional track and artist data directly from the spotify api."
   ]
  },
  {
   "cell_type": "code",
   "execution_count": 6,
   "id": "d0666ec6-adfb-42c2-adad-b912d8e76514",
   "metadata": {},
   "outputs": [],
   "source": [
    "def get_track_artist(tracks):\n",
    "    results = sp.tracks(tracks)\n",
    "    t = results['tracks']\n",
    "    ids = []\n",
    "    track_id = [track for track in tracks]\n",
    "    track_name = []\n",
    "    \n",
    "    try:\n",
    "        for s in t: \n",
    "            ids.append(s['artists'][0]['id'])\n",
    "            track_name.append(s['name']) \n",
    "    except:\n",
    "        ids.append(0)\n",
    "        \n",
    "    \n",
    "    #art_feat = pd.DataFrame(ids, columns = ['artist_id'])\n",
    "    #art_feat['track_id'] = track_id\n",
    "    \n",
    "    df = artist_features(ids)\n",
    "    df['track_id'] = track_id\n",
    "    df['trackName'] = track_name\n",
    "    \n",
    "    return df"
   ]
  },
  {
   "cell_type": "code",
   "execution_count": 7,
   "id": "1aedd121-fc58-4831-938b-5bd433db509e",
   "metadata": {},
   "outputs": [],
   "source": [
    "def artist_features(artist):\n",
    "    results = sp.artists(artist)\n",
    "    t = results['artists']\n",
    "    ids = []\n",
    "    artist_id = [x for x in artist]\n",
    "    name = []\n",
    "    genre = []\n",
    "    popularity = []\n",
    "    followers = []\n",
    "    \n",
    "    \n",
    "    try:\n",
    "        for s in t: \n",
    "            ids.append(s['id'])\n",
    "            genre.append(s['genres'])\n",
    "            popularity.append(s['popularity'])\n",
    "            followers.append(s['followers']['total'])   \n",
    "    except:\n",
    "        ids.append(0)\n",
    "        \n",
    "    art_feat = pd.DataFrame(ids, columns = ['artist_id'])\n",
    "    art_feat['artist_id'] = artist_id\n",
    "    art_feat['genre'] = genre\n",
    "    art_feat['popularity'] = popularity\n",
    "    art_feat['followers'] = followers\n",
    "    \n",
    "    return art_feat"
   ]
  },
  {
   "cell_type": "code",
   "execution_count": null,
   "id": "6742ccdd-f9c9-415c-9bbe-83ad3cb1ec28",
   "metadata": {},
   "outputs": [],
   "source": [
    "#Splitting the data into smaller batches \n",
    "ext_batches = np.array_split(extended['track_id'], 1000)\n",
    "art_feat = []\n",
    "counter = 0"
   ]
  },
  {
   "cell_type": "code",
   "execution_count": 155,
   "id": "6412939c-8436-4a7c-be70-eb0911a9ad19",
   "metadata": {},
   "outputs": [],
   "source": [
    "#Running each call in small batches with built in pauses to avoid rate limiting\n",
    "for x in range(900,1000):\n",
    "    if counter < 1:\n",
    "        time.sleep(5)\n",
    "        art_feat.append(get_track_artist(ext_batches[x]))\n",
    "        counter += 1\n",
    "    else: \n",
    "        time.sleep(5)\n",
    "        counter == 0\n",
    "        art_feat.append(get_track_artist(ext_batches[x]))"
   ]
  },
  {
   "cell_type": "code",
   "execution_count": 32,
   "id": "336eccf5-d3cb-46d6-8997-78e5cc769426",
   "metadata": {},
   "outputs": [],
   "source": [
    "#Pulling the track features for each song in extended history\n",
    "ext_batches = np.array_split(extended['track_id'], 100)\n",
    "track_feat = []\n",
    "counter = 0"
   ]
  },
  {
   "cell_type": "code",
   "execution_count": 58,
   "id": "d0091667-95d7-4ac9-b6b5-1cd3de2efda7",
   "metadata": {},
   "outputs": [],
   "source": [
    "#Running each call in small batches with built in pauses to avoid rate limiting\n",
    "for x in range(95,100):\n",
    "    if counter < 1:\n",
    "        time.sleep(30)\n",
    "        track_feat.append(track_features(ext_batches[x]))\n",
    "        counter += 1\n",
    "    else: \n",
    "        time.sleep(30)\n",
    "        counter == 0\n",
    "        track_feat.append(track_features(ext_batches[x]))"
   ]
  },
  {
   "cell_type": "code",
   "execution_count": 185,
   "id": "0faf77a5-ab78-4b2a-84c3-037838346d05",
   "metadata": {},
   "outputs": [],
   "source": [
    "#Merge the track and artists features pulled from spotify api\n",
    "track_df = pd.concat([track_feat[x] for x in range(len(track_feat))])\n",
    "art_df = pd.concat([art_feat[x] for x in range(len(art_feat))])\n",
    "track_df.drop_duplicates(inplace = True)\n",
    "art_df.drop_duplicates(subset = 'track_id', inplace = True)\n",
    "\n",
    "extended_spotify = pd.merge(track_df, art_df, how = 'left', left_on = 'trackID', right_on ='track_id')\n",
    "extended = pd.merge(extended, extended_spotify, how = 'left', left_on = 'track_id', right_on = 'trackID')"
   ]
  },
  {
   "cell_type": "code",
   "execution_count": 194,
   "id": "1b986f82-de04-4d17-afe6-22a35fa100b0",
   "metadata": {},
   "outputs": [],
   "source": [
    "#save variables as csvs to pass to read across notebooks\n",
    "kaggle.to_csv('../data/kaggle.csv')\n",
    "history.to_csv('../data/streaminghistory.csv')\n",
    "extended.to_csv('../data/extendedhistory.csv')"
   ]
  },
  {
   "cell_type": "markdown",
   "id": "db159f44-bb71-43aa-86f2-13770ac26fe6",
   "metadata": {},
   "source": [
    "### Streamlit User Input Function\n",
    "This function will be the basis for my streamlit app whereby a user can input an artist and track and receive recommendations. This function will be responsible for calling the spotify api to gather all the necessary data points for consideration in the recommendation system built in later notebooks."
   ]
  },
  {
   "cell_type": "code",
   "execution_count": 28,
   "id": "92061cca-4166-4292-b0fc-498573321ea1",
   "metadata": {},
   "outputs": [],
   "source": [
    "#User Input Functions\n",
    "def get_users_track(artist, track):\n",
    "    \n",
    "    results = sp.search(q=\"artist: \" + artist + \"track: \" + track, type=\"track\", limit =1)['tracks']['items'][0]\n",
    "    artist_id = results['album']['artists'][0]['id']\n",
    "    track_id = results['id']\n",
    "    trackName = results['name']\n",
    "    \n",
    "    #get artist and track features\n",
    "    user_artists = artist_features([artist_id])\n",
    "    user_track = track_features([track_id])\n",
    "    user_table = pd.concat([user_artists, user_track], axis = 1)\n",
    "    user_table.drop(columns = ['trackID','duration_ms', 'time_signature'], inplace = True)\n",
    "    user_table.index = [trackName]\n",
    "        \n",
    "    return user_table"
   ]
  },
  {
   "cell_type": "code",
   "execution_count": 27,
   "id": "1fd62fe3-1c5c-4643-9f76-fdd55d4acb37",
   "metadata": {},
   "outputs": [],
   "source": [
    "#Using My Top 5 Songs from 2022 for Model Evaluation\n",
    "track1 = get_users_track('Summer Walker', 'CPR') \n",
    "track2 = get_users_track('MEDUZA', 'Lose Control') \n",
    "track3 = get_users_track('Leon Bridges', 'Coming Home')\n",
    "track4 = get_users_track('Summer Walker', 'Session 32')\n",
    "track5 = get_users_track('Kali Uchis', 'telepatía') \n",
    "\n",
    "%store track1\n",
    "%store track2\n",
    "%store track3\n",
    "%store track4\n",
    "%store track5"
   ]
  }
 ],
 "metadata": {
  "kernelspec": {
   "display_name": "Python 3 (ipykernel)",
   "language": "python",
   "name": "python3"
  },
  "language_info": {
   "codemirror_mode": {
    "name": "ipython",
    "version": 3
   },
   "file_extension": ".py",
   "mimetype": "text/x-python",
   "name": "python",
   "nbconvert_exporter": "python",
   "pygments_lexer": "ipython3",
   "version": "3.9.12"
  }
 },
 "nbformat": 4,
 "nbformat_minor": 5
}
