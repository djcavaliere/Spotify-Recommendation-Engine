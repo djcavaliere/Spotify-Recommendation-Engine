{
 "cells": [
  {
   "cell_type": "code",
   "execution_count": null,
   "id": "5b05f27b-0611-401a-b056-854d01e8b0a4",
   "metadata": {},
   "outputs": [],
   "source": [
    "streaming_df.groupby('trackName')['count'].count().sort_values(ascending=False).head(20)"
   ]
  },
  {
   "cell_type": "code",
   "execution_count": null,
   "id": "eff022fc-d1c1-4191-a107-d28c7fa7a1a3",
   "metadata": {},
   "outputs": [],
   "source": [
    "streaming_df.groupby('artistName')['count'].count().sort_values(ascending=False).head(20)"
   ]
  },
  {
   "cell_type": "code",
   "execution_count": null,
   "id": "3fdf3a3f-bd10-4b9e-ae88-f8557eee5e79",
   "metadata": {},
   "outputs": [],
   "source": [
    "#678 different artists\n",
    "artists = streaming_df['artistName'].unique()\n",
    "len(streaming_df['artistName'].unique())"
   ]
  },
  {
   "cell_type": "markdown",
   "id": "ce53af10-b4c4-4cf5-b170-9db56f961d73",
   "metadata": {},
   "source": [
    "### Streaming History\n",
    "YoY\n",
    "Count Plays by Genre, Artist, Song, Mean Song Features(Danceability, Energy, etc)\n",
    "\n",
    "Deep Dive into this Year\n",
    "How have genres, song features, etc fluxuated week over week?"
   ]
  },
  {
   "cell_type": "code",
   "execution_count": null,
   "id": "4d644b92-6441-4b99-b019-6dd8a9a386e5",
   "metadata": {},
   "outputs": [],
   "source": []
  }
 ],
 "metadata": {
  "kernelspec": {
   "display_name": "Python 3 (ipykernel)",
   "language": "python",
   "name": "python3"
  },
  "language_info": {
   "codemirror_mode": {
    "name": "ipython",
    "version": 3
   },
   "file_extension": ".py",
   "mimetype": "text/x-python",
   "name": "python",
   "nbconvert_exporter": "python",
   "pygments_lexer": "ipython3",
   "version": "3.9.12"
  }
 },
 "nbformat": 4,
 "nbformat_minor": 5
}
