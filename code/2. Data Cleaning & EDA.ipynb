{
 "cells": [
  {
   "cell_type": "markdown",
   "id": "ce53af10-b4c4-4cf5-b170-9db56f961d73",
   "metadata": {},
   "source": [
    "### Streaming History\n",
    "YoY\n",
    "Count Plays by Genre, Artist, Song, Mean Song Features(Danceability, Energy, etc)\n",
    "\n",
    "Deep Dive into this Year\n",
    "How have genres, song features, etc fluxuated week over week?\n",
    "\n",
    "Unique Artists, Unique, Tracks, Unique Genres, Listen Count by Genre"
   ]
  },
  {
   "cell_type": "code",
   "execution_count": 3,
   "id": "ae2cc46b-53a7-42a6-8cc4-d3bebb4dd1a4",
   "metadata": {},
   "outputs": [],
   "source": [
    "#Import libraries\n",
    "import pandas as pd\n",
    "import matplotlib.pyplot as plt\n",
    "import seaborn as sns\n",
    "import numpy as np"
   ]
  },
  {
   "cell_type": "code",
   "execution_count": 5,
   "id": "10c03383-8c86-4a04-9ae0-76d7e072cf35",
   "metadata": {},
   "outputs": [],
   "source": [
    "#Import data from collection notebook\n",
    "history = pd.read_csv('../data/streaminghistory.csv')\n",
    "extendedhistory = pd.read_csv('../data/extendedhistory.csv')"
   ]
  },
  {
   "cell_type": "code",
   "execution_count": 23,
   "id": "68b94ac9-c09d-4ed0-8ddf-88cc76fab383",
   "metadata": {},
   "outputs": [
    {
     "data": {
      "text/plain": [
       "0        1jQfgl9WRle7D8a3GXLwaD\n",
       "1        54I1dC6Ux5I4h7U44DmjgK\n",
       "2        4rnriM1hFyeRrdRQSZd9uA\n",
       "3        5FG7Tl93LdH117jEKYl3Cm\n",
       "4        7ifz6wYLdZ1ujxzXSnBTvd\n",
       "                  ...          \n",
       "39709    0nxkVSwDNX8M46ejw7ltuS\n",
       "39710    1HhnuLKDmlAhfhAjkXLZgW\n",
       "39711    6bWD65sXguqUE4AaiEXqlw\n",
       "39712    4kflXMtDdukfphfpvp1708\n",
       "39713    3UGNdLrhhsK0SY9gNqe8TT\n",
       "Length: 12462, dtype: object"
      ]
     },
     "execution_count": 23,
     "metadata": {},
     "output_type": "execute_result"
    }
   ],
   "source": [
    "comb = pd.concat([history['trackID'], extendedhistory['track_id_x']])\n",
    "comb.drop_duplicates()"
   ]
  },
  {
   "cell_type": "code",
   "execution_count": 25,
   "id": "f240aa05-5a0e-4a2d-992b-4f56a024ccfc",
   "metadata": {},
   "outputs": [
    {
     "data": {
      "text/plain": [
       "1426"
      ]
     },
     "execution_count": 25,
     "metadata": {},
     "output_type": "execute_result"
    }
   ],
   "source": [
    "len(history['trackID'].unique())"
   ]
  },
  {
   "cell_type": "code",
   "execution_count": 26,
   "id": "9deec634-6939-4974-b765-b75652d4ae09",
   "metadata": {},
   "outputs": [
    {
     "data": {
      "text/plain": [
       "12324"
      ]
     },
     "execution_count": 26,
     "metadata": {},
     "output_type": "execute_result"
    }
   ],
   "source": [
    "len(extendedhistory['track_id_x'].unique())"
   ]
  },
  {
   "cell_type": "code",
   "execution_count": 32,
   "id": "5bf57aa1-baef-4d76-b59a-1de4a0b977a8",
   "metadata": {},
   "outputs": [
    {
     "data": {
      "text/plain": [
       "'2021-10-26 23:02'"
      ]
     },
     "execution_count": 32,
     "metadata": {},
     "output_type": "execute_result"
    }
   ],
   "source": [
    "history['endTime'].min()"
   ]
  },
  {
   "cell_type": "code",
   "execution_count": 33,
   "id": "a3b7e2cb-a9f3-4e70-a054-99406218f57e",
   "metadata": {},
   "outputs": [
    {
     "data": {
      "text/plain": [
       "(3624, 24)"
      ]
     },
     "execution_count": 33,
     "metadata": {},
     "output_type": "execute_result"
    }
   ],
   "source": [
    "history.shape"
   ]
  },
  {
   "cell_type": "code",
   "execution_count": 47,
   "id": "732f8533-d012-4945-9c84-c93a156f3a0f",
   "metadata": {},
   "outputs": [
    {
     "data": {
      "text/plain": [
       "array([1212918474], dtype=int64)"
      ]
     },
     "execution_count": 47,
     "metadata": {},
     "output_type": "execute_result"
    }
   ],
   "source": [
    "extended['username'].unique()"
   ]
  },
  {
   "cell_type": "code",
   "execution_count": 27,
   "id": "456adb94-e5b9-4c9b-aca4-7a5789b81ea0",
   "metadata": {},
   "outputs": [
    {
     "data": {
      "text/plain": [
       "13750"
      ]
     },
     "execution_count": 27,
     "metadata": {},
     "output_type": "execute_result"
    }
   ],
   "source": [
    "1426 + 12324"
   ]
  },
  {
   "cell_type": "code",
   "execution_count": 40,
   "id": "b90abc57-41c6-4bd0-9601-b28a4aba8e54",
   "metadata": {},
   "outputs": [
    {
     "name": "stdout",
     "output_type": "stream",
     "text": [
      "<class 'pandas.core.frame.DataFrame'>\n",
      "RangeIndex: 3624 entries, 0 to 3623\n",
      "Data columns (total 24 columns):\n",
      " #   Column             Non-Null Count  Dtype  \n",
      "---  ------             --------------  -----  \n",
      " 0   Unnamed: 0         3624 non-null   int64  \n",
      " 1   endTime            3624 non-null   object \n",
      " 2   artistName         3624 non-null   object \n",
      " 3   trackName          3624 non-null   object \n",
      " 4   msPlayed           3624 non-null   int64  \n",
      " 5   count              3624 non-null   int64  \n",
      " 6   artist_id          3624 non-null   object \n",
      " 7   genres             3624 non-null   object \n",
      " 8   artist_popularity  3624 non-null   float64\n",
      " 9   followers          3624 non-null   float64\n",
      " 10  trackID            3624 non-null   object \n",
      " 11  danceability       3624 non-null   float64\n",
      " 12  energy             3624 non-null   float64\n",
      " 13  key                3624 non-null   float64\n",
      " 14  loudness           3624 non-null   float64\n",
      " 15  mode               3624 non-null   float64\n",
      " 16  speechiness        3624 non-null   float64\n",
      " 17  acousticness       3624 non-null   float64\n",
      " 18  instrumentalness   3624 non-null   float64\n",
      " 19  liveness           3624 non-null   float64\n",
      " 20  valence            3624 non-null   float64\n",
      " 21  tempo              3624 non-null   float64\n",
      " 22  duration_ms        3624 non-null   float64\n",
      " 23  time_signature     3624 non-null   float64\n",
      "dtypes: float64(15), int64(3), object(6)\n",
      "memory usage: 679.6+ KB\n"
     ]
    }
   ],
   "source": [
    "history.info()"
   ]
  },
  {
   "cell_type": "code",
   "execution_count": 41,
   "id": "4ca40ede-081f-476b-adc5-b4314403de79",
   "metadata": {},
   "outputs": [],
   "source": [
    "history.drop(columns = 'Unnamed: 0', inplace = True)"
   ]
  },
  {
   "cell_type": "code",
   "execution_count": 43,
   "id": "4bfd6184-8581-4004-a73c-8f7d290b213c",
   "metadata": {},
   "outputs": [
    {
     "data": {
      "text/plain": [
       "ts                                       0\n",
       "username                                 0\n",
       "platform                                 0\n",
       "ms_played                                0\n",
       "conn_country                             0\n",
       "ip_addr_decrypted                        0\n",
       "user_agent_decrypted                  1364\n",
       "master_metadata_track_name               0\n",
       "master_metadata_album_artist_name        0\n",
       "master_metadata_album_album_name         0\n",
       "spotify_track_uri                        0\n",
       "episode_name                         39716\n",
       "episode_show_name                    39716\n",
       "spotify_episode_uri                  39716\n",
       "reason_start                             0\n",
       "reason_end                               0\n",
       "shuffle                                  0\n",
       "skipped                              31105\n",
       "offline                                  0\n",
       "offline_timestamp                        0\n",
       "incognito_mode                           0\n",
       "track_id_x                               0\n",
       "trackID                                  1\n",
       "danceability                             1\n",
       "energy                                   1\n",
       "key                                      1\n",
       "loudness                                 1\n",
       "mode                                     1\n",
       "speechiness                              1\n",
       "acousticness                             1\n",
       "instrumentalness                         1\n",
       "liveness                                 1\n",
       "valence                                  1\n",
       "tempo                                    1\n",
       "duration_ms                              1\n",
       "time_signature                           1\n",
       "artist_id                                1\n",
       "genre                                    1\n",
       "popularity                               1\n",
       "followers                                1\n",
       "track_id_y                               1\n",
       "dtype: int64"
      ]
     },
     "execution_count": 43,
     "metadata": {},
     "output_type": "execute_result"
    }
   ],
   "source": [
    "extended.isnull().sum()"
   ]
  },
  {
   "cell_type": "code",
   "execution_count": 48,
   "id": "6776767a-c7db-49ee-b39d-3cde78451e40",
   "metadata": {},
   "outputs": [],
   "source": [
    "to_drop = ['track_id_y', 'track_id_x', 'incognito_mode', 'offline_timestamp', 'offline', \n",
    "           'skipped', 'shuffle', 'reason_end', 'reason_start', 'username', 'platform',\n",
    "           'ms_played', 'conn_country', 'ip_addr_decrypted', 'user_agent_decrypted',\n",
    "          'episode_name', 'episode_show_name', 'spotify_episode_uri']\n",
    "\n",
    "extended.drop(columns = to_drop, inplace = True)"
   ]
  },
  {
   "cell_type": "code",
   "execution_count": 58,
   "id": "c0f4df3f-de6d-4b0a-9854-3e053f64a30d",
   "metadata": {},
   "outputs": [
    {
     "data": {
      "text/html": [
       "<div>\n",
       "<style scoped>\n",
       "    .dataframe tbody tr th:only-of-type {\n",
       "        vertical-align: middle;\n",
       "    }\n",
       "\n",
       "    .dataframe tbody tr th {\n",
       "        vertical-align: top;\n",
       "    }\n",
       "\n",
       "    .dataframe thead th {\n",
       "        text-align: right;\n",
       "    }\n",
       "</style>\n",
       "<table border=\"1\" class=\"dataframe\">\n",
       "  <thead>\n",
       "    <tr style=\"text-align: right;\">\n",
       "      <th></th>\n",
       "      <th>ts</th>\n",
       "      <th>master_metadata_track_name</th>\n",
       "      <th>master_metadata_album_artist_name</th>\n",
       "      <th>master_metadata_album_album_name</th>\n",
       "      <th>spotify_track_uri</th>\n",
       "      <th>trackID</th>\n",
       "      <th>danceability</th>\n",
       "      <th>energy</th>\n",
       "      <th>key</th>\n",
       "      <th>loudness</th>\n",
       "      <th>...</th>\n",
       "      <th>instrumentalness</th>\n",
       "      <th>liveness</th>\n",
       "      <th>valence</th>\n",
       "      <th>tempo</th>\n",
       "      <th>duration_ms</th>\n",
       "      <th>time_signature</th>\n",
       "      <th>artist_id</th>\n",
       "      <th>genre</th>\n",
       "      <th>popularity</th>\n",
       "      <th>followers</th>\n",
       "    </tr>\n",
       "  </thead>\n",
       "  <tbody>\n",
       "    <tr>\n",
       "      <th>0</th>\n",
       "      <td>2015-05-27T16:34:37Z</td>\n",
       "      <td>Have You Ever Loved A Woman</td>\n",
       "      <td>Freddie King</td>\n",
       "      <td>Are You Ready For Freddie?</td>\n",
       "      <td>spotify:track:6r99GoBd08u7ajWGpvdyxm</td>\n",
       "      <td>6r99GoBd08u7ajWGpvdyxm</td>\n",
       "      <td>0.418</td>\n",
       "      <td>0.47</td>\n",
       "      <td>2.0</td>\n",
       "      <td>-9.442</td>\n",
       "      <td>...</td>\n",
       "      <td>0.405</td>\n",
       "      <td>0.125</td>\n",
       "      <td>0.377</td>\n",
       "      <td>79.024</td>\n",
       "      <td>765306.0</td>\n",
       "      <td>4.0</td>\n",
       "      <td>5dCuFngSPyOOnTAvrC7v2s</td>\n",
       "      <td>[acoustic blues, blues, blues rock, classic ro...</td>\n",
       "      <td>51.0</td>\n",
       "      <td>351319.0</td>\n",
       "    </tr>\n",
       "  </tbody>\n",
       "</table>\n",
       "<p>1 rows × 23 columns</p>\n",
       "</div>"
      ],
      "text/plain": [
       "                     ts   master_metadata_track_name  \\\n",
       "0  2015-05-27T16:34:37Z  Have You Ever Loved A Woman   \n",
       "\n",
       "  master_metadata_album_artist_name master_metadata_album_album_name  \\\n",
       "0                      Freddie King       Are You Ready For Freddie?   \n",
       "\n",
       "                      spotify_track_uri                 trackID  danceability  \\\n",
       "0  spotify:track:6r99GoBd08u7ajWGpvdyxm  6r99GoBd08u7ajWGpvdyxm         0.418   \n",
       "\n",
       "   energy  key  loudness  ...  instrumentalness  liveness  valence   tempo  \\\n",
       "0    0.47  2.0    -9.442  ...             0.405     0.125    0.377  79.024   \n",
       "\n",
       "   duration_ms  time_signature               artist_id  \\\n",
       "0     765306.0             4.0  5dCuFngSPyOOnTAvrC7v2s   \n",
       "\n",
       "                                               genre  popularity followers  \n",
       "0  [acoustic blues, blues, blues rock, classic ro...        51.0  351319.0  \n",
       "\n",
       "[1 rows x 23 columns]"
      ]
     },
     "execution_count": 58,
     "metadata": {},
     "output_type": "execute_result"
    }
   ],
   "source": [
    "extended.head(1)"
   ]
  },
  {
   "cell_type": "code",
   "execution_count": 64,
   "id": "08118f4b-6e9a-4c6e-a75d-0263940cfef4",
   "metadata": {},
   "outputs": [
    {
     "data": {
      "text/plain": [
       "0        1\n",
       "1        1\n",
       "2        1\n",
       "3        1\n",
       "4        1\n",
       "        ..\n",
       "39711    1\n",
       "39712    1\n",
       "39713    1\n",
       "39714    1\n",
       "39715    1\n",
       "Name: listen_count, Length: 39716, dtype: int64"
      ]
     },
     "execution_count": 64,
     "metadata": {},
     "output_type": "execute_result"
    }
   ],
   "source": [
    "extended['year'] = [x[:4] for x in extended['ts']]\n",
    "extended['listen_count'] = 1\n",
    "extended['listen_count']"
   ]
  },
  {
   "cell_type": "code",
   "execution_count": 104,
   "id": "8937d1bc-f87e-4e8e-9c5f-a2d64d7742e5",
   "metadata": {},
   "outputs": [],
   "source": [
    "yoy_listens = extended.groupby(by = 'year')['listen_count'].sum()"
   ]
  },
  {
   "cell_type": "code",
   "execution_count": 105,
   "id": "9383c977-15bf-4ca0-9c44-ac09564cb73b",
   "metadata": {},
   "outputs": [
    {
     "data": {
      "text/plain": [
       "year\n",
       "2012      82\n",
       "2014    1634\n",
       "2015    5728\n",
       "2016    4960\n",
       "2017    5223\n",
       "2018    4352\n",
       "2019    6271\n",
       "2020    3639\n",
       "2021    4417\n",
       "2022    3410\n",
       "Name: listen_count, dtype: int64"
      ]
     },
     "execution_count": 105,
     "metadata": {},
     "output_type": "execute_result"
    }
   ],
   "source": [
    "year"
   ]
  },
  {
   "cell_type": "code",
   "execution_count": 113,
   "id": "54473b6e-9ea9-4e45-be46-990aad35b72d",
   "metadata": {},
   "outputs": [
    {
     "name": "stdout",
     "output_type": "stream",
     "text": [
      "<class 'pandas.core.frame.DataFrame'>\n",
      "Int64Index: 39716 entries, 0 to 39715\n",
      "Data columns (total 25 columns):\n",
      " #   Column                             Non-Null Count  Dtype  \n",
      "---  ------                             --------------  -----  \n",
      " 0   ts                                 39716 non-null  object \n",
      " 1   master_metadata_track_name         39716 non-null  object \n",
      " 2   master_metadata_album_artist_name  39716 non-null  object \n",
      " 3   master_metadata_album_album_name   39716 non-null  object \n",
      " 4   spotify_track_uri                  39716 non-null  object \n",
      " 5   trackID                            39715 non-null  object \n",
      " 6   danceability                       39715 non-null  float64\n",
      " 7   energy                             39715 non-null  float64\n",
      " 8   key                                39715 non-null  float64\n",
      " 9   loudness                           39715 non-null  float64\n",
      " 10  mode                               39715 non-null  float64\n",
      " 11  speechiness                        39715 non-null  float64\n",
      " 12  acousticness                       39715 non-null  float64\n",
      " 13  instrumentalness                   39715 non-null  float64\n",
      " 14  liveness                           39715 non-null  float64\n",
      " 15  valence                            39715 non-null  float64\n",
      " 16  tempo                              39715 non-null  float64\n",
      " 17  duration_ms                        39715 non-null  float64\n",
      " 18  time_signature                     39715 non-null  float64\n",
      " 19  artist_id                          39715 non-null  object \n",
      " 20  genre                              39715 non-null  object \n",
      " 21  popularity                         39715 non-null  float64\n",
      " 22  followers                          39715 non-null  float64\n",
      " 23  year                               39716 non-null  object \n",
      " 24  listen_count                       39716 non-null  int64  \n",
      "dtypes: float64(15), int64(1), object(9)\n",
      "memory usage: 8.9+ MB\n"
     ]
    }
   ],
   "source": [
    "extended.info()"
   ]
  },
  {
   "cell_type": "code",
   "execution_count": 123,
   "id": "cf8a2867-0b47-4716-bde4-965425988268",
   "metadata": {},
   "outputs": [],
   "source": [
    "genres = []\n",
    "for x in range(0,39716):\n",
    "    try:\n",
    "        genres.append([a for a in extended['genre'][x]])\n",
    "    except:\n",
    "        pass"
   ]
  },
  {
   "cell_type": "code",
   "execution_count": 125,
   "id": "98739a9c-a91f-4f09-82ad-7d7ab5428a86",
   "metadata": {},
   "outputs": [],
   "source": [
    "genres = sum(genres, [])"
   ]
  },
  {
   "cell_type": "code",
   "execution_count": 128,
   "id": "5c96d2d3-5138-4d7a-a1b1-94029c75524a",
   "metadata": {},
   "outputs": [
    {
     "data": {
      "text/plain": [
       "1109"
      ]
     },
     "execution_count": 128,
     "metadata": {},
     "output_type": "execute_result"
    }
   ],
   "source": [
    "len(set(genres))"
   ]
  },
  {
   "cell_type": "code",
   "execution_count": 159,
   "id": "32b9a8c8-22d2-4745-86eb-f0c5e43c694d",
   "metadata": {},
   "outputs": [],
   "source": [
    "yoy_listens_genre = extended.groupby(by = ['year'])['genre']"
   ]
  },
  {
   "cell_type": "code",
   "execution_count": 155,
   "id": "c31d31e2-eb0a-467e-962d-5a38477eae4c",
   "metadata": {},
   "outputs": [
    {
     "ename": "TypeError",
     "evalue": "unhashable type: 'DataFrame'",
     "output_type": "error",
     "traceback": [
      "\u001b[1;31m---------------------------------------------------------------------------\u001b[0m",
      "\u001b[1;31mTypeError\u001b[0m                                 Traceback (most recent call last)",
      "Input \u001b[1;32mIn [155]\u001b[0m, in \u001b[0;36m<cell line: 1>\u001b[1;34m()\u001b[0m\n\u001b[0;32m      1\u001b[0m \u001b[38;5;28;01mfor\u001b[39;00m key \u001b[38;5;129;01min\u001b[39;00m yoy_listens_genre:\n\u001b[1;32m----> 2\u001b[0m     \u001b[38;5;28mprint\u001b[39m(\u001b[43myoy_listens_genre\u001b[49m\u001b[38;5;241;43m.\u001b[39;49m\u001b[43mget_group\u001b[49m\u001b[43m(\u001b[49m\u001b[43mkey\u001b[49m\u001b[43m)\u001b[49m, \u001b[38;5;124m\"\u001b[39m\u001b[38;5;130;01m\\n\u001b[39;00m\u001b[38;5;130;01m\\n\u001b[39;00m\u001b[38;5;124m\"\u001b[39m)\n",
      "File \u001b[1;32m~\\anaconda3.1\\lib\\site-packages\\pandas\\core\\groupby\\groupby.py:745\u001b[0m, in \u001b[0;36mBaseGroupBy.get_group\u001b[1;34m(self, name, obj)\u001b[0m\n\u001b[0;32m    742\u001b[0m \u001b[38;5;28;01mif\u001b[39;00m obj \u001b[38;5;129;01mis\u001b[39;00m \u001b[38;5;28;01mNone\u001b[39;00m:\n\u001b[0;32m    743\u001b[0m     obj \u001b[38;5;241m=\u001b[39m \u001b[38;5;28mself\u001b[39m\u001b[38;5;241m.\u001b[39m_selected_obj\n\u001b[1;32m--> 745\u001b[0m inds \u001b[38;5;241m=\u001b[39m \u001b[38;5;28;43mself\u001b[39;49m\u001b[38;5;241;43m.\u001b[39;49m\u001b[43m_get_index\u001b[49m\u001b[43m(\u001b[49m\u001b[43mname\u001b[49m\u001b[43m)\u001b[49m\n\u001b[0;32m    746\u001b[0m \u001b[38;5;28;01mif\u001b[39;00m \u001b[38;5;129;01mnot\u001b[39;00m \u001b[38;5;28mlen\u001b[39m(inds):\n\u001b[0;32m    747\u001b[0m     \u001b[38;5;28;01mraise\u001b[39;00m \u001b[38;5;167;01mKeyError\u001b[39;00m(name)\n",
      "File \u001b[1;32m~\\anaconda3.1\\lib\\site-packages\\pandas\\core\\groupby\\groupby.py:673\u001b[0m, in \u001b[0;36mBaseGroupBy._get_index\u001b[1;34m(self, name)\u001b[0m\n\u001b[0;32m    668\u001b[0m \u001b[38;5;129m@final\u001b[39m\n\u001b[0;32m    669\u001b[0m \u001b[38;5;28;01mdef\u001b[39;00m \u001b[38;5;21m_get_index\u001b[39m(\u001b[38;5;28mself\u001b[39m, name):\n\u001b[0;32m    670\u001b[0m     \u001b[38;5;124;03m\"\"\"\u001b[39;00m\n\u001b[0;32m    671\u001b[0m \u001b[38;5;124;03m    Safe get index, translate keys for datelike to underlying repr.\u001b[39;00m\n\u001b[0;32m    672\u001b[0m \u001b[38;5;124;03m    \"\"\"\u001b[39;00m\n\u001b[1;32m--> 673\u001b[0m     \u001b[38;5;28;01mreturn\u001b[39;00m \u001b[38;5;28;43mself\u001b[39;49m\u001b[38;5;241;43m.\u001b[39;49m\u001b[43m_get_indices\u001b[49m\u001b[43m(\u001b[49m\u001b[43m[\u001b[49m\u001b[43mname\u001b[49m\u001b[43m]\u001b[49m\u001b[43m)\u001b[49m[\u001b[38;5;241m0\u001b[39m]\n",
      "File \u001b[1;32m~\\anaconda3.1\\lib\\site-packages\\pandas\\core\\groupby\\groupby.py:666\u001b[0m, in \u001b[0;36mBaseGroupBy._get_indices\u001b[1;34m(self, names)\u001b[0m\n\u001b[0;32m    663\u001b[0m     converter \u001b[38;5;241m=\u001b[39m get_converter(index_sample)\n\u001b[0;32m    664\u001b[0m     names \u001b[38;5;241m=\u001b[39m (converter(name) \u001b[38;5;28;01mfor\u001b[39;00m name \u001b[38;5;129;01min\u001b[39;00m names)\n\u001b[1;32m--> 666\u001b[0m \u001b[38;5;28;01mreturn\u001b[39;00m [\u001b[38;5;28mself\u001b[39m\u001b[38;5;241m.\u001b[39mindices\u001b[38;5;241m.\u001b[39mget(name, []) \u001b[38;5;28;01mfor\u001b[39;00m name \u001b[38;5;129;01min\u001b[39;00m names]\n",
      "File \u001b[1;32m~\\anaconda3.1\\lib\\site-packages\\pandas\\core\\groupby\\groupby.py:666\u001b[0m, in \u001b[0;36m<listcomp>\u001b[1;34m(.0)\u001b[0m\n\u001b[0;32m    663\u001b[0m     converter \u001b[38;5;241m=\u001b[39m get_converter(index_sample)\n\u001b[0;32m    664\u001b[0m     names \u001b[38;5;241m=\u001b[39m (converter(name) \u001b[38;5;28;01mfor\u001b[39;00m name \u001b[38;5;129;01min\u001b[39;00m names)\n\u001b[1;32m--> 666\u001b[0m \u001b[38;5;28;01mreturn\u001b[39;00m [\u001b[38;5;28;43mself\u001b[39;49m\u001b[38;5;241;43m.\u001b[39;49m\u001b[43mindices\u001b[49m\u001b[38;5;241;43m.\u001b[39;49m\u001b[43mget\u001b[49m\u001b[43m(\u001b[49m\u001b[43mname\u001b[49m\u001b[43m,\u001b[49m\u001b[43m \u001b[49m\u001b[43m[\u001b[49m\u001b[43m]\u001b[49m\u001b[43m)\u001b[49m \u001b[38;5;28;01mfor\u001b[39;00m name \u001b[38;5;129;01min\u001b[39;00m names]\n",
      "\u001b[1;31mTypeError\u001b[0m: unhashable type: 'DataFrame'"
     ]
    }
   ],
   "source": [
    "for key in yoy_listens_genre:\n",
    "    print(yoy_listens_genre.get_group(key), \"\\n\\n\")"
   ]
  },
  {
   "cell_type": "code",
   "execution_count": 160,
   "id": "a2aa2986-30fd-4731-b905-6931341fe908",
   "metadata": {},
   "outputs": [
    {
     "data": {
      "text/plain": [
       "year\n",
       "2012    [brill building pop, classic soul, funk, motow...\n",
       "2014    [alternative rock, anti-folk, canadian indie, ...\n",
       "2015    [acoustic blues, blues, blues rock, classic ro...\n",
       "2016    [smooth jazz, pop punk, punk, rock, socal pop ...\n",
       "2017    [dance pop, hip hop, pop, r&b, urban contempor...\n",
       "2018    [blues rock, modern blues, modern blues rock, ...\n",
       "2019    [deep groove house, disco house, dutch edm, ed...\n",
       "2020    [alternative emo, indie pop, indie rock, new j...\n",
       "2021    [melodic rap, pop rap, rap, slap house, altern...\n",
       "2022    [australian indie, australian pop, dance pop, ...\n",
       "Name: genre, dtype: object"
      ]
     },
     "execution_count": 160,
     "metadata": {},
     "output_type": "execute_result"
    }
   ],
   "source": [
    "yoy_listens_genre.agg('sum')"
   ]
  },
  {
   "cell_type": "code",
   "execution_count": 162,
   "id": "6a7beb87-d32b-4152-b79f-59ba3bbc8db8",
   "metadata": {},
   "outputs": [],
   "source": [
    "#Breaking Down Data YoY\n",
    "df2014 = extended[extended['year'] == '2014']\n",
    "df2015 = extended[extended['year'] == '2015']\n",
    "df2016 = extended[extended['year'] == '2016']\n",
    "df2017 = extended[extended['year'] == '2017']\n",
    "df2018 = extended[extended['year'] == '2018']\n",
    "df2019 = extended[extended['year'] == '2019']\n",
    "df2020 = extended[extended['year'] == '2020']\n",
    "df2021 = extended[extended['year'] == '2021']\n",
    "df2022 = extended[extended['year'] == '2022']"
   ]
  },
  {
   "cell_type": "code",
   "execution_count": 179,
   "id": "7e8feb5c-dac6-4ffa-9425-9a591b9021ff",
   "metadata": {},
   "outputs": [
    {
     "data": {
      "text/plain": [
       "'Top 10 Artists Each Year'"
      ]
     },
     "metadata": {},
     "output_type": "display_data"
    },
    {
     "data": {
      "text/plain": [
       "'2014'"
      ]
     },
     "metadata": {},
     "output_type": "display_data"
    },
    {
     "data": {
      "text/plain": [
       "master_metadata_album_artist_name\n",
       "The Black Keys    219\n",
       "Built To Spill    112\n",
       "Bon Iver           64\n",
       "Justin Bieber      57\n",
       "Kid Cudi           56\n",
       "John Mayer         45\n",
       "Rebelution         44\n",
       "Otis Redding       43\n",
       "Iration            39\n",
       "Mike Posner        38\n",
       "Name: listen_count, dtype: int64"
      ]
     },
     "metadata": {},
     "output_type": "display_data"
    },
    {
     "data": {
      "text/plain": [
       "'2015'"
      ]
     },
     "metadata": {},
     "output_type": "display_data"
    },
    {
     "data": {
      "text/plain": [
       "master_metadata_album_artist_name\n",
       "Freddie King          317\n",
       "Kid Cudi              311\n",
       "The Black Keys        255\n",
       "Stevie Ray Vaughan    210\n",
       "John Mayer            206\n",
       "Common                165\n",
       "Miguel                119\n",
       "Robben Ford           118\n",
       "Otis Redding          118\n",
       "Albert King           116\n",
       "Name: listen_count, dtype: int64"
      ]
     },
     "metadata": {},
     "output_type": "display_data"
    },
    {
     "data": {
      "text/plain": [
       "'2016'"
      ]
     },
     "metadata": {},
     "output_type": "display_data"
    },
    {
     "data": {
      "text/plain": [
       "master_metadata_album_artist_name\n",
       "Julien Baker          303\n",
       "James Brown           274\n",
       "blink-182             146\n",
       "Drake                 116\n",
       "The Pharcyde           97\n",
       "Usher                  96\n",
       "The Chainsmokers       92\n",
       "Etta James             84\n",
       "Dave Matthews Band     76\n",
       "John Legend            69\n",
       "Name: listen_count, dtype: int64"
      ]
     },
     "metadata": {},
     "output_type": "display_data"
    },
    {
     "data": {
      "text/plain": [
       "'2017'"
      ]
     },
     "metadata": {},
     "output_type": "display_data"
    },
    {
     "data": {
      "text/plain": [
       "master_metadata_album_artist_name\n",
       "Anderson .Paak          333\n",
       "Shawn Mendes            208\n",
       "Julien Baker            177\n",
       "The Marcus King Band    140\n",
       "Kygo                    117\n",
       "Freddie King            114\n",
       "Justin Bieber           102\n",
       "Miguel                   95\n",
       "Maxwell                  94\n",
       "Justin Timberlake        93\n",
       "Name: listen_count, dtype: int64"
      ]
     },
     "metadata": {},
     "output_type": "display_data"
    },
    {
     "data": {
      "text/plain": [
       "'2018'"
      ]
     },
     "metadata": {},
     "output_type": "display_data"
    },
    {
     "data": {
      "text/plain": [
       "master_metadata_album_artist_name\n",
       "St. Paul & The Broken Bones    326\n",
       "Stan Taylor                    314\n",
       "Boyce Avenue                   251\n",
       "Big Sean                       186\n",
       "Drake                          149\n",
       "XXXTENTACION                    91\n",
       "Gary Clark Jr.                  90\n",
       "Lake Street Dive                89\n",
       "Leon Bridges                    87\n",
       "Sam Smith                       71\n",
       "Name: listen_count, dtype: int64"
      ]
     },
     "metadata": {},
     "output_type": "display_data"
    },
    {
     "data": {
      "text/plain": [
       "'2019'"
      ]
     },
     "metadata": {},
     "output_type": "display_data"
    },
    {
     "data": {
      "text/plain": [
       "master_metadata_album_artist_name\n",
       "Daniel Caesar                  376\n",
       "City and Colour                344\n",
       "Etta James                     236\n",
       "Pinegrove                      177\n",
       "Lewis Watson                   131\n",
       "The Dip                        130\n",
       "Creed                          123\n",
       "St. Paul & The Broken Bones    111\n",
       "The Smashing Pumpkins          105\n",
       "Musiq Soulchild                 92\n",
       "Name: listen_count, dtype: int64"
      ]
     },
     "metadata": {},
     "output_type": "display_data"
    },
    {
     "data": {
      "text/plain": [
       "'2020'"
      ]
     },
     "metadata": {},
     "output_type": "display_data"
    },
    {
     "data": {
      "text/plain": [
       "master_metadata_album_artist_name\n",
       "Pinegrove               496\n",
       "City and Colour         168\n",
       "The Marcus King Band    141\n",
       "The Teskey Brothers      66\n",
       "Tom Misch                59\n",
       "Justin Bieber            53\n",
       "Melanie Faye             49\n",
       "Marcus King              49\n",
       "Julien Baker             45\n",
       "blink-182                38\n",
       "Name: listen_count, dtype: int64"
      ]
     },
     "metadata": {},
     "output_type": "display_data"
    },
    {
     "data": {
      "text/plain": [
       "'2021'"
      ]
     },
     "metadata": {},
     "output_type": "display_data"
    },
    {
     "data": {
      "text/plain": [
       "master_metadata_album_artist_name\n",
       "Giveon               375\n",
       "Jazmine Sullivan     225\n",
       "SiR                  145\n",
       "Beyoncé               91\n",
       "Ella Mai              86\n",
       "Daniel Caesar         86\n",
       "Free Nationals        85\n",
       "Nia Sultana           83\n",
       "Holly Humberstone     80\n",
       "Adele                 70\n",
       "Name: listen_count, dtype: int64"
      ]
     },
     "metadata": {},
     "output_type": "display_data"
    },
    {
     "data": {
      "text/plain": [
       "'2022'"
      ]
     },
     "metadata": {},
     "output_type": "display_data"
    },
    {
     "data": {
      "text/plain": [
       "master_metadata_album_artist_name\n",
       "Beyoncé             226\n",
       "Summer Walker       213\n",
       "Adele               172\n",
       "Leon Bridges        105\n",
       "L.A.B.               92\n",
       "MEDUZA               79\n",
       "Jazmine Sullivan     72\n",
       "Kali Uchis           71\n",
       "Kanye West           70\n",
       "Steve Lacy           69\n",
       "Name: listen_count, dtype: int64"
      ]
     },
     "metadata": {},
     "output_type": "display_data"
    }
   ],
   "source": [
    "display('Top 10 Artists Each Year')\n",
    "display('2014')\n",
    "display(df2014.groupby('master_metadata_album_artist_name')['listen_count'].sum().sort_values(ascending =False)[:10])\n",
    "display('2015')\n",
    "display(df2015.groupby('master_metadata_album_artist_name')['listen_count'].sum().sort_values(ascending =False)[:10])\n",
    "display('2016')\n",
    "display(df2016.groupby('master_metadata_album_artist_name')['listen_count'].sum().sort_values(ascending =False)[:10])\n",
    "display('2017')\n",
    "display(df2017.groupby('master_metadata_album_artist_name')['listen_count'].sum().sort_values(ascending =False)[:10])\n",
    "display('2018')\n",
    "display(df2018.groupby('master_metadata_album_artist_name')['listen_count'].sum().sort_values(ascending =False)[:10])\n",
    "display('2019')\n",
    "display(df2019.groupby('master_metadata_album_artist_name')['listen_count'].sum().sort_values(ascending =False)[:10])\n",
    "display('2020')\n",
    "display(df2020.groupby('master_metadata_album_artist_name')['listen_count'].sum().sort_values(ascending =False)[:10])\n",
    "display('2021')\n",
    "display(df2021.groupby('master_metadata_album_artist_name')['listen_count'].sum().sort_values(ascending =False)[:10])\n",
    "display('2022')\n",
    "display(df2022.groupby('master_metadata_album_artist_name')['listen_count'].sum().sort_values(ascending =False)[:10])"
   ]
  },
  {
   "cell_type": "code",
   "execution_count": 200,
   "id": "b67b4645-b33a-4c0c-a357-a9fac7785881",
   "metadata": {},
   "outputs": [
    {
     "data": {
      "text/plain": [
       "'Top 10 Tracks Each Year'"
      ]
     },
     "metadata": {},
     "output_type": "display_data"
    },
    {
     "data": {
      "text/plain": [
       "'2014'"
      ]
     },
     "metadata": {},
     "output_type": "display_data"
    },
    {
     "data": {
      "text/plain": [
       "master_metadata_track_name\n",
       "Carry the Zero                  30\n",
       "Latch                           28\n",
       "Boyfriend - Acoustic Version    26\n",
       "Same Old Thing                  20\n",
       "Boyfriend                       20\n",
       "Psychotic Girl                  19\n",
       "So He Won't Break               18\n",
       "Lies                            18\n",
       "Is This Love                    17\n",
       "Time Bomb                       17\n",
       "Name: listen_count, dtype: int64"
      ]
     },
     "metadata": {},
     "output_type": "display_data"
    },
    {
     "data": {
      "text/plain": [
       "'2015'"
      ]
     },
     "metadata": {},
     "output_type": "display_data"
    },
    {
     "data": {
      "text/plain": [
       "master_metadata_track_name\n",
       "Have You Ever Loved A Woman       69\n",
       "Going Down - Remastered           43\n",
       "Fooled Around And Fell In Love    31\n",
       "Me And My Guitar                  31\n",
       "Just What I Am                    31\n",
       "I'm Not The Only One              31\n",
       "Life by the Drop                  30\n",
       "These Arms of Mine                28\n",
       "I'd Rather Go Blind               27\n",
       "Amsterdam                         27\n",
       "Name: listen_count, dtype: int64"
      ]
     },
     "metadata": {},
     "output_type": "display_data"
    },
    {
     "data": {
      "text/plain": [
       "'2016'"
      ]
     },
     "metadata": {},
     "output_type": "display_data"
    },
    {
     "data": {
      "text/plain": [
       "master_metadata_track_name\n",
       "Earth Angel                                52\n",
       "Sprained Ankle                             49\n",
       "Something                                  45\n",
       "When a Man Loves a Woman                   39\n",
       "Rejoice                                    36\n",
       "Sometimes I Cry                            35\n",
       "Crash into Me                              35\n",
       "Brittle Boned                              31\n",
       "Just the Two of Us (feat. Bill Withers)    31\n",
       "It's A Man's, Man's, Man's World           31\n",
       "Name: listen_count, dtype: int64"
      ]
     },
     "metadata": {},
     "output_type": "display_data"
    },
    {
     "data": {
      "text/plain": [
       "'2017'"
      ]
     },
     "metadata": {},
     "output_type": "display_data"
    },
    {
     "data": {
      "text/plain": [
       "master_metadata_track_name\n",
       "The Bird                                 48\n",
       "Am I Wrong (feat. ScHoolboy Q)           46\n",
       "Heart Don't Stand a Chance               41\n",
       "Come Down                                40\n",
       "The Waters (feat. BJ the Chicago Kid)    34\n",
       "Mercy                                    34\n",
       "There's Nothing Holdin' Me Back          32\n",
       "Treat You Better                         31\n",
       "Put Me Thru                              29\n",
       "I Can't Make You Love Me                 29\n",
       "Name: listen_count, dtype: int64"
      ]
     },
     "metadata": {},
     "output_type": "display_data"
    },
    {
     "data": {
      "text/plain": [
       "'2018'"
      ]
     },
     "metadata": {},
     "output_type": "display_data"
    },
    {
     "data": {
      "text/plain": [
       "master_metadata_track_name\n",
       "Jocelyn Flores                            86\n",
       "Living Single                             68\n",
       "True Colors                               62\n",
       "Me and Mrs. Jones                         48\n",
       "Grass Is Greener                          43\n",
       "Let's Stay Together                       34\n",
       "Flow with It (You Got Me Feeling Like)    33\n",
       "You Were Meant for Me                     33\n",
       "Go Legend (& Metro Boomin)                33\n",
       "Sanctify                                  32\n",
       "Name: listen_count, dtype: int64"
      ]
     },
     "metadata": {},
     "output_type": "display_data"
    },
    {
     "data": {
      "text/plain": [
       "'2019'"
      ]
     },
     "metadata": {},
     "output_type": "display_data"
    },
    {
     "data": {
      "text/plain": [
       "master_metadata_track_name\n",
       "Omen - Radio Edit             82\n",
       "Hello, I'm In Delaware        63\n",
       "Day Old Hate                  55\n",
       "Never in My Wildest Dreams    55\n",
       "Get You (feat. Kali Uchis)    50\n",
       "One Last Breath               49\n",
       "Aphasia                       43\n",
       "Atlas                         41\n",
       "Sam Malone                    39\n",
       "Blessed                       36\n",
       "Name: listen_count, dtype: int64"
      ]
     },
     "metadata": {},
     "output_type": "display_data"
    },
    {
     "data": {
      "text/plain": [
       "'2020'"
      ]
     },
     "metadata": {},
     "output_type": "display_data"
    },
    {
     "data": {
      "text/plain": [
       "master_metadata_track_name\n",
       "The Alarmist      68\n",
       "No Drugs          42\n",
       "Moment            39\n",
       "Hairpin           31\n",
       "Phase             27\n",
       "Darkness          26\n",
       "Endless           26\n",
       "Aphasia           23\n",
       "Old Friends       21\n",
       "Look After You    18\n",
       "Name: listen_count, dtype: int64"
      ]
     },
     "metadata": {},
     "output_type": "display_data"
    },
    {
     "data": {
      "text/plain": [
       "'2021'"
      ]
     },
     "metadata": {},
     "output_type": "display_data"
    },
    {
     "data": {
      "text/plain": [
       "master_metadata_track_name\n",
       "Favorite Mistake                  73\n",
       "Like I Want You                   59\n",
       "Heartbreak Anniversary            57\n",
       "You Can't Save Me                 55\n",
       "Not Another Love Song             52\n",
       "Later                             47\n",
       "Girl Like Me (feat. H.E.R.)       46\n",
       "On It                             42\n",
       "This Ain't Love                   41\n",
       "Thinking 'Bout Love - Acoustic    40\n",
       "Name: listen_count, dtype: int64"
      ]
     },
     "metadata": {},
     "output_type": "display_data"
    },
    {
     "data": {
      "text/plain": [
       "'2022'"
      ]
     },
     "metadata": {},
     "output_type": "display_data"
    },
    {
     "data": {
      "text/plain": [
       "master_metadata_track_name\n",
       "CPR                                107\n",
       "Coming Home                         72\n",
       "Lose Control                        72\n",
       "Session 32                          64\n",
       "telepatía                           63\n",
       "One Right Now (with The Weeknd)     61\n",
       "Hometown Glory                      59\n",
       "In the Air                          57\n",
       "On It                               52\n",
       "Bad Habit                           50\n",
       "Name: listen_count, dtype: int64"
      ]
     },
     "metadata": {},
     "output_type": "display_data"
    }
   ],
   "source": [
    "display('Top 10 Tracks Each Year')\n",
    "display('2014')\n",
    "display(df2014.groupby('master_metadata_track_name')['listen_count'].sum().sort_values(ascending =False)[:10])\n",
    "display('2015')\n",
    "display(df2015.groupby('master_metadata_track_name')['listen_count'].sum().sort_values(ascending =False)[:10])\n",
    "display('2016')\n",
    "display(df2016.groupby('master_metadata_track_name')['listen_count'].sum().sort_values(ascending =False)[:10])\n",
    "display('2017')\n",
    "display(df2017.groupby('master_metadata_track_name')['listen_count'].sum().sort_values(ascending =False)[:10])\n",
    "display('2018')\n",
    "display(df2018.groupby('master_metadata_track_name')['listen_count'].sum().sort_values(ascending =False)[:10])\n",
    "display('2019')\n",
    "display(df2019.groupby('master_metadata_track_name')['listen_count'].sum().sort_values(ascending =False)[:10])\n",
    "display('2020')\n",
    "display(df2020.groupby('master_metadata_track_name')['listen_count'].sum().sort_values(ascending =False)[:10])\n",
    "display('2021')\n",
    "display(df2021.groupby('master_metadata_track_name')['listen_count'].sum().sort_values(ascending =False)[:10])\n",
    "display('2022')\n",
    "display(df2022.groupby('master_metadata_track_name')['listen_count'].sum().sort_values(ascending =False)[:10])"
   ]
  },
  {
   "cell_type": "code",
   "execution_count": 192,
   "id": "81171e72-5162-4bcb-a444-5f235f0e2577",
   "metadata": {},
   "outputs": [
    {
     "data": {
      "image/png": "[encoded data removed]",
      "text/plain": [
       "<Figure size 576x576 with 4 Axes>"
      ]
     },
     "metadata": {
      "needs_background": "light"
     },
     "output_type": "display_data"
    }
   ],
   "source": [
    "#Last 4 years acousticness\n",
    "sns.displot(data=extended[extended['year'].isin(['2022','2021','2019','2020'])], x='acousticness', col = 'year', col_wrap=2, common_bins=True, bins=4, height=4);"
   ]
  },
  {
   "cell_type": "code",
   "execution_count": 193,
   "id": "91feae06-4215-407a-978a-4cda13df8ead",
   "metadata": {},
   "outputs": [
    {
     "data": {
      "image/png": "[encoded data removed]",
      "text/plain": [
       "<Figure size 576x576 with 4 Axes>"
      ]
     },
     "metadata": {
      "needs_background": "light"
     },
     "output_type": "display_data"
    }
   ],
   "source": [
    "#Last 4 years instrumental\n",
    "sns.displot(data=extended[extended['year'].isin(['2022','2021','2019','2020'])], x='instrumentalness', col = 'year', col_wrap=2, common_bins=True, bins=4, height=4);"
   ]
  },
  {
   "cell_type": "code",
   "execution_count": 196,
   "id": "25a08c0a-49ed-49bb-a13b-ce7d6a579ebc",
   "metadata": {},
   "outputs": [
    {
     "data": {
      "image/png": "[encoded data removed]",
      "text/plain": [
       "<Figure size 576x576 with 4 Axes>"
      ]
     },
     "metadata": {
      "needs_background": "light"
     },
     "output_type": "display_data"
    }
   ],
   "source": [
    "#Last 4 years energy\n",
    "sns.displot(data=extended[extended['year'].isin(['2022','2021','2019','2020'])], x='energy', col = 'year', col_wrap=2, common_bins=True, bins=4, height=4);"
   ]
  },
  {
   "cell_type": "code",
   "execution_count": 197,
   "id": "651efc4f-6a7c-41aa-bd3a-4753f4b651d1",
   "metadata": {},
   "outputs": [
    {
     "data": {
      "image/png": "[encoded data removed]",
      "text/plain": [
       "<Figure size 576x576 with 4 Axes>"
      ]
     },
     "metadata": {
      "needs_background": "light"
     },
     "output_type": "display_data"
    }
   ],
   "source": [
    "#Last 4 years danceability\n",
    "sns.displot(data=extended[extended['year'].isin(['2022','2021','2019','2020'])], x='danceability', col = 'year', col_wrap=2, common_bins=True, bins=4, height=4);"
   ]
  },
  {
   "cell_type": "code",
   "execution_count": 198,
   "id": "bc2aa9a0-8436-4641-8840-69632fef2b1e",
   "metadata": {},
   "outputs": [
    {
     "data": {
      "image/png": "[encoded data removed]",
      "text/plain": [
       "<Figure size 576x576 with 4 Axes>"
      ]
     },
     "metadata": {
      "needs_background": "light"
     },
     "output_type": "display_data"
    }
   ],
   "source": [
    "#Last 4 years tempo\n",
    "sns.displot(data=extended[extended['year'].isin(['2022','2021','2019','2020'])], x='tempo', col = 'year', col_wrap=2, common_bins=True, bins=4, height=4);"
   ]
  },
  {
   "cell_type": "code",
   "execution_count": 199,
   "id": "ae45b02f-f8f1-403f-8e2c-f60ecded0757",
   "metadata": {},
   "outputs": [
    {
     "data": {
      "image/png": "[encoded data removed]",
      "text/plain": [
       "<Figure size 576x576 with 4 Axes>"
      ]
     },
     "metadata": {
      "needs_background": "light"
     },
     "output_type": "display_data"
    }
   ],
   "source": [
    "#Last 4 years loudness\n",
    "sns.displot(data=extended[extended['year'].isin(['2022','2021','2019','2020'])], x='loudness', col = 'year', col_wrap=2, common_bins=True, bins=4, height=4);"
   ]
  },
  {
   "cell_type": "code",
   "execution_count": null,
   "id": "6544e5a6-f881-4a93-8a96-c4227d809eeb",
   "metadata": {},
   "outputs": [],
   "source": [
    "#lineplot the mean features value over year"
   ]
  },
  {
   "cell_type": "code",
   "execution_count": null,
   "id": "753cfd72-0189-42bd-a26c-ec123caa5047",
   "metadata": {},
   "outputs": [],
   "source": []
  }
 ],
 "metadata": {
  "kernelspec": {
   "display_name": "Python 3 (ipykernel)",
   "language": "python",
   "name": "python3"
  },
  "language_info": {
   "codemirror_mode": {
    "name": "ipython",
    "version": 3
   },
   "file_extension": ".py",
   "mimetype": "text/x-python",
   "name": "python",
   "nbconvert_exporter": "python",
   "pygments_lexer": "ipython3",
   "version": "3.9.12"
  }
 },
 "nbformat": 4,
 "nbformat_minor": 5
}
