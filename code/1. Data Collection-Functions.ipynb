{
 "cells": [
  {
   "cell_type": "markdown",
   "id": "09b66c4d-d672-48bf-a793-674ef9374113",
   "metadata": {},
   "source": [
    "## Data Collection\n",
    "In this notebook I will pull in data from spotify. First I will pull in a json file which includes 1 year of my listening history that I requested from Spotify. Once I have this data I will pull in various features from the spotify API relating to each artist and track in my listening history. Lastly I will collect a library of similar datapoints for thousands of tracks which I can use to compare to a users listening history to surface recommendations.\n",
    "\n",
    "1- Spotify Listening History- 1 year listening history from Spotify\n",
    "<br>2- Spotify API\n",
    "<br>3- Kaggle Spotify Library"
   ]
  },
  {
   "cell_type": "code",
   "execution_count": 1,
   "id": "a44e2963-9b97-4356-b612-c2b769d20134",
   "metadata": {},
   "outputs": [],
   "source": [
    "import pandas as pd\n",
    "import numpy as np\n",
    "import matplotlib.pyplot as plt\n",
    "import time"
   ]
  },
  {
   "cell_type": "code",
   "execution_count": 2,
   "id": "b349a7c7-fc5f-4894-b167-17bfd1201652",
   "metadata": {},
   "outputs": [],
   "source": [
    "streaming_df = pd.read_json('../data/StreamingHistory0.json')"
   ]
  },
  {
   "cell_type": "code",
   "execution_count": 3,
   "id": "a657d947-b4c7-495c-aa3a-647da5e68246",
   "metadata": {},
   "outputs": [
    {
     "data": {
      "text/html": [
       "<div>\n",
       "<style scoped>\n",
       "    .dataframe tbody tr th:only-of-type {\n",
       "        vertical-align: middle;\n",
       "    }\n",
       "\n",
       "    .dataframe tbody tr th {\n",
       "        vertical-align: top;\n",
       "    }\n",
       "\n",
       "    .dataframe thead th {\n",
       "        text-align: right;\n",
       "    }\n",
       "</style>\n",
       "<table border=\"1\" class=\"dataframe\">\n",
       "  <thead>\n",
       "    <tr style=\"text-align: right;\">\n",
       "      <th></th>\n",
       "      <th>endTime</th>\n",
       "      <th>artistName</th>\n",
       "      <th>trackName</th>\n",
       "      <th>msPlayed</th>\n",
       "      <th>count</th>\n",
       "    </tr>\n",
       "  </thead>\n",
       "  <tbody>\n",
       "    <tr>\n",
       "      <th>0</th>\n",
       "      <td>2021-10-26 23:02</td>\n",
       "      <td>Daniel Caesar</td>\n",
       "      <td>Transform (feat. Charlotte Day Wilson)</td>\n",
       "      <td>277984</td>\n",
       "      <td>1</td>\n",
       "    </tr>\n",
       "  </tbody>\n",
       "</table>\n",
       "</div>"
      ],
      "text/plain": [
       "            endTime     artistName                               trackName  \\\n",
       "0  2021-10-26 23:02  Daniel Caesar  Transform (feat. Charlotte Day Wilson)   \n",
       "\n",
       "   msPlayed  count  \n",
       "0    277984      1  "
      ]
     },
     "execution_count": 3,
     "metadata": {},
     "output_type": "execute_result"
    }
   ],
   "source": [
    "streaming_df['count'] = 1\n",
    "streaming_df.head(1)"
   ]
  },
  {
   "cell_type": "code",
   "execution_count": 4,
   "id": "00a88724-ee44-467d-b873-8ddb17ddcc01",
   "metadata": {},
   "outputs": [
    {
     "data": {
      "text/html": [
       "<div>\n",
       "<style scoped>\n",
       "    .dataframe tbody tr th:only-of-type {\n",
       "        vertical-align: middle;\n",
       "    }\n",
       "\n",
       "    .dataframe tbody tr th {\n",
       "        vertical-align: top;\n",
       "    }\n",
       "\n",
       "    .dataframe thead th {\n",
       "        text-align: right;\n",
       "    }\n",
       "</style>\n",
       "<table border=\"1\" class=\"dataframe\">\n",
       "  <thead>\n",
       "    <tr style=\"text-align: right;\">\n",
       "      <th></th>\n",
       "      <th>valence</th>\n",
       "      <th>year</th>\n",
       "      <th>acousticness</th>\n",
       "      <th>artists</th>\n",
       "      <th>danceability</th>\n",
       "      <th>duration_ms</th>\n",
       "      <th>energy</th>\n",
       "      <th>explicit</th>\n",
       "      <th>id</th>\n",
       "      <th>instrumentalness</th>\n",
       "      <th>key</th>\n",
       "      <th>liveness</th>\n",
       "      <th>loudness</th>\n",
       "      <th>mode</th>\n",
       "      <th>name</th>\n",
       "      <th>popularity</th>\n",
       "      <th>release_date</th>\n",
       "      <th>speechiness</th>\n",
       "      <th>tempo</th>\n",
       "    </tr>\n",
       "  </thead>\n",
       "  <tbody>\n",
       "    <tr>\n",
       "      <th>0</th>\n",
       "      <td>0.0594</td>\n",
       "      <td>1921</td>\n",
       "      <td>0.982</td>\n",
       "      <td>['Sergei Rachmaninoff', 'James Levine', 'Berli...</td>\n",
       "      <td>0.279</td>\n",
       "      <td>831667</td>\n",
       "      <td>0.211</td>\n",
       "      <td>0</td>\n",
       "      <td>4BJqT0PrAfrxzMOxytFOIz</td>\n",
       "      <td>0.878</td>\n",
       "      <td>10</td>\n",
       "      <td>0.665</td>\n",
       "      <td>-20.096</td>\n",
       "      <td>1</td>\n",
       "      <td>Piano Concerto No. 3 in D Minor, Op. 30: III. ...</td>\n",
       "      <td>4</td>\n",
       "      <td>1921</td>\n",
       "      <td>0.0366</td>\n",
       "      <td>80.954</td>\n",
       "    </tr>\n",
       "  </tbody>\n",
       "</table>\n",
       "</div>"
      ],
      "text/plain": [
       "   valence  year  acousticness  \\\n",
       "0   0.0594  1921         0.982   \n",
       "\n",
       "                                             artists  danceability  \\\n",
       "0  ['Sergei Rachmaninoff', 'James Levine', 'Berli...         0.279   \n",
       "\n",
       "   duration_ms  energy  explicit                      id  instrumentalness  \\\n",
       "0       831667   0.211         0  4BJqT0PrAfrxzMOxytFOIz             0.878   \n",
       "\n",
       "   key  liveness  loudness  mode  \\\n",
       "0   10     0.665   -20.096     1   \n",
       "\n",
       "                                                name  popularity release_date  \\\n",
       "0  Piano Concerto No. 3 in D Minor, Op. 30: III. ...           4         1921   \n",
       "\n",
       "   speechiness   tempo  \n",
       "0       0.0366  80.954  "
      ]
     },
     "execution_count": 4,
     "metadata": {},
     "output_type": "execute_result"
    }
   ],
   "source": [
    "#load kaggle data\n",
    "kaggle_df = pd.read_csv('../data/data.csv')\n",
    "kaggle_df.head(1)"
   ]
  },
  {
   "cell_type": "code",
   "execution_count": 5,
   "id": "e56422c9-c598-4973-a5ce-c4da25e38ae1",
   "metadata": {},
   "outputs": [
    {
     "name": "stdout",
     "output_type": "stream",
     "text": [
      "<class 'pandas.core.frame.DataFrame'>\n",
      "RangeIndex: 170653 entries, 0 to 170652\n",
      "Data columns (total 19 columns):\n",
      " #   Column            Non-Null Count   Dtype  \n",
      "---  ------            --------------   -----  \n",
      " 0   valence           170653 non-null  float64\n",
      " 1   year              170653 non-null  int64  \n",
      " 2   acousticness      170653 non-null  float64\n",
      " 3   artists           170653 non-null  object \n",
      " 4   danceability      170653 non-null  float64\n",
      " 5   duration_ms       170653 non-null  int64  \n",
      " 6   energy            170653 non-null  float64\n",
      " 7   explicit          170653 non-null  int64  \n",
      " 8   id                170653 non-null  object \n",
      " 9   instrumentalness  170653 non-null  float64\n",
      " 10  key               170653 non-null  int64  \n",
      " 11  liveness          170653 non-null  float64\n",
      " 12  loudness          170653 non-null  float64\n",
      " 13  mode              170653 non-null  int64  \n",
      " 14  name              170653 non-null  object \n",
      " 15  popularity        170653 non-null  int64  \n",
      " 16  release_date      170653 non-null  object \n",
      " 17  speechiness       170653 non-null  float64\n",
      " 18  tempo             170653 non-null  float64\n",
      "dtypes: float64(9), int64(6), object(4)\n",
      "memory usage: 24.7+ MB\n"
     ]
    }
   ],
   "source": [
    "kaggle_df.info()"
   ]
  },
  {
   "cell_type": "markdown",
   "id": "f1491a4b-6c6f-4459-98d7-b27f2cb7454c",
   "metadata": {},
   "source": [
    "### Extended Spotify Streaming History"
   ]
  },
  {
   "cell_type": "code",
   "execution_count": 6,
   "id": "d879f7c8-4a27-48c7-9220-910ac52a0972",
   "metadata": {},
   "outputs": [],
   "source": [
    "extended = pd.read_json('../data/endsong_0.json')\n",
    "extended1 = pd.read_json('../data/endsong_1.json')\n",
    "extended2 = pd.read_json('../data/endsong_2.json')\n",
    "extended = pd.concat([extended, extended1, extended2])"
   ]
  },
  {
   "cell_type": "code",
   "execution_count": 7,
   "id": "192c1bd8-e6be-4b7b-b93f-4081e065cef6",
   "metadata": {},
   "outputs": [
    {
     "name": "stdout",
     "output_type": "stream",
     "text": [
      "<class 'pandas.core.frame.DataFrame'>\n",
      "RangeIndex: 39734 entries, 0 to 39733\n",
      "Data columns (total 21 columns):\n",
      " #   Column                             Non-Null Count  Dtype  \n",
      "---  ------                             --------------  -----  \n",
      " 0   ts                                 39734 non-null  object \n",
      " 1   username                           39734 non-null  int64  \n",
      " 2   platform                           39734 non-null  object \n",
      " 3   ms_played                          39734 non-null  int64  \n",
      " 4   conn_country                       39734 non-null  object \n",
      " 5   ip_addr_decrypted                  39734 non-null  object \n",
      " 6   user_agent_decrypted               38370 non-null  object \n",
      " 7   master_metadata_track_name         39716 non-null  object \n",
      " 8   master_metadata_album_artist_name  39716 non-null  object \n",
      " 9   master_metadata_album_album_name   39716 non-null  object \n",
      " 10  spotify_track_uri                  39716 non-null  object \n",
      " 11  episode_name                       18 non-null     object \n",
      " 12  episode_show_name                  18 non-null     object \n",
      " 13  spotify_episode_uri                18 non-null     object \n",
      " 14  reason_start                       39734 non-null  object \n",
      " 15  reason_end                         39734 non-null  object \n",
      " 16  shuffle                            39734 non-null  bool   \n",
      " 17  skipped                            8611 non-null   float64\n",
      " 18  offline                            39734 non-null  bool   \n",
      " 19  offline_timestamp                  39734 non-null  int64  \n",
      " 20  incognito_mode                     39734 non-null  bool   \n",
      "dtypes: bool(3), float64(1), int64(3), object(14)\n",
      "memory usage: 5.6+ MB\n"
     ]
    }
   ],
   "source": [
    "extended.reset_index(drop = True, inplace = True)\n",
    "extended.info()"
   ]
  },
  {
   "cell_type": "markdown",
   "id": "4ba36c83-4f74-4527-baa5-5f249119db30",
   "metadata": {},
   "source": [
    "### Spotify API"
   ]
  },
  {
   "cell_type": "code",
   "execution_count": 15,
   "id": "160f3010-03fa-429b-b4fa-10307195dfb9",
   "metadata": {},
   "outputs": [],
   "source": [
    "#throw my keys into a .py file and call to it here so that my keys are hidden\n",
    "import spotipy\n",
    "import config\n",
    "\n",
    "from spotipy.oauth2 import SpotifyClientCredentials\n",
    "client_credentials_manager = SpotifyClientCredentials(client_id=config.cid, client_secret=config.secret)\n",
    "sp = spotipy.Spotify(client_credentials_manager = client_credentials_manager)"
   ]
  },
  {
   "cell_type": "code",
   "execution_count": 7,
   "id": "fb6ce4bd-01b8-4d46-bb29-f3939c71b3d6",
   "metadata": {},
   "outputs": [],
   "source": [
    "def artist_features(data):\n",
    "    artist = []\n",
    "    artist_id = []\n",
    "    genres = []\n",
    "    artist_popularity= []\n",
    "    followers = []\n",
    "    \n",
    "    for i in data:\n",
    "        results = sp.search(q=f'artist: {i}', type='artist', limit=10)\n",
    "        for i, t in enumerate(results['artists']['items']):\n",
    "            artist.append(t['name'])\n",
    "            artist_id.append(t['id'])\n",
    "            genres.append(t['genres'])\n",
    "            artist_popularity.append(t['popularity'])\n",
    "            followers.append(t['followers']['total'])\n",
    "    \n",
    "#     return pd.DataFrame([artist_id[0], artist[0], genres[0], artist_popularity[0], followers[0]], \n",
    "#                         columns = ['artist_id', 'artist', 'genres', 'artist_popularity', 'followers'])\n",
    "    \n",
    "    artist_feats = pd.DataFrame(artist_id, columns = ['artist_id'])\n",
    "    artist_feats['artistName'] = artist\n",
    "    artist_feats['genres'] = genres\n",
    "    artist_feats['artist_popularity'] = artist_popularity\n",
    "    artist_feats['followers'] = followers\n",
    "    \n",
    "    return artist_feats\n",
    "\n",
    "\n",
    "def track_names(data):\n",
    "    trackName = []\n",
    "    trackID = []\n",
    "    \n",
    "    for a,t in data:\n",
    "        results = sp.search(q=\"artist:\" + a + \" track:\" + t, type=\"track\", limit =1)\n",
    "        for i, t in enumerate(results['tracks']['items']):\n",
    "            trackName.append(t['name'])\n",
    "            trackID.append(t['id'])\n",
    "    \n",
    "    tracks = pd.DataFrame(trackID, columns = ['trackID'])\n",
    "    tracks['trackName'] = trackName\n",
    "    \n",
    "    return tracks"
   ]
  },
  {
   "cell_type": "code",
   "execution_count": 8,
   "id": "ffda9862-e1d7-4dea-8a9e-761ff10354ad",
   "metadata": {},
   "outputs": [],
   "source": [
    "def track_features(data):\n",
    "    danceability = []\n",
    "    energy = []\n",
    "    key = []\n",
    "    loudness = []\n",
    "    mode = []\n",
    "    speechiness = []\n",
    "    acousticness = []\n",
    "    instrumentalness = []\n",
    "    liveness = []\n",
    "    valence = []\n",
    "    tempo = []\n",
    "    track_id = []\n",
    "    duration_ms = []\n",
    "    time_signature = []\n",
    "    \n",
    "    for t in data:\n",
    "        try:\n",
    "            results = sp.audio_features(tracks = t)\n",
    "            danceability.append(results[0]['danceability'])\n",
    "            energy.append(results[0]['energy'])\n",
    "            key.append(results[0]['key'])\n",
    "            loudness.append(results[0]['loudness'])\n",
    "            mode.append(results[0]['mode'])\n",
    "            speechiness.append(results[0]['speechiness'])\n",
    "            acousticness.append(results[0]['acousticness'])\n",
    "            instrumentalness.append(results[0]['instrumentalness'])\n",
    "            liveness.append(results[0]['liveness'])\n",
    "            valence.append(results[0]['valence'])\n",
    "            tempo.append(results[0]['tempo'])\n",
    "            track_id.append(results[0]['id'])\n",
    "            duration_ms.append(results[0]['duration_ms'])\n",
    "            time_signature.append(results[0]['time_signature'])\n",
    "        except:\n",
    "            pass\n",
    "\n",
    "#     return pd.DataFrame([artist_id[0], artist[0], genres[0], artist_popularity[0], followers[0]], \n",
    "#                         columns = ['artist_id', 'artist', 'genres', 'artist_popularity', 'followers'])\n",
    "    \n",
    "    track_features = pd.DataFrame(track_id, columns = ['trackID'])\n",
    "    track_features['danceability'] = danceability\n",
    "    track_features['energy'] = energy\n",
    "    track_features['key'] = key\n",
    "    track_features['loudness'] = loudness \n",
    "    track_features['mode'] = mode \n",
    "    track_features['speechiness'] = speechiness\n",
    "    track_features['acousticness'] = acousticness\n",
    "    track_features['instrumentalness'] = instrumentalness\n",
    "    track_features['liveness'] = liveness\n",
    "    track_features['valence'] = valence\n",
    "    track_features['tempo'] = tempo\n",
    "    track_features['duration_ms'] = duration_ms\n",
    "    track_features['time_signature'] = time_signature\n",
    "    \n",
    "    return track_features"
   ]
  },
  {
   "cell_type": "code",
   "execution_count": 8,
   "id": "02232df0-733a-4dd1-9c81-33fcca2b7eb6",
   "metadata": {},
   "outputs": [
    {
     "data": {
      "text/html": [
       "<div>\n",
       "<style scoped>\n",
       "    .dataframe tbody tr th:only-of-type {\n",
       "        vertical-align: middle;\n",
       "    }\n",
       "\n",
       "    .dataframe tbody tr th {\n",
       "        vertical-align: top;\n",
       "    }\n",
       "\n",
       "    .dataframe thead th {\n",
       "        text-align: right;\n",
       "    }\n",
       "</style>\n",
       "<table border=\"1\" class=\"dataframe\">\n",
       "  <thead>\n",
       "    <tr style=\"text-align: right;\">\n",
       "      <th></th>\n",
       "      <th>trackID</th>\n",
       "      <th>danceability</th>\n",
       "      <th>energy</th>\n",
       "      <th>key</th>\n",
       "      <th>loudness</th>\n",
       "      <th>mode</th>\n",
       "      <th>speechiness</th>\n",
       "      <th>acousticness</th>\n",
       "      <th>instrumentalness</th>\n",
       "      <th>liveness</th>\n",
       "      <th>valence</th>\n",
       "      <th>tempo</th>\n",
       "      <th>duration_ms</th>\n",
       "      <th>time_signature</th>\n",
       "    </tr>\n",
       "  </thead>\n",
       "  <tbody>\n",
       "    <tr>\n",
       "      <th>0</th>\n",
       "      <td>5h5T5gtl1RqMxOuQ5O8rzs</td>\n",
       "      <td>0.865</td>\n",
       "      <td>0.549</td>\n",
       "      <td>0</td>\n",
       "      <td>-10.083</td>\n",
       "      <td>1</td>\n",
       "      <td>0.2440</td>\n",
       "      <td>0.0845</td>\n",
       "      <td>0.156</td>\n",
       "      <td>0.081</td>\n",
       "      <td>0.616</td>\n",
       "      <td>142.800</td>\n",
       "      <td>233300</td>\n",
       "      <td>4</td>\n",
       "    </tr>\n",
       "    <tr>\n",
       "      <th>1</th>\n",
       "      <td>6z4uqDqO9LLdsW3i8GR9Li</td>\n",
       "      <td>0.424</td>\n",
       "      <td>0.204</td>\n",
       "      <td>8</td>\n",
       "      <td>-12.952</td>\n",
       "      <td>0</td>\n",
       "      <td>0.0907</td>\n",
       "      <td>0.7790</td>\n",
       "      <td>0.842</td>\n",
       "      <td>0.110</td>\n",
       "      <td>0.334</td>\n",
       "      <td>83.934</td>\n",
       "      <td>147632</td>\n",
       "      <td>4</td>\n",
       "    </tr>\n",
       "  </tbody>\n",
       "</table>\n",
       "</div>"
      ],
      "text/plain": [
       "                  trackID  danceability  energy  key  loudness  mode  \\\n",
       "0  5h5T5gtl1RqMxOuQ5O8rzs         0.865   0.549    0   -10.083     1   \n",
       "1  6z4uqDqO9LLdsW3i8GR9Li         0.424   0.204    8   -12.952     0   \n",
       "\n",
       "   speechiness  acousticness  instrumentalness  liveness  valence    tempo  \\\n",
       "0       0.2440        0.0845             0.156     0.081    0.616  142.800   \n",
       "1       0.0907        0.7790             0.842     0.110    0.334   83.934   \n",
       "\n",
       "   duration_ms  time_signature  \n",
       "0       233300               4  \n",
       "1       147632               4  "
      ]
     },
     "execution_count": 8,
     "metadata": {},
     "output_type": "execute_result"
    }
   ],
   "source": [
    "track_features(['5h5T5gtl1RqMxOuQ5O8rzs', '6z4uqDqO9LLdsW3i8GR9Li'])"
   ]
  },
  {
   "cell_type": "code",
   "execution_count": 16,
   "id": "ede94929-b1d2-4ba2-94a8-5315dd1f9888",
   "metadata": {},
   "outputs": [],
   "source": [
    "batches = np.array_split(kaggle_df['artists'].unique(), 1000)\n",
    "test = [artist_features(x) for x in batches[0]]"
   ]
  },
  {
   "cell_type": "code",
   "execution_count": 12,
   "id": "dfbc6169-5a7c-4eaf-8f59-dbf9961b51a1",
   "metadata": {},
   "outputs": [
    {
     "data": {
      "text/plain": [
       "954"
      ]
     },
     "execution_count": 12,
     "metadata": {},
     "output_type": "execute_result"
    }
   ],
   "source": [
    "batches = np.array_split(streaming_df['artistName'], 4)\n",
    "len(batches[0])`"
   ]
  },
  {
   "cell_type": "code",
   "execution_count": null,
   "id": "16c14907-4c87-4126-9ddc-1613cf3016b5",
   "metadata": {},
   "outputs": [],
   "source": [
    "#split the data into 4 chunks to be processed individually. First try in a for loop then put it into a function\n",
    "batches = np.array_split(streaming_df['artistName'], 5)\n",
    "art_feat = [artist_features(x) for x in batches[0]]\n",
    "\n",
    "#concatenate the results into one dataframe and drop the duplicates\n",
    "test = pd.concat([art_feat[0], art_feat[1], art_feat[2], art_feat[3]], axis = 0)\n",
    "test.drop_duplicates(subset = 'artistName', inplace = True)\n",
    "test"
   ]
  },
  {
   "cell_type": "code",
   "execution_count": null,
   "id": "e58417bd-58ab-4e2b-a162-6b4d032ab8f0",
   "metadata": {},
   "outputs": [],
   "source": [
    "final = pd.merge(streaming_df, test, how = \"left\", on = ['artistName', 'artistName'])\n",
    "final.shape"
   ]
  },
  {
   "cell_type": "code",
   "execution_count": null,
   "id": "b9446ed1-36a7-4e31-b6eb-ab2f4c34f6a4",
   "metadata": {},
   "outputs": [],
   "source": [
    "final.isnull().sum()"
   ]
  },
  {
   "cell_type": "code",
   "execution_count": null,
   "id": "8548f29b-fd53-4ca1-ae1d-65f9f884b06a",
   "metadata": {},
   "outputs": [],
   "source": [
    "final.dropna(inplace= True)"
   ]
  },
  {
   "cell_type": "code",
   "execution_count": null,
   "id": "aa3b9b54-a3f4-4254-b364-d4970145db32",
   "metadata": {},
   "outputs": [],
   "source": [
    "#split the data into 4 chunks to be processed individually. First try in a for loop then put it into a function\n",
    "batches = np.array_split(list(final[['artistName', 'trackName']].itertuples(index=False, name=None)), 4)\n",
    "tracks = [track_names(x) for x in batches]"
   ]
  },
  {
   "cell_type": "code",
   "execution_count": null,
   "id": "495a1c85-5a1b-4a14-87b1-3075f25f8633",
   "metadata": {},
   "outputs": [],
   "source": [
    "#concatenate the results into one dataframe and drop the duplicates\n",
    "test_track = pd.concat([tracks[0], tracks[1], tracks[2], tracks[3]], axis = 0)\n",
    "test_track.drop_duplicates(subset = 'trackName', inplace = True)\n",
    "test_track"
   ]
  },
  {
   "cell_type": "code",
   "execution_count": 12,
   "id": "d5a5f4e0-5ee6-42ea-8b52-e400a1a1172f",
   "metadata": {},
   "outputs": [],
   "source": [
    "%store -r history"
   ]
  },
  {
   "cell_type": "code",
   "execution_count": 13,
   "id": "9530b34d-b474-4d70-afce-d3906c97d423",
   "metadata": {},
   "outputs": [
    {
     "data": {
      "text/html": [
       "<div>\n",
       "<style scoped>\n",
       "    .dataframe tbody tr th:only-of-type {\n",
       "        vertical-align: middle;\n",
       "    }\n",
       "\n",
       "    .dataframe tbody tr th {\n",
       "        vertical-align: top;\n",
       "    }\n",
       "\n",
       "    .dataframe thead th {\n",
       "        text-align: right;\n",
       "    }\n",
       "</style>\n",
       "<table border=\"1\" class=\"dataframe\">\n",
       "  <thead>\n",
       "    <tr style=\"text-align: right;\">\n",
       "      <th></th>\n",
       "      <th>endTime</th>\n",
       "      <th>artistName</th>\n",
       "      <th>trackName</th>\n",
       "      <th>msPlayed</th>\n",
       "      <th>count</th>\n",
       "      <th>artist_id</th>\n",
       "      <th>genres</th>\n",
       "      <th>artist_popularity</th>\n",
       "      <th>followers</th>\n",
       "      <th>trackID</th>\n",
       "      <th>...</th>\n",
       "      <th>loudness</th>\n",
       "      <th>mode</th>\n",
       "      <th>speechiness</th>\n",
       "      <th>acousticness</th>\n",
       "      <th>instrumentalness</th>\n",
       "      <th>liveness</th>\n",
       "      <th>valence</th>\n",
       "      <th>tempo</th>\n",
       "      <th>duration_ms</th>\n",
       "      <th>time_signature</th>\n",
       "    </tr>\n",
       "  </thead>\n",
       "  <tbody>\n",
       "    <tr>\n",
       "      <th>0</th>\n",
       "      <td>2021-10-26 23:02</td>\n",
       "      <td>Daniel Caesar</td>\n",
       "      <td>Transform (feat. Charlotte Day Wilson)</td>\n",
       "      <td>277984</td>\n",
       "      <td>1</td>\n",
       "      <td>20wkVLutqVOYrc0kxFs7rA</td>\n",
       "      <td>[canadian contemporary r&amp;b, pop, r&amp;b]</td>\n",
       "      <td>76.0</td>\n",
       "      <td>3551511.0</td>\n",
       "      <td>1jQfgl9WRle7D8a3GXLwaD</td>\n",
       "      <td>...</td>\n",
       "      <td>-10.656</td>\n",
       "      <td>1.0</td>\n",
       "      <td>0.031</td>\n",
       "      <td>0.511</td>\n",
       "      <td>0.000019</td>\n",
       "      <td>0.256</td>\n",
       "      <td>0.348</td>\n",
       "      <td>68.963</td>\n",
       "      <td>280587.0</td>\n",
       "      <td>4.0</td>\n",
       "    </tr>\n",
       "  </tbody>\n",
       "</table>\n",
       "<p>1 rows × 23 columns</p>\n",
       "</div>"
      ],
      "text/plain": [
       "            endTime     artistName                               trackName  \\\n",
       "0  2021-10-26 23:02  Daniel Caesar  Transform (feat. Charlotte Day Wilson)   \n",
       "\n",
       "   msPlayed  count               artist_id  \\\n",
       "0    277984      1  20wkVLutqVOYrc0kxFs7rA   \n",
       "\n",
       "                                  genres  artist_popularity  followers  \\\n",
       "0  [canadian contemporary r&b, pop, r&b]               76.0  3551511.0   \n",
       "\n",
       "                  trackID  ...  loudness  mode  speechiness  acousticness  \\\n",
       "0  1jQfgl9WRle7D8a3GXLwaD  ...   -10.656   1.0        0.031         0.511   \n",
       "\n",
       "   instrumentalness  liveness  valence   tempo  duration_ms  time_signature  \n",
       "0          0.000019     0.256    0.348  68.963     280587.0             4.0  \n",
       "\n",
       "[1 rows x 23 columns]"
      ]
     },
     "execution_count": 13,
     "metadata": {},
     "output_type": "execute_result"
    }
   ],
   "source": [
    "history.head(1)"
   ]
  },
  {
   "cell_type": "code",
   "execution_count": null,
   "id": "55a47f26-20b3-4c0f-a615-9e89b2a72a0c",
   "metadata": {},
   "outputs": [],
   "source": [
    "batches = np.array_split(test_track['trackID'], 4)\n",
    "track_feat = [track_features(x) for x in batches]"
   ]
  },
  {
   "cell_type": "code",
   "execution_count": null,
   "id": "f9284d79-7148-4011-a3d6-977b818ee7e0",
   "metadata": {},
   "outputs": [],
   "source": [
    "#concatenate the results into one dataframe and drop the duplicates\n",
    "track_df = pd.concat([track_feat[0], track_feat[1], track_feat[2], track_feat[3]], axis = 0)\n",
    "#track.drop_duplicates(subset = 'trackName', inplace = True)\n",
    "track_df"
   ]
  },
  {
   "cell_type": "code",
   "execution_count": null,
   "id": "4c176188-bff9-4ecd-8d42-e263b0a2a15d",
   "metadata": {},
   "outputs": [],
   "source": [
    "#merge the track data with the artist and streaming history data for a complete dataset\n",
    "track_df.drop_duplicates(subset = 'trackID', inplace = True)\n",
    "track_df = pd.merge(track_df, test_track, how = 'left', on = 'trackID')\n",
    "\n",
    "history = pd.merge(final, track_df, how = \"left\", on = 'trackName')\n",
    "\n",
    "history.dropna(inplace = True)"
   ]
  },
  {
   "cell_type": "code",
   "execution_count": null,
   "id": "71c2f0f5-b0d2-4abf-aaa3-423e3a8c4e36",
   "metadata": {},
   "outputs": [],
   "source": [
    "%store history\n",
    "%store kaggle_df"
   ]
  },
  {
   "cell_type": "markdown",
   "id": "ac82c126-aeda-4fc4-81bf-73a022bdc057",
   "metadata": {},
   "source": [
    "### Recommendations Library\n",
    "I need to build a library of random tracks from spotify API to compare against my history and pick recommendations from.\n",
    "\n",
    "<br> I will take two main approaches here: \n",
    "<br> 1) Pull random playlists from every spotify category then pull tracks from each of those playlists.\n",
    "<br> 2) Identify artists related to my streaming history and pull top songs from these artists. "
   ]
  },
  {
   "cell_type": "markdown",
   "id": "9c48ce72-6977-4564-ad6c-b8dbb68710f1",
   "metadata": {},
   "source": [
    "#### Random Playlists & Tracks from Each Spotify Category"
   ]
  },
  {
   "cell_type": "code",
   "execution_count": 3,
   "id": "00fb4682-52c2-491a-b2c6-0979dd0989c4",
   "metadata": {},
   "outputs": [],
   "source": [
    "#create a function that grabs offsets of the playlist ids\n",
    "def get_playlist_ids(row):\n",
    "    category_id = []\n",
    "    cat_playlist = []\n",
    "    playlist_ids = []\n",
    "\n",
    "    for i in range (1, 55):\n",
    "        category_id.append(sp.categories(limit=1, offset = i)['categories']['items'][0]['id'])\n",
    "    \n",
    "    category_id.remove('0JQ5DAqbMKFRNXsIvgZF9A')\n",
    "\n",
    "    for a in category_id:\n",
    "        cat_playlist.append(sp.category_playlists(category_id = a, offset = row)['playlists']['items'])\n",
    "     \n",
    "    for x in range(0,53):\n",
    "        for y in range(0,20):\n",
    "            try:\n",
    "                playlist_ids.append(cat_playlist[x][y]['id'])\n",
    "            except:\n",
    "                playlist_ids.append(0)\n",
    "\n",
    "\n",
    "    playlist_ids.remove(0)\n",
    "    playlist_ids = set(playlist_ids)\n",
    "    \n",
    "    return playlist_ids"
   ]
  },
  {
   "cell_type": "code",
   "execution_count": 13,
   "id": "688925b9-42b5-44cc-aed5-8009053162cc",
   "metadata": {},
   "outputs": [],
   "source": [
    "def get_track_ids(playlist_ids):\n",
    "    \n",
    "    results = sp.playlist_tracks(playlist_ids)\n",
    "    t = results['items']\n",
    "    ids = []\n",
    "    \n",
    "    while results['next']:\n",
    "        results = sp.next(results)\n",
    "        t.extend(results['items'])\n",
    "    try:\n",
    "        for s in t: ids.append(s['track']['id'])\n",
    "    except:\n",
    "        ids.append(0)\n",
    "        \n",
    "    return ids"
   ]
  },
  {
   "cell_type": "code",
   "execution_count": 4,
   "id": "1c994057-20d9-4684-a5f7-7d33807d6da0",
   "metadata": {},
   "outputs": [],
   "source": [
    "offset = [0,20,40,60,80,100]\n",
    "func_ids = [get_playlist_ids(x) for x in offset]"
   ]
  },
  {
   "cell_type": "code",
   "execution_count": 5,
   "id": "6118c2ea-d11d-45df-9ca8-1020ec6b9e9a",
   "metadata": {},
   "outputs": [],
   "source": [
    "playlist_ids = set(list(func_ids[0]) + list(func_ids[1]) + list(func_ids[2]) + list(func_ids[3]) \n",
    "                   + list(func_ids[4]) + list(func_ids[5]))\n",
    "\n",
    "playlist_ids.remove(0)"
   ]
  },
  {
   "cell_type": "code",
   "execution_count": 6,
   "id": "f16a04a8-fa5c-40ac-b8a7-2826a0857834",
   "metadata": {},
   "outputs": [
    {
     "data": {
      "text/plain": [
       "2353"
      ]
     },
     "execution_count": 6,
     "metadata": {},
     "output_type": "execute_result"
    }
   ],
   "source": [
    "len(playlist_ids)"
   ]
  },
  {
   "cell_type": "code",
   "execution_count": 11,
   "id": "8756385c-4fff-4dbc-8a74-e9c7825bb15a",
   "metadata": {},
   "outputs": [],
   "source": [
    "#playlist_ids"
   ]
  },
  {
   "cell_type": "code",
   "execution_count": null,
   "id": "0c66c251-4343-4947-b086-fd22708896a0",
   "metadata": {},
   "outputs": [],
   "source": [
    "playlist_ids.remove('37i9dQZF1DWVztgMIUG66M') "
   ]
  },
  {
   "cell_type": "code",
   "execution_count": 30,
   "id": "adfa435a-4f59-40ab-b19e-6900b41c964a",
   "metadata": {},
   "outputs": [],
   "source": [
    "batches = np.array_split(list(playlist_ids), 5)"
   ]
  },
  {
   "cell_type": "code",
   "execution_count": 31,
   "id": "806de945-3660-462b-82e4-0b680b44cf48",
   "metadata": {},
   "outputs": [
    {
     "data": {
      "text/plain": [
       "471"
      ]
     },
     "execution_count": 31,
     "metadata": {},
     "output_type": "execute_result"
    }
   ],
   "source": [
    "len(batches[0])"
   ]
  },
  {
   "cell_type": "code",
   "execution_count": 39,
   "id": "edaee841-b8b0-4027-9dea-08ec763dead9",
   "metadata": {},
   "outputs": [],
   "source": [
    "#My requests weren't processing so I seperated the requests into smaller batches and ran them at different times in the day to avoid rate limiting\n",
    "ids = [get_track_ids(x) for x in batches[0]]\n",
    "\n",
    "ids1 = [get_track_ids(x) for x in batches[1]]\n",
    "\n",
    "ids2 = [get_track_ids(x) for x in batches[2]]\n",
    "\n",
    "ids3 = [get_track_ids(x) for x in batches[3]]\n",
    "\n",
    "ids4 = [get_track_ids(x) for x in batches[4]]"
   ]
  },
  {
   "cell_type": "code",
   "execution_count": 5,
   "id": "cd7627b7-e7a7-481f-869c-455605332380",
   "metadata": {},
   "outputs": [],
   "source": [
    "#Flattening lists of track ids\n",
    "ids1 = set(sum(ids1,[]))\n",
    "ids2 = set(sum(ids2,[]))\n",
    "ids3 = set(sum(ids3,[]))\n",
    "ids4 = set(sum(ids4,[]))\n",
    "\n",
    "ids.remove(0)\n",
    "ids1.remove(0)\n",
    "ids2.remove(0)\n",
    "ids3.remove(0)\n",
    "ids4.remove(0)"
   ]
  },
  {
   "cell_type": "code",
   "execution_count": 8,
   "id": "00cc8e99-615a-4d24-8402-dfe002b0f335",
   "metadata": {},
   "outputs": [
    {
     "name": "stdout",
     "output_type": "stream",
     "text": [
      "Stored 'ids' (set)\n",
      "Stored 'ids1' (set)\n",
      "Stored 'ids2' (set)\n",
      "Stored 'ids3' (set)\n",
      "Stored 'ids4' (set)\n"
     ]
    }
   ],
   "source": [
    "%store ids \n",
    "%store ids1 \n",
    "%store ids2 \n",
    "%store ids3 \n",
    "%store ids4"
   ]
  },
  {
   "cell_type": "code",
   "execution_count": 15,
   "id": "3a32f3a3-a81a-495c-a681-da1e68d15a71",
   "metadata": {},
   "outputs": [],
   "source": [
    "%store -r ids \n",
    "%store -r ids1 \n",
    "%store -r ids2 \n",
    "%store -r ids3 \n",
    "%store -r ids4"
   ]
  },
  {
   "cell_type": "code",
   "execution_count": 16,
   "id": "1ed2f43e-60e5-402c-9794-a49cc376d861",
   "metadata": {},
   "outputs": [],
   "source": [
    "#Splitting the data into smaller batches for rate limiting\n",
    "ids_batches = np.array_split(list(ids), 36)\n",
    "ids1_batches = np.array_split(list(ids1), 36)\n",
    "ids2_batches = np.array_split(list(ids2), 36)\n",
    "ids3_batches = np.array_split(list(ids3), 36)\n",
    "ids4_batches = np.array_split(list(ids4), 36)"
   ]
  },
  {
   "cell_type": "code",
   "execution_count": 43,
   "id": "4d7ef52f-520e-422d-bd8b-00d59f633990",
   "metadata": {},
   "outputs": [],
   "source": [
    "# library_feats = []\n",
    "# counter = 0"
   ]
  },
  {
   "cell_type": "code",
   "execution_count": 34,
   "id": "7276e904-50fe-47e4-93fe-75cfc840c670",
   "metadata": {},
   "outputs": [],
   "source": [
    "for x in range(34,36):\n",
    "    if counter < 1:\n",
    "        library_feats.append(track_features(ids4_batches[x]))\n",
    "        counter += 1\n",
    "    else: \n",
    "        time.sleep(30)\n",
    "        counter == 0\n",
    "        library_feats.append(track_features(ids4_batches[x]))"
   ]
  },
  {
   "cell_type": "code",
   "execution_count": 12,
   "id": "9f599aa7-199d-4ebd-adec-bd96198a4066",
   "metadata": {},
   "outputs": [
    {
     "data": {
      "text/plain": [
       "178"
      ]
     },
     "execution_count": 12,
     "metadata": {},
     "output_type": "execute_result"
    }
   ],
   "source": [
    "len(library_feats)"
   ]
  },
  {
   "cell_type": "code",
   "execution_count": 11,
   "id": "525ad1c9-6faa-4305-979e-542d0ed2b525",
   "metadata": {},
   "outputs": [],
   "source": [
    "#%store library_feats"
   ]
  },
  {
   "cell_type": "code",
   "execution_count": 11,
   "id": "3972a5d3-bb41-4b62-a4b5-079e487dd432",
   "metadata": {},
   "outputs": [],
   "source": [
    "%store -r library_feats"
   ]
  },
  {
   "cell_type": "markdown",
   "id": "2a37e1c7-f37a-401a-84db-c9e86b2bdb05",
   "metadata": {},
   "source": [
    "#### Get Top Songs from Artists Related to Streaming History "
   ]
  },
  {
   "cell_type": "code",
   "execution_count": 20,
   "id": "dd340dd2-ddb4-4660-9231-ab787c0bc83b",
   "metadata": {},
   "outputs": [],
   "source": [
    "%store -r history"
   ]
  },
  {
   "cell_type": "code",
   "execution_count": 17,
   "id": "b8a1548c-a4ca-4495-84fd-bf325f94f0c4",
   "metadata": {},
   "outputs": [],
   "source": [
    "#sp.artist_related_artists('20wkVLutqVOYrc0kxFs7rA')"
   ]
  },
  {
   "cell_type": "code",
   "execution_count": 18,
   "id": "1e1be247-c2b1-4005-b15a-1e1b5d6c421a",
   "metadata": {},
   "outputs": [],
   "source": [
    "def related_artists(artist_ids):\n",
    "    results = sp.artist_related_artists(artist_ids)\n",
    "    t = results['artists']\n",
    "    ids = []\n",
    "    name = []\n",
    "    genre = []\n",
    "    followers = []\n",
    "    try:\n",
    "        for s in t: \n",
    "            ids.append(s['id'])\n",
    "            genre.append(s['genres'])\n",
    "            followers.append(s['followers']['total'])\n",
    "            name.append(s['name'])\n",
    "        \n",
    "    except:\n",
    "        ids.append(0)\n",
    "        \n",
    "    related = pd.DataFrame(ids, columns = ['artist_id'])\n",
    "    related['artistName'] = name\n",
    "    related['genre'] = genre\n",
    "    related['followers'] = followers\n",
    "    \n",
    "    return related"
   ]
  },
  {
   "cell_type": "code",
   "execution_count": 23,
   "id": "a5afcae9-d2b5-46c9-9880-860c65b355cf",
   "metadata": {},
   "outputs": [
    {
     "data": {
      "text/plain": [
       "636"
      ]
     },
     "execution_count": 23,
     "metadata": {},
     "output_type": "execute_result"
    }
   ],
   "source": [
    "len(history['artist_id'].unique())"
   ]
  },
  {
   "cell_type": "code",
   "execution_count": 24,
   "id": "9f3d107b-f1e3-4162-b89b-786cb4fdf8bd",
   "metadata": {},
   "outputs": [],
   "source": [
    "rel_art = [related_artists(x) for x in history['artist_id'].unique()]\n",
    "\n",
    "dfs = []\n",
    "for x in range(0,636):\n",
    "    dfs.append(rel_art[x])\n",
    "\n",
    "related_artists = pd.concat(dfs, axis = 0)\n",
    "\n",
    "related_artists.drop_duplicates(subset = 'artist_id', inplace = True)\n",
    "\n",
    "related_artists.reset_index(inplace = True, drop = True)\n",
    "\n",
    "related_artists.head()"
   ]
  },
  {
   "cell_type": "code",
   "execution_count": 30,
   "id": "26439ea9-d870-4677-a0da-4614347d6978",
   "metadata": {},
   "outputs": [
    {
     "name": "stdout",
     "output_type": "stream",
     "text": [
      "Stored 'related_artists' (DataFrame)\n"
     ]
    }
   ],
   "source": [
    "%store related_artists"
   ]
  },
  {
   "cell_type": "code",
   "execution_count": 32,
   "id": "71cc9238-943c-4991-b498-a817702c9347",
   "metadata": {},
   "outputs": [
    {
     "data": {
      "text/html": [
       "<div>\n",
       "<style scoped>\n",
       "    .dataframe tbody tr th:only-of-type {\n",
       "        vertical-align: middle;\n",
       "    }\n",
       "\n",
       "    .dataframe tbody tr th {\n",
       "        vertical-align: top;\n",
       "    }\n",
       "\n",
       "    .dataframe thead th {\n",
       "        text-align: right;\n",
       "    }\n",
       "</style>\n",
       "<table border=\"1\" class=\"dataframe\">\n",
       "  <thead>\n",
       "    <tr style=\"text-align: right;\">\n",
       "      <th></th>\n",
       "      <th>artist_id</th>\n",
       "      <th>artistName</th>\n",
       "      <th>genre</th>\n",
       "      <th>followers</th>\n",
       "    </tr>\n",
       "  </thead>\n",
       "  <tbody>\n",
       "    <tr>\n",
       "      <th>0</th>\n",
       "      <td>1A9o3Ljt67pFZ89YtPPL5X</td>\n",
       "      <td>Snoh Aalegra</td>\n",
       "      <td>[alternative r&amp;b, neo soul, r&amp;b, scandinavian ...</td>\n",
       "      <td>881683.0</td>\n",
       "    </tr>\n",
       "    <tr>\n",
       "      <th>1</th>\n",
       "      <td>3Y7RZ31TRPVadSFVy1o8os</td>\n",
       "      <td>H.E.R.</td>\n",
       "      <td>[pop, r&amp;b, rap, urban contemporary]</td>\n",
       "      <td>5661164.0</td>\n",
       "    </tr>\n",
       "    <tr>\n",
       "      <th>2</th>\n",
       "      <td>30DhU7BDmF4PH0JVhu8ZRg</td>\n",
       "      <td>Sabrina Claudio</td>\n",
       "      <td>[pop, r&amp;b]</td>\n",
       "      <td>1443420.0</td>\n",
       "    </tr>\n",
       "    <tr>\n",
       "      <th>3</th>\n",
       "      <td>5aMIbwZQvP2MHPMVC5zCGj</td>\n",
       "      <td>ODIE</td>\n",
       "      <td>[canadian contemporary r&amp;b, indie r&amp;b]</td>\n",
       "      <td>241438.0</td>\n",
       "    </tr>\n",
       "    <tr>\n",
       "      <th>4</th>\n",
       "      <td>3tlXnStJ1fFhdScmQeLpuG</td>\n",
       "      <td>Brent Faiyaz</td>\n",
       "      <td>[dmv rap, hip hop, pop, r&amp;b, rap]</td>\n",
       "      <td>2889860.0</td>\n",
       "    </tr>\n",
       "    <tr>\n",
       "      <th>...</th>\n",
       "      <td>...</td>\n",
       "      <td>...</td>\n",
       "      <td>...</td>\n",
       "      <td>...</td>\n",
       "    </tr>\n",
       "    <tr>\n",
       "      <th>5928</th>\n",
       "      <td>2YEnrpAWWaNRFumgde1lLH</td>\n",
       "      <td>Oden &amp; Fatzo</td>\n",
       "      <td>[disco house]</td>\n",
       "      <td>16982.0</td>\n",
       "    </tr>\n",
       "    <tr>\n",
       "      <th>5929</th>\n",
       "      <td>4pSMnAlD8JVEW3eZDuaQH8</td>\n",
       "      <td>Anish Kumar</td>\n",
       "      <td>[]</td>\n",
       "      <td>6794.0</td>\n",
       "    </tr>\n",
       "    <tr>\n",
       "      <th>5930</th>\n",
       "      <td>1uF7AFfGahplhiaHEy9NNl</td>\n",
       "      <td>Loods</td>\n",
       "      <td>[australian dance, disco house]</td>\n",
       "      <td>10598.0</td>\n",
       "    </tr>\n",
       "    <tr>\n",
       "      <th>5931</th>\n",
       "      <td>4W991QdgKWX4TO864ypInA</td>\n",
       "      <td>Eats Everything</td>\n",
       "      <td>[deep disco house, house, raw techno]</td>\n",
       "      <td>80982.0</td>\n",
       "    </tr>\n",
       "    <tr>\n",
       "      <th>5932</th>\n",
       "      <td>4cUkGQyhLFqKHBtL58HYVp</td>\n",
       "      <td>Channel Tres</td>\n",
       "      <td>[la pop]</td>\n",
       "      <td>222284.0</td>\n",
       "    </tr>\n",
       "  </tbody>\n",
       "</table>\n",
       "<p>5933 rows × 4 columns</p>\n",
       "</div>"
      ],
      "text/plain": [
       "                   artist_id       artistName  \\\n",
       "0     1A9o3Ljt67pFZ89YtPPL5X     Snoh Aalegra   \n",
       "1     3Y7RZ31TRPVadSFVy1o8os           H.E.R.   \n",
       "2     30DhU7BDmF4PH0JVhu8ZRg  Sabrina Claudio   \n",
       "3     5aMIbwZQvP2MHPMVC5zCGj             ODIE   \n",
       "4     3tlXnStJ1fFhdScmQeLpuG     Brent Faiyaz   \n",
       "...                      ...              ...   \n",
       "5928  2YEnrpAWWaNRFumgde1lLH     Oden & Fatzo   \n",
       "5929  4pSMnAlD8JVEW3eZDuaQH8      Anish Kumar   \n",
       "5930  1uF7AFfGahplhiaHEy9NNl            Loods   \n",
       "5931  4W991QdgKWX4TO864ypInA  Eats Everything   \n",
       "5932  4cUkGQyhLFqKHBtL58HYVp     Channel Tres   \n",
       "\n",
       "                                                  genre  followers  \n",
       "0     [alternative r&b, neo soul, r&b, scandinavian ...   881683.0  \n",
       "1                   [pop, r&b, rap, urban contemporary]  5661164.0  \n",
       "2                                            [pop, r&b]  1443420.0  \n",
       "3                [canadian contemporary r&b, indie r&b]   241438.0  \n",
       "4                     [dmv rap, hip hop, pop, r&b, rap]  2889860.0  \n",
       "...                                                 ...        ...  \n",
       "5928                                      [disco house]    16982.0  \n",
       "5929                                                 []     6794.0  \n",
       "5930                    [australian dance, disco house]    10598.0  \n",
       "5931              [deep disco house, house, raw techno]    80982.0  \n",
       "5932                                           [la pop]   222284.0  \n",
       "\n",
       "[5933 rows x 4 columns]"
      ]
     },
     "execution_count": 32,
     "metadata": {},
     "output_type": "execute_result"
    }
   ],
   "source": [
    "related_artists"
   ]
  },
  {
   "cell_type": "code",
   "execution_count": null,
   "id": "16ae07d2-d0e8-4777-beff-56c50528b808",
   "metadata": {},
   "outputs": [],
   "source": [
    "# search for all tracks from related artists and artists from the random generated playlist\n",
    "# pull more tracks using offset from random playlist generator\n",
    "# goal will be to get 500k tracks\n",
    "# once I have 500k tracks ids pull the track features that are needed for modeling "
   ]
  },
  {
   "cell_type": "code",
   "execution_count": null,
   "id": "6338905b-44c8-4a59-9cef-b467cd75617c",
   "metadata": {},
   "outputs": [],
   "source": [
    "#sp.artist_albums('1A9o3Ljt67pFZ89YtPPL5X')['items'][2]['id']"
   ]
  },
  {
   "cell_type": "code",
   "execution_count": null,
   "id": "9a0990dd-8388-4487-88e7-0f3e31243945",
   "metadata": {},
   "outputs": [],
   "source": [
    "#related_artists['artist_id'][1]"
   ]
  },
  {
   "cell_type": "code",
   "execution_count": null,
   "id": "93c6f374-f095-463e-aadb-e8211a0ef061",
   "metadata": {},
   "outputs": [],
   "source": [
    "#sp.album_tracks('2OIMJ2Arm0dYpmWIfQOXTD')['items'][0]['name']"
   ]
  },
  {
   "cell_type": "markdown",
   "id": "683f66b9-0ab0-4aa9-abc6-841950f52c25",
   "metadata": {},
   "source": [
    "#### Pulling in the Genre and Followers for Kaggle Dataset"
   ]
  },
  {
   "cell_type": "code",
   "execution_count": 7,
   "id": "64059c2f-1672-4c50-a62d-57ed4a7522b6",
   "metadata": {},
   "outputs": [],
   "source": [
    "def artist_features(artist):\n",
    "    results = sp.search(q=f'artist: {artist}', type='artist', limit=1)\n",
    "    t = results['artists']['items']\n",
    "    ids = []\n",
    "    artist = artist\n",
    "    name = []\n",
    "    genre = []\n",
    "    followers = []\n",
    "    \n",
    "    try:\n",
    "        for s in t: \n",
    "            ids.append(s['id'])\n",
    "            genre.append(s['genres'])\n",
    "            followers.append(s['followers']['total'])\n",
    "            name.append(s['name'])   \n",
    "    except:\n",
    "        ids.append(0)\n",
    "        \n",
    "    art_feat = pd.DataFrame(ids, columns = ['artist_id'])\n",
    "    art_feat['artists'] = artist\n",
    "    art_feat['artistName'] = name\n",
    "    art_feat['genre'] = genre\n",
    "    art_feat['followers'] = followers\n",
    "    \n",
    "    return art_feat"
   ]
  },
  {
   "cell_type": "code",
   "execution_count": 8,
   "id": "c0d72da9-ac1c-4307-90d1-2db70a7f4196",
   "metadata": {},
   "outputs": [
    {
     "data": {
      "text/plain": [
       "\"['Hector Berlioz', 'Arturo Toscanini']\""
      ]
     },
     "execution_count": 8,
     "metadata": {},
     "output_type": "execute_result"
    }
   ],
   "source": [
    "kaggle_df['artists'][17]"
   ]
  },
  {
   "cell_type": "code",
   "execution_count": null,
   "id": "d33f18d3-043e-4442-98a0-7c129410ab03",
   "metadata": {},
   "outputs": [],
   "source": [
    "artist_features(kaggle_df['artists'][0])"
   ]
  },
  {
   "cell_type": "code",
   "execution_count": 81,
   "id": "37baa08d-bb0b-4ea0-9523-bc983d47e22e",
   "metadata": {},
   "outputs": [],
   "source": [
    "#I ran into issues trying to pull artist data so I had to run API requests in smaller batches\n",
    "#I also had to filter out strings that were too long to be searched\n",
    "\n",
    "artist_batches = np.array_split(kaggle_df['artists'].loc[(kaggle_df['artists'].str.len() < 200)].unique(), 100)"
   ]
  },
  {
   "cell_type": "code",
   "execution_count": 142,
   "id": "b677db33-0b5c-4d68-ab35-272680bce538",
   "metadata": {},
   "outputs": [
    {
     "data": {
      "text/plain": [
       "226"
      ]
     },
     "execution_count": 142,
     "metadata": {},
     "output_type": "execute_result"
    }
   ],
   "source": [
    "len(artist_batches[149])"
   ]
  },
  {
   "cell_type": "code",
   "execution_count": 90,
   "id": "fc33fc4a-07e7-440d-9d8a-2e3a7bf3df7b",
   "metadata": {},
   "outputs": [],
   "source": [
    "kaggle_artists = []"
   ]
  },
  {
   "cell_type": "code",
   "execution_count": 107,
   "id": "f27bc47e-77fd-4a62-bc05-2bc7e2a8b879",
   "metadata": {},
   "outputs": [],
   "source": [
    "kaggle_artists.append([artist_features(x) for x in artist_batches[4]])"
   ]
  },
  {
   "cell_type": "code",
   "execution_count": null,
   "id": "4a1858eb-62be-42f3-8f46-1e6802e64a22",
   "metadata": {},
   "outputs": [],
   "source": [
    "for x in range(110,120):\n",
    "    if counter < 1:\n",
    "        time.sleep(30)\n",
    "        kaggle_artists.append([artist_features(a) for a in artist_batches[x]])\n",
    "        counter += 1\n",
    "    else: \n",
    "        time.sleep(30)\n",
    "        counter == 0\n",
    "        kaggle_artists.append([artist_features(a) for a in artist_batches[x]])"
   ]
  },
  {
   "cell_type": "code",
   "execution_count": 10,
   "id": "7fbe4930-36d6-4c3d-8763-930472341d6a",
   "metadata": {},
   "outputs": [
    {
     "data": {
      "text/plain": [
       "50"
      ]
     },
     "execution_count": 10,
     "metadata": {},
     "output_type": "execute_result"
    }
   ],
   "source": [
    "len(kaggle_artists)"
   ]
  },
  {
   "cell_type": "code",
   "execution_count": 14,
   "id": "5b81129d-fa7c-488f-bc6d-8a7290c3d2ac",
   "metadata": {},
   "outputs": [
    {
     "data": {
      "text/plain": [
       "33951"
      ]
     },
     "execution_count": 14,
     "metadata": {},
     "output_type": "execute_result"
    }
   ],
   "source": [
    "len(kaggle_df['artists'].loc[(kaggle_df['artists'].str.len() < 200)].unique())"
   ]
  },
  {
   "cell_type": "code",
   "execution_count": 128,
   "id": "189ac668-530f-4908-8bb7-f3aa82ea6e44",
   "metadata": {},
   "outputs": [
    {
     "name": "stdout",
     "output_type": "stream",
     "text": [
      "Stored 'kaggle_artists' (list)\n"
     ]
    }
   ],
   "source": [
    "%store kaggle_artists"
   ]
  },
  {
   "cell_type": "code",
   "execution_count": 9,
   "id": "27c1d56e-0a0c-43a0-97c7-7f5330cc0bfd",
   "metadata": {},
   "outputs": [],
   "source": [
    "%store -r kaggle_artists"
   ]
  },
  {
   "cell_type": "code",
   "execution_count": null,
   "id": "5e1cc687-70bf-42a4-ae4d-d5b1091cd856",
   "metadata": {},
   "outputs": [],
   "source": []
  }
 ],
 "metadata": {
  "kernelspec": {
   "display_name": "Python 3 (ipykernel)",
   "language": "python",
   "name": "python3"
  },
  "language_info": {
   "codemirror_mode": {
    "name": "ipython",
    "version": 3
   },
   "file_extension": ".py",
   "mimetype": "text/x-python",
   "name": "python",
   "nbconvert_exporter": "python",
   "pygments_lexer": "ipython3",
   "version": "3.9.12"
  }
 },
 "nbformat": 4,
 "nbformat_minor": 5
}
