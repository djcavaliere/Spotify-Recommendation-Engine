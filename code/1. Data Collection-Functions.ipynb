{
 "cells": [
  {
   "cell_type": "markdown",
   "id": "09b66c4d-d672-48bf-a793-674ef9374113",
   "metadata": {},
   "source": [
    "## Data Collection\n",
    "In this notebook I will pull in data from spotify. First I will pull in a json file which includes 1 year of my listening history that I requested from Spotify. Once I have this data I will pull in various features from the spotify API relating to each artist and track in my listening history. Lastly I will collect a library of similar datapoints for thousands of tracks which I can use to compare to a users listening history to surface recommendations.\n",
    "\n",
    "1- Spotify Listening History- 1 year listening history from Spotify\n",
    "<br>2- Spotify API\n",
    "<br>3- Kaggle Spotify Library"
   ]
  },
  {
   "cell_type": "code",
   "execution_count": 129,
   "id": "a44e2963-9b97-4356-b612-c2b769d20134",
   "metadata": {},
   "outputs": [],
   "source": [
    "import pandas as pd\n",
    "import numpy as np\n",
    "import matplotlib.pyplot as plt\n",
    "from sklearn import preprocessing\n",
    "import time\n",
    "import pickle"
   ]
  },
  {
   "cell_type": "code",
   "execution_count": 2,
   "id": "b349a7c7-fc5f-4894-b167-17bfd1201652",
   "metadata": {},
   "outputs": [],
   "source": [
    "streaming_df = pd.read_json('../data/StreamingHistory0.json')"
   ]
  },
  {
   "cell_type": "code",
   "execution_count": 3,
   "id": "a657d947-b4c7-495c-aa3a-647da5e68246",
   "metadata": {},
   "outputs": [
    {
     "data": {
      "text/html": [
       "<div>\n",
       "<style scoped>\n",
       "    .dataframe tbody tr th:only-of-type {\n",
       "        vertical-align: middle;\n",
       "    }\n",
       "\n",
       "    .dataframe tbody tr th {\n",
       "        vertical-align: top;\n",
       "    }\n",
       "\n",
       "    .dataframe thead th {\n",
       "        text-align: right;\n",
       "    }\n",
       "</style>\n",
       "<table border=\"1\" class=\"dataframe\">\n",
       "  <thead>\n",
       "    <tr style=\"text-align: right;\">\n",
       "      <th></th>\n",
       "      <th>endTime</th>\n",
       "      <th>artistName</th>\n",
       "      <th>trackName</th>\n",
       "      <th>msPlayed</th>\n",
       "      <th>count</th>\n",
       "    </tr>\n",
       "  </thead>\n",
       "  <tbody>\n",
       "    <tr>\n",
       "      <th>0</th>\n",
       "      <td>2021-10-26 23:02</td>\n",
       "      <td>Daniel Caesar</td>\n",
       "      <td>Transform (feat. Charlotte Day Wilson)</td>\n",
       "      <td>277984</td>\n",
       "      <td>1</td>\n",
       "    </tr>\n",
       "  </tbody>\n",
       "</table>\n",
       "</div>"
      ],
      "text/plain": [
       "            endTime     artistName                               trackName  \\\n",
       "0  2021-10-26 23:02  Daniel Caesar  Transform (feat. Charlotte Day Wilson)   \n",
       "\n",
       "   msPlayed  count  \n",
       "0    277984      1  "
      ]
     },
     "execution_count": 3,
     "metadata": {},
     "output_type": "execute_result"
    }
   ],
   "source": [
    "streaming_df['count'] = 1\n",
    "streaming_df.head(1)"
   ]
  },
  {
   "cell_type": "code",
   "execution_count": 4,
   "id": "00a88724-ee44-467d-b873-8ddb17ddcc01",
   "metadata": {},
   "outputs": [
    {
     "data": {
      "text/html": [
       "<div>\n",
       "<style scoped>\n",
       "    .dataframe tbody tr th:only-of-type {\n",
       "        vertical-align: middle;\n",
       "    }\n",
       "\n",
       "    .dataframe tbody tr th {\n",
       "        vertical-align: top;\n",
       "    }\n",
       "\n",
       "    .dataframe thead th {\n",
       "        text-align: right;\n",
       "    }\n",
       "</style>\n",
       "<table border=\"1\" class=\"dataframe\">\n",
       "  <thead>\n",
       "    <tr style=\"text-align: right;\">\n",
       "      <th></th>\n",
       "      <th>valence</th>\n",
       "      <th>year</th>\n",
       "      <th>acousticness</th>\n",
       "      <th>artists</th>\n",
       "      <th>danceability</th>\n",
       "      <th>duration_ms</th>\n",
       "      <th>energy</th>\n",
       "      <th>explicit</th>\n",
       "      <th>id</th>\n",
       "      <th>instrumentalness</th>\n",
       "      <th>key</th>\n",
       "      <th>liveness</th>\n",
       "      <th>loudness</th>\n",
       "      <th>mode</th>\n",
       "      <th>name</th>\n",
       "      <th>popularity</th>\n",
       "      <th>release_date</th>\n",
       "      <th>speechiness</th>\n",
       "      <th>tempo</th>\n",
       "    </tr>\n",
       "  </thead>\n",
       "  <tbody>\n",
       "    <tr>\n",
       "      <th>0</th>\n",
       "      <td>0.0594</td>\n",
       "      <td>1921</td>\n",
       "      <td>0.982</td>\n",
       "      <td>['Sergei Rachmaninoff', 'James Levine', 'Berli...</td>\n",
       "      <td>0.279</td>\n",
       "      <td>831667</td>\n",
       "      <td>0.211</td>\n",
       "      <td>0</td>\n",
       "      <td>4BJqT0PrAfrxzMOxytFOIz</td>\n",
       "      <td>0.878</td>\n",
       "      <td>10</td>\n",
       "      <td>0.665</td>\n",
       "      <td>-20.096</td>\n",
       "      <td>1</td>\n",
       "      <td>Piano Concerto No. 3 in D Minor, Op. 30: III. ...</td>\n",
       "      <td>4</td>\n",
       "      <td>1921</td>\n",
       "      <td>0.0366</td>\n",
       "      <td>80.954</td>\n",
       "    </tr>\n",
       "  </tbody>\n",
       "</table>\n",
       "</div>"
      ],
      "text/plain": [
       "   valence  year  acousticness  \\\n",
       "0   0.0594  1921         0.982   \n",
       "\n",
       "                                             artists  danceability  \\\n",
       "0  ['Sergei Rachmaninoff', 'James Levine', 'Berli...         0.279   \n",
       "\n",
       "   duration_ms  energy  explicit                      id  instrumentalness  \\\n",
       "0       831667   0.211         0  4BJqT0PrAfrxzMOxytFOIz             0.878   \n",
       "\n",
       "   key  liveness  loudness  mode  \\\n",
       "0   10     0.665   -20.096     1   \n",
       "\n",
       "                                                name  popularity release_date  \\\n",
       "0  Piano Concerto No. 3 in D Minor, Op. 30: III. ...           4         1921   \n",
       "\n",
       "   speechiness   tempo  \n",
       "0       0.0366  80.954  "
      ]
     },
     "execution_count": 4,
     "metadata": {},
     "output_type": "execute_result"
    }
   ],
   "source": [
    "#load kaggle data\n",
    "kaggle_df = pd.read_csv('../data/data.csv')\n",
    "kaggle_df.head(1)"
   ]
  },
  {
   "cell_type": "code",
   "execution_count": 5,
   "id": "e56422c9-c598-4973-a5ce-c4da25e38ae1",
   "metadata": {},
   "outputs": [],
   "source": [
    "#kaggle_df.info()"
   ]
  },
  {
   "cell_type": "markdown",
   "id": "f1491a4b-6c6f-4459-98d7-b27f2cb7454c",
   "metadata": {},
   "source": [
    "### Extended Spotify Streaming History"
   ]
  },
  {
   "cell_type": "code",
   "execution_count": 5,
   "id": "d879f7c8-4a27-48c7-9220-910ac52a0972",
   "metadata": {},
   "outputs": [],
   "source": [
    "extended = pd.read_json('../data/endsong_0.json')\n",
    "extended1 = pd.read_json('../data/endsong_1.json')\n",
    "extended2 = pd.read_json('../data/endsong_2.json')\n",
    "extended = pd.concat([extended, extended1, extended2])"
   ]
  },
  {
   "cell_type": "code",
   "execution_count": 6,
   "id": "192c1bd8-e6be-4b7b-b93f-4081e065cef6",
   "metadata": {},
   "outputs": [],
   "source": [
    "extended = extended[extended['spotify_track_uri'].isnull() == False]\n",
    "extended.reset_index(drop = True, inplace = True)\n",
    "#extended.info()"
   ]
  },
  {
   "cell_type": "code",
   "execution_count": 7,
   "id": "3164e6b1-c3c6-4044-a970-e8d5170f90ba",
   "metadata": {},
   "outputs": [],
   "source": [
    "extended['track_id'] = [extended['spotify_track_uri'][x][14:] for x in range(len(extended['spotify_track_uri']))]"
   ]
  },
  {
   "cell_type": "code",
   "execution_count": 8,
   "id": "b0c7bc9c-0688-47d3-a8fb-087287a158f8",
   "metadata": {},
   "outputs": [
    {
     "data": {
      "text/html": [
       "<div>\n",
       "<style scoped>\n",
       "    .dataframe tbody tr th:only-of-type {\n",
       "        vertical-align: middle;\n",
       "    }\n",
       "\n",
       "    .dataframe tbody tr th {\n",
       "        vertical-align: top;\n",
       "    }\n",
       "\n",
       "    .dataframe thead th {\n",
       "        text-align: right;\n",
       "    }\n",
       "</style>\n",
       "<table border=\"1\" class=\"dataframe\">\n",
       "  <thead>\n",
       "    <tr style=\"text-align: right;\">\n",
       "      <th></th>\n",
       "      <th>ts</th>\n",
       "      <th>username</th>\n",
       "      <th>platform</th>\n",
       "      <th>ms_played</th>\n",
       "      <th>conn_country</th>\n",
       "      <th>ip_addr_decrypted</th>\n",
       "      <th>user_agent_decrypted</th>\n",
       "      <th>master_metadata_track_name</th>\n",
       "      <th>master_metadata_album_artist_name</th>\n",
       "      <th>master_metadata_album_album_name</th>\n",
       "      <th>...</th>\n",
       "      <th>episode_show_name</th>\n",
       "      <th>spotify_episode_uri</th>\n",
       "      <th>reason_start</th>\n",
       "      <th>reason_end</th>\n",
       "      <th>shuffle</th>\n",
       "      <th>skipped</th>\n",
       "      <th>offline</th>\n",
       "      <th>offline_timestamp</th>\n",
       "      <th>incognito_mode</th>\n",
       "      <th>track_id</th>\n",
       "    </tr>\n",
       "  </thead>\n",
       "  <tbody>\n",
       "    <tr>\n",
       "      <th>0</th>\n",
       "      <td>2015-05-27T16:34:37Z</td>\n",
       "      <td>1212918474</td>\n",
       "      <td>iOS 7.1.2 (iPhone5,3)</td>\n",
       "      <td>765306</td>\n",
       "      <td>US</td>\n",
       "      <td>66.87.119.1</td>\n",
       "      <td>unknown</td>\n",
       "      <td>Have You Ever Loved A Woman</td>\n",
       "      <td>Freddie King</td>\n",
       "      <td>Are You Ready For Freddie?</td>\n",
       "      <td>...</td>\n",
       "      <td>None</td>\n",
       "      <td>None</td>\n",
       "      <td>clickrow</td>\n",
       "      <td>trackdone</td>\n",
       "      <td>False</td>\n",
       "      <td>0.0</td>\n",
       "      <td>False</td>\n",
       "      <td>0</td>\n",
       "      <td>False</td>\n",
       "      <td>6r99GoBd08u7ajWGpvdyxm</td>\n",
       "    </tr>\n",
       "  </tbody>\n",
       "</table>\n",
       "<p>1 rows × 22 columns</p>\n",
       "</div>"
      ],
      "text/plain": [
       "                     ts    username               platform  ms_played  \\\n",
       "0  2015-05-27T16:34:37Z  1212918474  iOS 7.1.2 (iPhone5,3)     765306   \n",
       "\n",
       "  conn_country ip_addr_decrypted user_agent_decrypted  \\\n",
       "0           US       66.87.119.1              unknown   \n",
       "\n",
       "    master_metadata_track_name master_metadata_album_artist_name  \\\n",
       "0  Have You Ever Loved A Woman                      Freddie King   \n",
       "\n",
       "  master_metadata_album_album_name  ... episode_show_name spotify_episode_uri  \\\n",
       "0       Are You Ready For Freddie?  ...              None                None   \n",
       "\n",
       "  reason_start reason_end shuffle skipped  offline  offline_timestamp  \\\n",
       "0     clickrow  trackdone   False     0.0    False                  0   \n",
       "\n",
       "   incognito_mode                track_id  \n",
       "0           False  6r99GoBd08u7ajWGpvdyxm  \n",
       "\n",
       "[1 rows x 22 columns]"
      ]
     },
     "execution_count": 8,
     "metadata": {},
     "output_type": "execute_result"
    }
   ],
   "source": [
    "extended.head(1)"
   ]
  },
  {
   "cell_type": "markdown",
   "id": "4ba36c83-4f74-4527-baa5-5f249119db30",
   "metadata": {},
   "source": [
    "### Spotify API"
   ]
  },
  {
   "cell_type": "code",
   "execution_count": 2,
   "id": "160f3010-03fa-429b-b4fa-10307195dfb9",
   "metadata": {},
   "outputs": [],
   "source": [
    "#throw my keys into a .py file and call to it here so that my keys are hidden\n",
    "import spotipy\n",
    "import config\n",
    "\n",
    "from spotipy.oauth2 import SpotifyClientCredentials\n",
    "client_credentials_manager = SpotifyClientCredentials(client_id=config.cid, client_secret=config.secret)\n",
    "sp = spotipy.Spotify(client_credentials_manager = client_credentials_manager)"
   ]
  },
  {
   "cell_type": "markdown",
   "id": "8ae58a71-498a-4bf4-8024-c9b3fbb20bc3",
   "metadata": {},
   "source": [
    "### User Input Functions\n",
    "1. sp.search artist name and track name to get artist id and track id\n",
    "2. sp.artist to get the artist data\n",
    "3. sp.audio_features to get track features\n",
    "4. output this into the appropriate format for cosine similarity"
   ]
  },
  {
   "cell_type": "code",
   "execution_count": 66,
   "id": "e6173b27-5c73-463f-b937-a31084f745a3",
   "metadata": {},
   "outputs": [
    {
     "data": {
      "text/plain": [
       "{'href': 'https://api.spotify.com/v1/search?query=artist%3AFreddie+Kingtrack%3AHave+You+Ever+Loved+A+Woman&type=track&offset=0&limit=1',\n",
       " 'items': [],\n",
       " 'limit': 1,\n",
       " 'next': None,\n",
       " 'offset': 0,\n",
       " 'previous': None,\n",
       " 'total': 0}"
      ]
     },
     "execution_count": 66,
     "metadata": {},
     "output_type": "execute_result"
    }
   ],
   "source": [
    "art = 'Freddie King'\n",
    "song = 'Have You Ever Loved A Woman'\n",
    "sp.search(q=\"artist:\" + art + \"track:\" + song, type=\"track\", limit =1)['tracks']"
   ]
  },
  {
   "cell_type": "code",
   "execution_count": 126,
   "id": "09a79cc9-537c-435a-b661-09798b9deda0",
   "metadata": {},
   "outputs": [],
   "source": [
    "test = get_users_track(\"Freddie King\", \"Have You Ever Loved a Woman\")"
   ]
  },
  {
   "cell_type": "code",
   "execution_count": 127,
   "id": "e718dc30-e8d6-4360-be60-979d8a242a20",
   "metadata": {},
   "outputs": [
    {
     "data": {
      "text/html": [
       "<div>\n",
       "<style scoped>\n",
       "    .dataframe tbody tr th:only-of-type {\n",
       "        vertical-align: middle;\n",
       "    }\n",
       "\n",
       "    .dataframe tbody tr th {\n",
       "        vertical-align: top;\n",
       "    }\n",
       "\n",
       "    .dataframe thead th {\n",
       "        text-align: right;\n",
       "    }\n",
       "</style>\n",
       "<table border=\"1\" class=\"dataframe\">\n",
       "  <thead>\n",
       "    <tr style=\"text-align: right;\">\n",
       "      <th></th>\n",
       "      <th>popularity</th>\n",
       "      <th>followers</th>\n",
       "      <th>danceability</th>\n",
       "      <th>energy</th>\n",
       "      <th>key</th>\n",
       "      <th>loudness</th>\n",
       "      <th>mode</th>\n",
       "      <th>speechiness</th>\n",
       "      <th>acousticness</th>\n",
       "      <th>instrumentalness</th>\n",
       "      <th>liveness</th>\n",
       "      <th>valence</th>\n",
       "      <th>tempo</th>\n",
       "    </tr>\n",
       "  </thead>\n",
       "  <tbody>\n",
       "    <tr>\n",
       "      <th>Have You Ever Loved A Woman</th>\n",
       "      <td>51</td>\n",
       "      <td>351424</td>\n",
       "      <td>0.678</td>\n",
       "      <td>0.388</td>\n",
       "      <td>1</td>\n",
       "      <td>-11.033</td>\n",
       "      <td>1</td>\n",
       "      <td>0.0273</td>\n",
       "      <td>0.675</td>\n",
       "      <td>0.000034</td>\n",
       "      <td>0.131</td>\n",
       "      <td>0.622</td>\n",
       "      <td>95.705</td>\n",
       "    </tr>\n",
       "  </tbody>\n",
       "</table>\n",
       "</div>"
      ],
      "text/plain": [
       "                             popularity  followers  danceability  energy  key  \\\n",
       "Have You Ever Loved A Woman          51     351424         0.678   0.388    1   \n",
       "\n",
       "                             loudness  mode  speechiness  acousticness  \\\n",
       "Have You Ever Loved A Woman   -11.033     1       0.0273         0.675   \n",
       "\n",
       "                             instrumentalness  liveness  valence   tempo  \n",
       "Have You Ever Loved A Woman          0.000034     0.131    0.622  95.705  "
      ]
     },
     "execution_count": 127,
     "metadata": {},
     "output_type": "execute_result"
    }
   ],
   "source": [
    "test"
   ]
  },
  {
   "cell_type": "code",
   "execution_count": 128,
   "id": "d50bef3e-4005-4a38-84d8-6bbb03868187",
   "metadata": {},
   "outputs": [
    {
     "name": "stdout",
     "output_type": "stream",
     "text": [
      "Stored 'test' (DataFrame)\n"
     ]
    }
   ],
   "source": [
    "%store test"
   ]
  },
  {
   "cell_type": "code",
   "execution_count": 125,
   "id": "10f76e7a-378b-457a-a0e7-4c713d160501",
   "metadata": {},
   "outputs": [],
   "source": [
    "#User Input Functions\n",
    "def get_users_track(artist, track):\n",
    "    \n",
    "    results = sp.search(q=\"artist: \" + artist + \"track: \" + track, type=\"track\", limit =1)['tracks']['items'][0]\n",
    "    artist_id = results['album']['artists'][0]['id']\n",
    "    track_id = results['id']\n",
    "    trackName = results['name']\n",
    "    \n",
    "    #get artist and track features\n",
    "    user_artists = artist_features([artist_id])\n",
    "    user_track = track_features([track_id])\n",
    "    user_table = pd.concat([user_artists, user_track], axis = 1)\n",
    "    user_table.drop(columns = ['trackID','artist_id', 'genre', 'duration_ms', 'time_signature'], inplace = True)\n",
    "    user_table.index = [trackName]\n",
    "    \n",
    "    #normalize features\n",
    "    # user_table['artist_popularity'] = preprocessing.normalize([user_table['popularity']])\n",
    "    # user_table['loudness'] = preprocessing.normalize([user_table['loudness']])\n",
    "    # user_table['followers'] = preprocessing.normalize([user_table['followers']])\n",
    "    # user_table['tempo'] = preprocessing.normalize([user_table['tempo']])\n",
    "    # user_table['key'] = preprocessing.normalize([user_table['key']])\n",
    "    \n",
    "    return user_table"
   ]
  },
  {
   "cell_type": "code",
   "execution_count": 131,
   "id": "6cab77ea-aa08-4f49-8265-6e5ffe3a904c",
   "metadata": {},
   "outputs": [],
   "source": [
    "with open('../models/get_users_track.pkl', 'wb') as f:\n",
    "    pickle.dump(get_users_track, f)"
   ]
  },
  {
   "cell_type": "code",
   "execution_count": 78,
   "id": "fb6ce4bd-01b8-4d46-bb29-f3939c71b3d6",
   "metadata": {},
   "outputs": [],
   "source": [
    "def artist_features(data):\n",
    "    artist = []\n",
    "    artist_id = []\n",
    "    genres = []\n",
    "    artist_popularity= []\n",
    "    followers = []\n",
    "    \n",
    "    for i in data:\n",
    "        results = sp.search(q=f'artist: {i}', type='artist', limit=10)\n",
    "        for i, t in enumerate(results['artists']['items']):\n",
    "            artist.append(t['name'])\n",
    "            artist_id.append(t['id'])\n",
    "            genres.append(t['genres'])\n",
    "            artist_popularity.append(t['popularity'])\n",
    "            followers.append(t['followers']['total'])\n",
    "    \n",
    "#     return pd.DataFrame([artist_id[0], artist[0], genres[0], artist_popularity[0], followers[0]], \n",
    "#                         columns = ['artist_id', 'artist', 'genres', 'artist_popularity', 'followers'])\n",
    "    \n",
    "    artist_feats = pd.DataFrame(artist_id, columns = ['artist_id'])\n",
    "    artist_feats['artistName'] = artist\n",
    "    artist_feats['genres'] = genres\n",
    "    artist_feats['artist_popularity'] = artist_popularity\n",
    "    artist_feats['followers'] = followers\n",
    "    \n",
    "    return artist_feats\n",
    "\n",
    "\n",
    "def track_names(data):\n",
    "    trackName = []\n",
    "    trackID = []\n",
    "    \n",
    "    for a,t in data:\n",
    "        results = sp.search(q=\"artist:\" + a + \" track:\" + t, type=\"track\", limit =1)\n",
    "        for i, t in enumerate(results['tracks']['items']):\n",
    "            trackName.append(t['name'])\n",
    "            trackID.append(t['id'])\n",
    "    \n",
    "    tracks = pd.DataFrame(trackID, columns = ['trackID'])\n",
    "    tracks['trackName'] = trackName\n",
    "    \n",
    "    return tracks"
   ]
  },
  {
   "cell_type": "code",
   "execution_count": 88,
   "id": "ffda9862-e1d7-4dea-8a9e-761ff10354ad",
   "metadata": {},
   "outputs": [],
   "source": [
    "def track_features(data):\n",
    "    danceability = []\n",
    "    energy = []\n",
    "    key = []\n",
    "    loudness = []\n",
    "    mode = []\n",
    "    speechiness = []\n",
    "    acousticness = []\n",
    "    instrumentalness = []\n",
    "    liveness = []\n",
    "    valence = []\n",
    "    tempo = []\n",
    "    track_id = []\n",
    "    duration_ms = []\n",
    "    time_signature = []\n",
    "    \n",
    "    for t in data:\n",
    "        try:\n",
    "            results = sp.audio_features(tracks = t)\n",
    "            danceability.append(results[0]['danceability'])\n",
    "            energy.append(results[0]['energy'])\n",
    "            key.append(results[0]['key'])\n",
    "            loudness.append(results[0]['loudness'])\n",
    "            mode.append(results[0]['mode'])\n",
    "            speechiness.append(results[0]['speechiness'])\n",
    "            acousticness.append(results[0]['acousticness'])\n",
    "            instrumentalness.append(results[0]['instrumentalness'])\n",
    "            liveness.append(results[0]['liveness'])\n",
    "            valence.append(results[0]['valence'])\n",
    "            tempo.append(results[0]['tempo'])\n",
    "            track_id.append(results[0]['id'])\n",
    "            duration_ms.append(results[0]['duration_ms'])\n",
    "            time_signature.append(results[0]['time_signature'])\n",
    "        except:\n",
    "            pass\n",
    "\n",
    "#     return pd.DataFrame([artist_id[0], artist[0], genres[0], artist_popularity[0], followers[0]], \n",
    "#                         columns = ['artist_id', 'artist', 'genres', 'artist_popularity', 'followers'])\n",
    "    \n",
    "    track_features = pd.DataFrame(track_id, columns = ['trackID'])\n",
    "    track_features['danceability'] = danceability\n",
    "    track_features['energy'] = energy\n",
    "    track_features['key'] = key\n",
    "    track_features['loudness'] = loudness \n",
    "    track_features['mode'] = mode \n",
    "    track_features['speechiness'] = speechiness\n",
    "    track_features['acousticness'] = acousticness\n",
    "    track_features['instrumentalness'] = instrumentalness\n",
    "    track_features['liveness'] = liveness\n",
    "    track_features['valence'] = valence\n",
    "    track_features['tempo'] = tempo\n",
    "    track_features['duration_ms'] = duration_ms\n",
    "    track_features['time_signature'] = time_signature\n",
    "    \n",
    "    return track_features"
   ]
  },
  {
   "cell_type": "code",
   "execution_count": 8,
   "id": "02232df0-733a-4dd1-9c81-33fcca2b7eb6",
   "metadata": {},
   "outputs": [
    {
     "data": {
      "text/html": [
       "<div>\n",
       "<style scoped>\n",
       "    .dataframe tbody tr th:only-of-type {\n",
       "        vertical-align: middle;\n",
       "    }\n",
       "\n",
       "    .dataframe tbody tr th {\n",
       "        vertical-align: top;\n",
       "    }\n",
       "\n",
       "    .dataframe thead th {\n",
       "        text-align: right;\n",
       "    }\n",
       "</style>\n",
       "<table border=\"1\" class=\"dataframe\">\n",
       "  <thead>\n",
       "    <tr style=\"text-align: right;\">\n",
       "      <th></th>\n",
       "      <th>trackID</th>\n",
       "      <th>danceability</th>\n",
       "      <th>energy</th>\n",
       "      <th>key</th>\n",
       "      <th>loudness</th>\n",
       "      <th>mode</th>\n",
       "      <th>speechiness</th>\n",
       "      <th>acousticness</th>\n",
       "      <th>instrumentalness</th>\n",
       "      <th>liveness</th>\n",
       "      <th>valence</th>\n",
       "      <th>tempo</th>\n",
       "      <th>duration_ms</th>\n",
       "      <th>time_signature</th>\n",
       "    </tr>\n",
       "  </thead>\n",
       "  <tbody>\n",
       "    <tr>\n",
       "      <th>0</th>\n",
       "      <td>5h5T5gtl1RqMxOuQ5O8rzs</td>\n",
       "      <td>0.865</td>\n",
       "      <td>0.549</td>\n",
       "      <td>0</td>\n",
       "      <td>-10.083</td>\n",
       "      <td>1</td>\n",
       "      <td>0.2440</td>\n",
       "      <td>0.0845</td>\n",
       "      <td>0.156</td>\n",
       "      <td>0.081</td>\n",
       "      <td>0.616</td>\n",
       "      <td>142.800</td>\n",
       "      <td>233300</td>\n",
       "      <td>4</td>\n",
       "    </tr>\n",
       "    <tr>\n",
       "      <th>1</th>\n",
       "      <td>6z4uqDqO9LLdsW3i8GR9Li</td>\n",
       "      <td>0.424</td>\n",
       "      <td>0.204</td>\n",
       "      <td>8</td>\n",
       "      <td>-12.952</td>\n",
       "      <td>0</td>\n",
       "      <td>0.0907</td>\n",
       "      <td>0.7790</td>\n",
       "      <td>0.842</td>\n",
       "      <td>0.110</td>\n",
       "      <td>0.334</td>\n",
       "      <td>83.934</td>\n",
       "      <td>147632</td>\n",
       "      <td>4</td>\n",
       "    </tr>\n",
       "  </tbody>\n",
       "</table>\n",
       "</div>"
      ],
      "text/plain": [
       "                  trackID  danceability  energy  key  loudness  mode  \\\n",
       "0  5h5T5gtl1RqMxOuQ5O8rzs         0.865   0.549    0   -10.083     1   \n",
       "1  6z4uqDqO9LLdsW3i8GR9Li         0.424   0.204    8   -12.952     0   \n",
       "\n",
       "   speechiness  acousticness  instrumentalness  liveness  valence    tempo  \\\n",
       "0       0.2440        0.0845             0.156     0.081    0.616  142.800   \n",
       "1       0.0907        0.7790             0.842     0.110    0.334   83.934   \n",
       "\n",
       "   duration_ms  time_signature  \n",
       "0       233300               4  \n",
       "1       147632               4  "
      ]
     },
     "execution_count": 8,
     "metadata": {},
     "output_type": "execute_result"
    }
   ],
   "source": [
    "track_features(['5h5T5gtl1RqMxOuQ5O8rzs', '6z4uqDqO9LLdsW3i8GR9Li'])"
   ]
  },
  {
   "cell_type": "code",
   "execution_count": null,
   "id": "16c14907-4c87-4126-9ddc-1613cf3016b5",
   "metadata": {},
   "outputs": [],
   "source": [
    "#split the data into 4 chunks to be processed individually. First try in a for loop then put it into a function\n",
    "batches = np.array_split(streaming_df['artistName'], 5)\n",
    "art_feat = [artist_features(x) for x in batches[0]]\n",
    "\n",
    "#concatenate the results into one dataframe and drop the duplicates\n",
    "test = pd.concat([art_feat[0], art_feat[1], art_feat[2], art_feat[3]], axis = 0)\n",
    "test.drop_duplicates(subset = 'artistName', inplace = True)\n",
    "test"
   ]
  },
  {
   "cell_type": "code",
   "execution_count": null,
   "id": "a5a2e663-4aff-4668-a42e-710db30cbe7d",
   "metadata": {},
   "outputs": [],
   "source": [
    "#adding genre, followers, popularity to the streaming_history\n",
    "final = pd.merge(streaming_df, test, how = \"left\", on = ['artistName', 'artistName'])\n",
    "final.dropna(inplace= True)"
   ]
  },
  {
   "cell_type": "code",
   "execution_count": null,
   "id": "2f34d193-58b0-4757-abef-c1f4e6f9de3e",
   "metadata": {},
   "outputs": [],
   "source": [
    "#In order to get track details first I need to pull the track IDs\n",
    "\n",
    "#split the data into 4 chunks to be processed individually. First try in a for loop then put it into a function\n",
    "batches = np.array_split(list(final[['artistName', 'trackName']].itertuples(index=False, name=None)), 4)\n",
    "tracks = [track_names(x) for x in batches]\n",
    "\n",
    "#concatenate the results into one dataframe and drop the duplicates\n",
    "test_track = pd.concat([tracks[0], tracks[1], tracks[2], tracks[3]], axis = 0)\n",
    "test_track.drop_duplicates(subset = 'trackName', inplace = True)\n",
    "test_track"
   ]
  },
  {
   "cell_type": "code",
   "execution_count": null,
   "id": "55a47f26-20b3-4c0f-a615-9e89b2a72a0c",
   "metadata": {},
   "outputs": [],
   "source": [
    "#Pull the track features for each song in history (acousticness, energy, etc)\n",
    "batches = np.array_split(test_track['trackID'], 4)\n",
    "track_feat = [track_features(x) for x in batches]"
   ]
  },
  {
   "cell_type": "code",
   "execution_count": null,
   "id": "990d7e11-3c7b-4c7e-a84d-f1ad07f96ad3",
   "metadata": {},
   "outputs": [],
   "source": [
    "#concatenate the results into one dataframe and drop the duplicates\n",
    "track_df = pd.concat([track_feat[0], track_feat[1], track_feat[2], track_feat[3]], axis = 0)\n",
    "\n",
    "\n",
    "#merge the track data with the artist and streaming history data for a complete dataset\n",
    "track_df.drop_duplicates(subset = 'trackID', inplace = True)\n",
    "track_df = pd.merge(track_df, test_track, how = 'left', on = 'trackID')\n",
    "\n",
    "history = pd.merge(final, track_df, how = \"left\", on = 'trackName')\n",
    "\n",
    "history.dropna(inplace = True)"
   ]
  },
  {
   "cell_type": "markdown",
   "id": "ac82c126-aeda-4fc4-81bf-73a022bdc057",
   "metadata": {},
   "source": [
    "### Recommendations Library\n",
    "I need to build a library of random tracks from spotify API to compare against my history and pick recommendations from.\n",
    "\n",
    "<br> I will take two main approaches here: \n",
    "<br> 1) Pull random playlists from every spotify category then pull tracks from each of those playlists.\n",
    "<br> 2) Identify artists related to my streaming history and pull top songs from these artists. "
   ]
  },
  {
   "cell_type": "markdown",
   "id": "9c48ce72-6977-4564-ad6c-b8dbb68710f1",
   "metadata": {},
   "source": [
    "#### Random Playlists & Tracks from Each Spotify Category\n",
    "Get Random Playlists - Done\n",
    "<br> Get tracks and features from playlists - Done\n",
    "<br> Get artist data - TBD"
   ]
  },
  {
   "cell_type": "code",
   "execution_count": 3,
   "id": "00fb4682-52c2-491a-b2c6-0979dd0989c4",
   "metadata": {},
   "outputs": [],
   "source": [
    "#create a function that grabs offsets of the playlist ids\n",
    "def get_playlist_ids(row):\n",
    "    category_id = []\n",
    "    cat_playlist = []\n",
    "    playlist_ids = []\n",
    "\n",
    "    for i in range (1, 55):\n",
    "        category_id.append(sp.categories(limit=1, offset = i)['categories']['items'][0]['id'])\n",
    "    \n",
    "    category_id.remove('0JQ5DAqbMKFRNXsIvgZF9A')\n",
    "\n",
    "    for a in category_id:\n",
    "        cat_playlist.append(sp.category_playlists(category_id = a, offset = row)['playlists']['items'])\n",
    "     \n",
    "    for x in range(0,53):\n",
    "        for y in range(0,20):\n",
    "            try:\n",
    "                playlist_ids.append(cat_playlist[x][y]['id'])\n",
    "            except:\n",
    "                playlist_ids.append(0)\n",
    "\n",
    "\n",
    "    playlist_ids.remove(0)\n",
    "    playlist_ids = set(playlist_ids)\n",
    "    \n",
    "    return playlist_ids"
   ]
  },
  {
   "cell_type": "code",
   "execution_count": 13,
   "id": "688925b9-42b5-44cc-aed5-8009053162cc",
   "metadata": {},
   "outputs": [],
   "source": [
    "def get_track_ids(playlist_ids):\n",
    "    \n",
    "    results = sp.playlist_tracks(playlist_ids)\n",
    "    t = results['items']\n",
    "    ids = []\n",
    "    \n",
    "    while results['next']:\n",
    "        results = sp.next(results)\n",
    "        t.extend(results['items'])\n",
    "    try:\n",
    "        for s in t: ids.append(s['track']['id'])\n",
    "    except:\n",
    "        ids.append(0)\n",
    "        \n",
    "    return ids"
   ]
  },
  {
   "cell_type": "code",
   "execution_count": 45,
   "id": "71de9f7e-55c7-4031-af57-eedf14722e23",
   "metadata": {},
   "outputs": [],
   "source": [
    "def get_track_artist(artist):\n",
    "    results = sp.tracks(artist)\n",
    "    t = results['tracks']\n",
    "    ids = []\n",
    "    artist = artist\n",
    "    name = []\n",
    "    genre = []\n",
    "    followers = []\n",
    "    \n",
    "    try:\n",
    "        for s in t: \n",
    "            ids.append(s['id'])\n",
    "            genre.append(s['genres'])\n",
    "            followers.append(s['followers']['total'])\n",
    "            name.append(s['name'])   \n",
    "    except:\n",
    "        ids.append(0)\n",
    "        \n",
    "    art_feat = pd.DataFrame(ids, columns = ['artist_id'])\n",
    "    art_feat['artists'] = artist\n",
    "    art_feat['artistName'] = name\n",
    "    art_feat['genre'] = genre\n",
    "    art_feat['followers'] = followers\n",
    "    \n",
    "    return art_feat"
   ]
  },
  {
   "cell_type": "code",
   "execution_count": 80,
   "id": "c0ae43a7-ae70-483c-b66a-1fff8d6dd2b7",
   "metadata": {},
   "outputs": [],
   "source": [
    "def artist_features(data):\n",
    "    artist = []\n",
    "    artist_id = []\n",
    "    genres = []\n",
    "    artist_popularity= []\n",
    "    followers = []\n",
    "    \n",
    "    for i in data:\n",
    "        results = sp.tracks(artist)\n",
    "        for i, t in enumerate(results['tracks']['artists']['items']):\n",
    "            artist.append(t['name'])\n",
    "            artist_id.append(t['id'])\n",
    "            genres.append(t['genres'])\n",
    "            artist_popularity.append(t['popularity'])\n",
    "            followers.append(t['followers']['total'])\n",
    "    \n",
    "#     return pd.DataFrame([artist_id[0], artist[0], genres[0], artist_popularity[0], followers[0]], \n",
    "#                         columns = ['artist_id', 'artist', 'genres', 'artist_popularity', 'followers'])\n",
    "    \n",
    "    artist_feats = pd.DataFrame(artist_id, columns = ['artist_id'])\n",
    "    artist_feats['artistName'] = artist\n",
    "    artist_feats['genres'] = genres\n",
    "    artist_feats['artist_popularity'] = artist_popularity\n",
    "    artist_feats['followers'] = followers\n",
    "    \n",
    "    return artist_feats"
   ]
  },
  {
   "cell_type": "code",
   "execution_count": 4,
   "id": "1c994057-20d9-4684-a5f7-7d33807d6da0",
   "metadata": {},
   "outputs": [],
   "source": [
    "offset = [0,20,40,60,80,100]\n",
    "func_ids = [get_playlist_ids(x) for x in offset]"
   ]
  },
  {
   "cell_type": "code",
   "execution_count": 5,
   "id": "6118c2ea-d11d-45df-9ca8-1020ec6b9e9a",
   "metadata": {},
   "outputs": [],
   "source": [
    "playlist_ids = set(list(func_ids[0]) + list(func_ids[1]) + list(func_ids[2]) + list(func_ids[3]) \n",
    "                   + list(func_ids[4]) + list(func_ids[5]))\n",
    "\n",
    "playlist_ids.remove(0)"
   ]
  },
  {
   "cell_type": "code",
   "execution_count": 6,
   "id": "f16a04a8-fa5c-40ac-b8a7-2826a0857834",
   "metadata": {},
   "outputs": [
    {
     "data": {
      "text/plain": [
       "2353"
      ]
     },
     "execution_count": 6,
     "metadata": {},
     "output_type": "execute_result"
    }
   ],
   "source": [
    "len(playlist_ids)"
   ]
  },
  {
   "cell_type": "code",
   "execution_count": 11,
   "id": "8756385c-4fff-4dbc-8a74-e9c7825bb15a",
   "metadata": {},
   "outputs": [],
   "source": [
    "#playlist_ids"
   ]
  },
  {
   "cell_type": "code",
   "execution_count": null,
   "id": "0c66c251-4343-4947-b086-fd22708896a0",
   "metadata": {},
   "outputs": [],
   "source": [
    "playlist_ids.remove('37i9dQZF1DWVztgMIUG66M') "
   ]
  },
  {
   "cell_type": "code",
   "execution_count": 30,
   "id": "adfa435a-4f59-40ab-b19e-6900b41c964a",
   "metadata": {},
   "outputs": [],
   "source": [
    "batches = np.array_split(list(playlist_ids), 5)"
   ]
  },
  {
   "cell_type": "code",
   "execution_count": 31,
   "id": "806de945-3660-462b-82e4-0b680b44cf48",
   "metadata": {},
   "outputs": [
    {
     "data": {
      "text/plain": [
       "471"
      ]
     },
     "execution_count": 31,
     "metadata": {},
     "output_type": "execute_result"
    }
   ],
   "source": [
    "len(batches[0])"
   ]
  },
  {
   "cell_type": "code",
   "execution_count": 39,
   "id": "edaee841-b8b0-4027-9dea-08ec763dead9",
   "metadata": {},
   "outputs": [],
   "source": [
    "#My requests weren't processing so I seperated the requests into smaller batches and ran them at different times in the day to avoid rate limiting\n",
    "ids = [get_track_ids(x) for x in batches[0]]\n",
    "\n",
    "ids1 = [get_track_ids(x) for x in batches[1]]\n",
    "\n",
    "ids2 = [get_track_ids(x) for x in batches[2]]\n",
    "\n",
    "ids3 = [get_track_ids(x) for x in batches[3]]\n",
    "\n",
    "ids4 = [get_track_ids(x) for x in batches[4]]"
   ]
  },
  {
   "cell_type": "code",
   "execution_count": 5,
   "id": "cd7627b7-e7a7-481f-869c-455605332380",
   "metadata": {},
   "outputs": [],
   "source": [
    "#Flattening lists of track ids\n",
    "ids1 = set(sum(ids1,[]))\n",
    "ids2 = set(sum(ids2,[]))\n",
    "ids3 = set(sum(ids3,[]))\n",
    "ids4 = set(sum(ids4,[]))\n",
    "\n",
    "ids.remove(0)\n",
    "ids1.remove(0)\n",
    "ids2.remove(0)\n",
    "ids3.remove(0)\n",
    "ids4.remove(0)"
   ]
  },
  {
   "cell_type": "code",
   "execution_count": 8,
   "id": "00cc8e99-615a-4d24-8402-dfe002b0f335",
   "metadata": {},
   "outputs": [
    {
     "name": "stdout",
     "output_type": "stream",
     "text": [
      "Stored 'ids' (set)\n",
      "Stored 'ids1' (set)\n",
      "Stored 'ids2' (set)\n",
      "Stored 'ids3' (set)\n",
      "Stored 'ids4' (set)\n"
     ]
    }
   ],
   "source": [
    "%store ids \n",
    "%store ids1 \n",
    "%store ids2 \n",
    "%store ids3 \n",
    "%store ids4"
   ]
  },
  {
   "cell_type": "code",
   "execution_count": 15,
   "id": "3a32f3a3-a81a-495c-a681-da1e68d15a71",
   "metadata": {},
   "outputs": [],
   "source": [
    "%store -r ids \n",
    "%store -r ids1 \n",
    "%store -r ids2 \n",
    "%store -r ids3 \n",
    "%store -r ids4"
   ]
  },
  {
   "cell_type": "code",
   "execution_count": 16,
   "id": "1ed2f43e-60e5-402c-9794-a49cc376d861",
   "metadata": {},
   "outputs": [],
   "source": [
    "#Splitting the data into smaller batches for rate limiting\n",
    "ids_batches = np.array_split(list(ids), 36)\n",
    "ids1_batches = np.array_split(list(ids1), 36)\n",
    "ids2_batches = np.array_split(list(ids2), 36)\n",
    "ids3_batches = np.array_split(list(ids3), 36)\n",
    "ids4_batches = np.array_split(list(ids4), 36)"
   ]
  },
  {
   "cell_type": "code",
   "execution_count": 43,
   "id": "4d7ef52f-520e-422d-bd8b-00d59f633990",
   "metadata": {},
   "outputs": [],
   "source": [
    "# library_feats = []\n",
    "# counter = 0"
   ]
  },
  {
   "cell_type": "code",
   "execution_count": 34,
   "id": "7276e904-50fe-47e4-93fe-75cfc840c670",
   "metadata": {},
   "outputs": [],
   "source": [
    "for x in range(34,36):\n",
    "    if counter < 1:\n",
    "        library_feats.append(track_features(ids4_batches[x]))\n",
    "        counter += 1\n",
    "    else: \n",
    "        time.sleep(30)\n",
    "        counter == 0\n",
    "        library_feats.append(track_features(ids4_batches[x]))"
   ]
  },
  {
   "cell_type": "code",
   "execution_count": 77,
   "id": "9f599aa7-199d-4ebd-adec-bd96198a4066",
   "metadata": {},
   "outputs": [
    {
     "data": {
      "text/plain": [
       "178"
      ]
     },
     "execution_count": 77,
     "metadata": {},
     "output_type": "execute_result"
    }
   ],
   "source": [
    "len(library_feats)"
   ]
  },
  {
   "cell_type": "code",
   "execution_count": 11,
   "id": "525ad1c9-6faa-4305-979e-542d0ed2b525",
   "metadata": {},
   "outputs": [],
   "source": [
    "#%store library_feats"
   ]
  },
  {
   "cell_type": "code",
   "execution_count": 76,
   "id": "3972a5d3-bb41-4b62-a4b5-079e487dd432",
   "metadata": {},
   "outputs": [],
   "source": [
    "%store -r library_feats"
   ]
  },
  {
   "cell_type": "code",
   "execution_count": 80,
   "id": "1fb9220f-ee09-448d-88b0-e65b9b4142de",
   "metadata": {},
   "outputs": [
    {
     "data": {
      "text/html": [
       "<div>\n",
       "<style scoped>\n",
       "    .dataframe tbody tr th:only-of-type {\n",
       "        vertical-align: middle;\n",
       "    }\n",
       "\n",
       "    .dataframe tbody tr th {\n",
       "        vertical-align: top;\n",
       "    }\n",
       "\n",
       "    .dataframe thead th {\n",
       "        text-align: right;\n",
       "    }\n",
       "</style>\n",
       "<table border=\"1\" class=\"dataframe\">\n",
       "  <thead>\n",
       "    <tr style=\"text-align: right;\">\n",
       "      <th></th>\n",
       "      <th>trackID</th>\n",
       "      <th>danceability</th>\n",
       "      <th>energy</th>\n",
       "      <th>key</th>\n",
       "      <th>loudness</th>\n",
       "      <th>mode</th>\n",
       "      <th>speechiness</th>\n",
       "      <th>acousticness</th>\n",
       "      <th>instrumentalness</th>\n",
       "      <th>liveness</th>\n",
       "      <th>valence</th>\n",
       "      <th>tempo</th>\n",
       "      <th>duration_ms</th>\n",
       "      <th>time_signature</th>\n",
       "    </tr>\n",
       "  </thead>\n",
       "  <tbody>\n",
       "    <tr>\n",
       "      <th>0</th>\n",
       "      <td>7jgBDJZfhiHnIhekjFUrsX</td>\n",
       "      <td>0.663</td>\n",
       "      <td>0.736</td>\n",
       "      <td>6</td>\n",
       "      <td>-5.519</td>\n",
       "      <td>1</td>\n",
       "      <td>0.0283</td>\n",
       "      <td>0.2080</td>\n",
       "      <td>0.000037</td>\n",
       "      <td>0.1140</td>\n",
       "      <td>0.480</td>\n",
       "      <td>114.969</td>\n",
       "      <td>210240</td>\n",
       "      <td>4</td>\n",
       "    </tr>\n",
       "    <tr>\n",
       "      <th>1</th>\n",
       "      <td>0hcW7qPqWWJc8189OaqQvX</td>\n",
       "      <td>0.722</td>\n",
       "      <td>0.327</td>\n",
       "      <td>0</td>\n",
       "      <td>-9.612</td>\n",
       "      <td>0</td>\n",
       "      <td>0.0260</td>\n",
       "      <td>0.2990</td>\n",
       "      <td>0.000661</td>\n",
       "      <td>0.0549</td>\n",
       "      <td>0.266</td>\n",
       "      <td>112.249</td>\n",
       "      <td>318467</td>\n",
       "      <td>4</td>\n",
       "    </tr>\n",
       "    <tr>\n",
       "      <th>2</th>\n",
       "      <td>1RI3FXTNkgNqhEIawWkeDS</td>\n",
       "      <td>0.260</td>\n",
       "      <td>0.465</td>\n",
       "      <td>4</td>\n",
       "      <td>-8.093</td>\n",
       "      <td>1</td>\n",
       "      <td>0.0333</td>\n",
       "      <td>0.7800</td>\n",
       "      <td>0.000000</td>\n",
       "      <td>0.3330</td>\n",
       "      <td>0.324</td>\n",
       "      <td>191.624</td>\n",
       "      <td>193802</td>\n",
       "      <td>4</td>\n",
       "    </tr>\n",
       "    <tr>\n",
       "      <th>3</th>\n",
       "      <td>6JLcz9UGiVxAmEZXlCucn5</td>\n",
       "      <td>0.855</td>\n",
       "      <td>0.746</td>\n",
       "      <td>3</td>\n",
       "      <td>-3.777</td>\n",
       "      <td>0</td>\n",
       "      <td>0.2320</td>\n",
       "      <td>0.4020</td>\n",
       "      <td>0.000000</td>\n",
       "      <td>0.1460</td>\n",
       "      <td>0.375</td>\n",
       "      <td>95.026</td>\n",
       "      <td>321987</td>\n",
       "      <td>4</td>\n",
       "    </tr>\n",
       "    <tr>\n",
       "      <th>4</th>\n",
       "      <td>1ciemDCppxQbYhXzqMoBV0</td>\n",
       "      <td>0.717</td>\n",
       "      <td>0.866</td>\n",
       "      <td>5</td>\n",
       "      <td>-4.740</td>\n",
       "      <td>1</td>\n",
       "      <td>0.0434</td>\n",
       "      <td>0.1890</td>\n",
       "      <td>0.000000</td>\n",
       "      <td>0.0640</td>\n",
       "      <td>0.787</td>\n",
       "      <td>130.053</td>\n",
       "      <td>121860</td>\n",
       "      <td>4</td>\n",
       "    </tr>\n",
       "    <tr>\n",
       "      <th>...</th>\n",
       "      <td>...</td>\n",
       "      <td>...</td>\n",
       "      <td>...</td>\n",
       "      <td>...</td>\n",
       "      <td>...</td>\n",
       "      <td>...</td>\n",
       "      <td>...</td>\n",
       "      <td>...</td>\n",
       "      <td>...</td>\n",
       "      <td>...</td>\n",
       "      <td>...</td>\n",
       "      <td>...</td>\n",
       "      <td>...</td>\n",
       "      <td>...</td>\n",
       "    </tr>\n",
       "    <tr>\n",
       "      <th>931</th>\n",
       "      <td>49Z1VQivkHoY5KGdUwMv5i</td>\n",
       "      <td>0.472</td>\n",
       "      <td>0.933</td>\n",
       "      <td>5</td>\n",
       "      <td>-4.985</td>\n",
       "      <td>0</td>\n",
       "      <td>0.1950</td>\n",
       "      <td>0.0632</td>\n",
       "      <td>0.367000</td>\n",
       "      <td>0.0678</td>\n",
       "      <td>0.326</td>\n",
       "      <td>159.949</td>\n",
       "      <td>247500</td>\n",
       "      <td>4</td>\n",
       "    </tr>\n",
       "    <tr>\n",
       "      <th>932</th>\n",
       "      <td>52xJxFP6TqMuO4Yt0eOkMz</td>\n",
       "      <td>0.577</td>\n",
       "      <td>0.450</td>\n",
       "      <td>0</td>\n",
       "      <td>-8.516</td>\n",
       "      <td>0</td>\n",
       "      <td>0.0834</td>\n",
       "      <td>0.3570</td>\n",
       "      <td>0.000000</td>\n",
       "      <td>0.1110</td>\n",
       "      <td>0.830</td>\n",
       "      <td>205.863</td>\n",
       "      <td>216120</td>\n",
       "      <td>4</td>\n",
       "    </tr>\n",
       "    <tr>\n",
       "      <th>933</th>\n",
       "      <td>1Fc2Gqn9bTuoeSHfhl1net</td>\n",
       "      <td>0.619</td>\n",
       "      <td>0.457</td>\n",
       "      <td>0</td>\n",
       "      <td>-9.324</td>\n",
       "      <td>0</td>\n",
       "      <td>0.0348</td>\n",
       "      <td>0.5810</td>\n",
       "      <td>0.000046</td>\n",
       "      <td>0.1360</td>\n",
       "      <td>0.434</td>\n",
       "      <td>79.938</td>\n",
       "      <td>201720</td>\n",
       "      <td>4</td>\n",
       "    </tr>\n",
       "    <tr>\n",
       "      <th>934</th>\n",
       "      <td>6qXGPlkW4paWUiKUai43Mj</td>\n",
       "      <td>0.496</td>\n",
       "      <td>0.252</td>\n",
       "      <td>9</td>\n",
       "      <td>-14.185</td>\n",
       "      <td>1</td>\n",
       "      <td>0.0493</td>\n",
       "      <td>0.6910</td>\n",
       "      <td>0.841000</td>\n",
       "      <td>0.1180</td>\n",
       "      <td>0.446</td>\n",
       "      <td>192.981</td>\n",
       "      <td>625293</td>\n",
       "      <td>3</td>\n",
       "    </tr>\n",
       "    <tr>\n",
       "      <th>935</th>\n",
       "      <td>0zosLtbwbykpbPRyZMCeL5</td>\n",
       "      <td>0.488</td>\n",
       "      <td>0.788</td>\n",
       "      <td>5</td>\n",
       "      <td>-3.626</td>\n",
       "      <td>1</td>\n",
       "      <td>0.0471</td>\n",
       "      <td>0.0401</td>\n",
       "      <td>0.000000</td>\n",
       "      <td>0.0504</td>\n",
       "      <td>0.614</td>\n",
       "      <td>83.853</td>\n",
       "      <td>197093</td>\n",
       "      <td>4</td>\n",
       "    </tr>\n",
       "  </tbody>\n",
       "</table>\n",
       "<p>169028 rows × 14 columns</p>\n",
       "</div>"
      ],
      "text/plain": [
       "                    trackID  danceability  energy  key  loudness  mode  \\\n",
       "0    7jgBDJZfhiHnIhekjFUrsX         0.663   0.736    6    -5.519     1   \n",
       "1    0hcW7qPqWWJc8189OaqQvX         0.722   0.327    0    -9.612     0   \n",
       "2    1RI3FXTNkgNqhEIawWkeDS         0.260   0.465    4    -8.093     1   \n",
       "3    6JLcz9UGiVxAmEZXlCucn5         0.855   0.746    3    -3.777     0   \n",
       "4    1ciemDCppxQbYhXzqMoBV0         0.717   0.866    5    -4.740     1   \n",
       "..                      ...           ...     ...  ...       ...   ...   \n",
       "931  49Z1VQivkHoY5KGdUwMv5i         0.472   0.933    5    -4.985     0   \n",
       "932  52xJxFP6TqMuO4Yt0eOkMz         0.577   0.450    0    -8.516     0   \n",
       "933  1Fc2Gqn9bTuoeSHfhl1net         0.619   0.457    0    -9.324     0   \n",
       "934  6qXGPlkW4paWUiKUai43Mj         0.496   0.252    9   -14.185     1   \n",
       "935  0zosLtbwbykpbPRyZMCeL5         0.488   0.788    5    -3.626     1   \n",
       "\n",
       "     speechiness  acousticness  instrumentalness  liveness  valence    tempo  \\\n",
       "0         0.0283        0.2080          0.000037    0.1140    0.480  114.969   \n",
       "1         0.0260        0.2990          0.000661    0.0549    0.266  112.249   \n",
       "2         0.0333        0.7800          0.000000    0.3330    0.324  191.624   \n",
       "3         0.2320        0.4020          0.000000    0.1460    0.375   95.026   \n",
       "4         0.0434        0.1890          0.000000    0.0640    0.787  130.053   \n",
       "..           ...           ...               ...       ...      ...      ...   \n",
       "931       0.1950        0.0632          0.367000    0.0678    0.326  159.949   \n",
       "932       0.0834        0.3570          0.000000    0.1110    0.830  205.863   \n",
       "933       0.0348        0.5810          0.000046    0.1360    0.434   79.938   \n",
       "934       0.0493        0.6910          0.841000    0.1180    0.446  192.981   \n",
       "935       0.0471        0.0401          0.000000    0.0504    0.614   83.853   \n",
       "\n",
       "     duration_ms  time_signature  \n",
       "0         210240               4  \n",
       "1         318467               4  \n",
       "2         193802               4  \n",
       "3         321987               4  \n",
       "4         121860               4  \n",
       "..           ...             ...  \n",
       "931       247500               4  \n",
       "932       216120               4  \n",
       "933       201720               4  \n",
       "934       625293               3  \n",
       "935       197093               4  \n",
       "\n",
       "[169028 rows x 14 columns]"
      ]
     },
     "execution_count": 80,
     "metadata": {},
     "output_type": "execute_result"
    }
   ],
   "source": [
    "random_track_feats = pd.concat([library_feats[x] for x in range(len(library_feats))])\n",
    "random_track_feats"
   ]
  },
  {
   "cell_type": "code",
   "execution_count": null,
   "id": "ec9ff7d2-d499-4f6b-b388-60d476d39d61",
   "metadata": {},
   "outputs": [],
   "source": [
    "# sp.tracks(['1RI3FXTNkgNqhEIawWkeDS','0hcW7qPqWWJc8189OaqQvX'])['tracks'][0]"
   ]
  },
  {
   "cell_type": "code",
   "execution_count": null,
   "id": "6ca8a7b7-829c-44d4-b1a6-e9244bd86917",
   "metadata": {},
   "outputs": [],
   "source": [
    "sp.search()"
   ]
  },
  {
   "cell_type": "code",
   "execution_count": null,
   "id": "c244d5fc-dd82-4157-ad5e-e5fcb33ce730",
   "metadata": {},
   "outputs": [],
   "source": []
  },
  {
   "cell_type": "markdown",
   "id": "2a37e1c7-f37a-401a-84db-c9e86b2bdb05",
   "metadata": {},
   "source": [
    "#### Get Top Songs from Artists Related to Streaming History\n",
    "Artists Data - Done\n",
    "<br> Top Songs Per Artists - TBD"
   ]
  },
  {
   "cell_type": "code",
   "execution_count": 18,
   "id": "1e1be247-c2b1-4005-b15a-1e1b5d6c421a",
   "metadata": {},
   "outputs": [],
   "source": [
    "def related_artists(artist_ids):\n",
    "    results = sp.artist_related_artists(artist_ids)\n",
    "    t = results['artists']\n",
    "    ids = []\n",
    "    name = []\n",
    "    genre = []\n",
    "    followers = []\n",
    "    try:\n",
    "        for s in t: \n",
    "            ids.append(s['id'])\n",
    "            genre.append(s['genres'])\n",
    "            followers.append(s['followers']['total'])\n",
    "            name.append(s['name'])\n",
    "        \n",
    "    except:\n",
    "        ids.append(0)\n",
    "        \n",
    "    related = pd.DataFrame(ids, columns = ['artist_id'])\n",
    "    related['artistName'] = name\n",
    "    related['genre'] = genre\n",
    "    related['followers'] = followers\n",
    "    \n",
    "    return related"
   ]
  },
  {
   "cell_type": "code",
   "execution_count": 23,
   "id": "a5afcae9-d2b5-46c9-9880-860c65b355cf",
   "metadata": {},
   "outputs": [
    {
     "data": {
      "text/plain": [
       "636"
      ]
     },
     "execution_count": 23,
     "metadata": {},
     "output_type": "execute_result"
    }
   ],
   "source": [
    "len(history['artist_id'].unique())"
   ]
  },
  {
   "cell_type": "code",
   "execution_count": 24,
   "id": "9f3d107b-f1e3-4162-b89b-786cb4fdf8bd",
   "metadata": {},
   "outputs": [],
   "source": [
    "rel_art = [related_artists(x) for x in history['artist_id'].unique()]\n",
    "\n",
    "dfs = []\n",
    "for x in range(0,636):\n",
    "    dfs.append(rel_art[x])\n",
    "\n",
    "related_artists = pd.concat(dfs, axis = 0)\n",
    "\n",
    "related_artists.drop_duplicates(subset = 'artist_id', inplace = True)\n",
    "\n",
    "related_artists.reset_index(inplace = True, drop = True)\n",
    "\n",
    "related_artists.head()"
   ]
  },
  {
   "cell_type": "code",
   "execution_count": 30,
   "id": "26439ea9-d870-4677-a0da-4614347d6978",
   "metadata": {},
   "outputs": [
    {
     "name": "stdout",
     "output_type": "stream",
     "text": [
      "Stored 'related_artists' (DataFrame)\n"
     ]
    }
   ],
   "source": [
    "%store related_artists"
   ]
  },
  {
   "cell_type": "code",
   "execution_count": 32,
   "id": "71cc9238-943c-4991-b498-a817702c9347",
   "metadata": {},
   "outputs": [
    {
     "data": {
      "text/html": [
       "<div>\n",
       "<style scoped>\n",
       "    .dataframe tbody tr th:only-of-type {\n",
       "        vertical-align: middle;\n",
       "    }\n",
       "\n",
       "    .dataframe tbody tr th {\n",
       "        vertical-align: top;\n",
       "    }\n",
       "\n",
       "    .dataframe thead th {\n",
       "        text-align: right;\n",
       "    }\n",
       "</style>\n",
       "<table border=\"1\" class=\"dataframe\">\n",
       "  <thead>\n",
       "    <tr style=\"text-align: right;\">\n",
       "      <th></th>\n",
       "      <th>artist_id</th>\n",
       "      <th>artistName</th>\n",
       "      <th>genre</th>\n",
       "      <th>followers</th>\n",
       "    </tr>\n",
       "  </thead>\n",
       "  <tbody>\n",
       "    <tr>\n",
       "      <th>0</th>\n",
       "      <td>1A9o3Ljt67pFZ89YtPPL5X</td>\n",
       "      <td>Snoh Aalegra</td>\n",
       "      <td>[alternative r&amp;b, neo soul, r&amp;b, scandinavian ...</td>\n",
       "      <td>881683.0</td>\n",
       "    </tr>\n",
       "    <tr>\n",
       "      <th>1</th>\n",
       "      <td>3Y7RZ31TRPVadSFVy1o8os</td>\n",
       "      <td>H.E.R.</td>\n",
       "      <td>[pop, r&amp;b, rap, urban contemporary]</td>\n",
       "      <td>5661164.0</td>\n",
       "    </tr>\n",
       "    <tr>\n",
       "      <th>2</th>\n",
       "      <td>30DhU7BDmF4PH0JVhu8ZRg</td>\n",
       "      <td>Sabrina Claudio</td>\n",
       "      <td>[pop, r&amp;b]</td>\n",
       "      <td>1443420.0</td>\n",
       "    </tr>\n",
       "    <tr>\n",
       "      <th>3</th>\n",
       "      <td>5aMIbwZQvP2MHPMVC5zCGj</td>\n",
       "      <td>ODIE</td>\n",
       "      <td>[canadian contemporary r&amp;b, indie r&amp;b]</td>\n",
       "      <td>241438.0</td>\n",
       "    </tr>\n",
       "    <tr>\n",
       "      <th>4</th>\n",
       "      <td>3tlXnStJ1fFhdScmQeLpuG</td>\n",
       "      <td>Brent Faiyaz</td>\n",
       "      <td>[dmv rap, hip hop, pop, r&amp;b, rap]</td>\n",
       "      <td>2889860.0</td>\n",
       "    </tr>\n",
       "    <tr>\n",
       "      <th>...</th>\n",
       "      <td>...</td>\n",
       "      <td>...</td>\n",
       "      <td>...</td>\n",
       "      <td>...</td>\n",
       "    </tr>\n",
       "    <tr>\n",
       "      <th>5928</th>\n",
       "      <td>2YEnrpAWWaNRFumgde1lLH</td>\n",
       "      <td>Oden &amp; Fatzo</td>\n",
       "      <td>[disco house]</td>\n",
       "      <td>16982.0</td>\n",
       "    </tr>\n",
       "    <tr>\n",
       "      <th>5929</th>\n",
       "      <td>4pSMnAlD8JVEW3eZDuaQH8</td>\n",
       "      <td>Anish Kumar</td>\n",
       "      <td>[]</td>\n",
       "      <td>6794.0</td>\n",
       "    </tr>\n",
       "    <tr>\n",
       "      <th>5930</th>\n",
       "      <td>1uF7AFfGahplhiaHEy9NNl</td>\n",
       "      <td>Loods</td>\n",
       "      <td>[australian dance, disco house]</td>\n",
       "      <td>10598.0</td>\n",
       "    </tr>\n",
       "    <tr>\n",
       "      <th>5931</th>\n",
       "      <td>4W991QdgKWX4TO864ypInA</td>\n",
       "      <td>Eats Everything</td>\n",
       "      <td>[deep disco house, house, raw techno]</td>\n",
       "      <td>80982.0</td>\n",
       "    </tr>\n",
       "    <tr>\n",
       "      <th>5932</th>\n",
       "      <td>4cUkGQyhLFqKHBtL58HYVp</td>\n",
       "      <td>Channel Tres</td>\n",
       "      <td>[la pop]</td>\n",
       "      <td>222284.0</td>\n",
       "    </tr>\n",
       "  </tbody>\n",
       "</table>\n",
       "<p>5933 rows × 4 columns</p>\n",
       "</div>"
      ],
      "text/plain": [
       "                   artist_id       artistName  \\\n",
       "0     1A9o3Ljt67pFZ89YtPPL5X     Snoh Aalegra   \n",
       "1     3Y7RZ31TRPVadSFVy1o8os           H.E.R.   \n",
       "2     30DhU7BDmF4PH0JVhu8ZRg  Sabrina Claudio   \n",
       "3     5aMIbwZQvP2MHPMVC5zCGj             ODIE   \n",
       "4     3tlXnStJ1fFhdScmQeLpuG     Brent Faiyaz   \n",
       "...                      ...              ...   \n",
       "5928  2YEnrpAWWaNRFumgde1lLH     Oden & Fatzo   \n",
       "5929  4pSMnAlD8JVEW3eZDuaQH8      Anish Kumar   \n",
       "5930  1uF7AFfGahplhiaHEy9NNl            Loods   \n",
       "5931  4W991QdgKWX4TO864ypInA  Eats Everything   \n",
       "5932  4cUkGQyhLFqKHBtL58HYVp     Channel Tres   \n",
       "\n",
       "                                                  genre  followers  \n",
       "0     [alternative r&b, neo soul, r&b, scandinavian ...   881683.0  \n",
       "1                   [pop, r&b, rap, urban contemporary]  5661164.0  \n",
       "2                                            [pop, r&b]  1443420.0  \n",
       "3                [canadian contemporary r&b, indie r&b]   241438.0  \n",
       "4                     [dmv rap, hip hop, pop, r&b, rap]  2889860.0  \n",
       "...                                                 ...        ...  \n",
       "5928                                      [disco house]    16982.0  \n",
       "5929                                                 []     6794.0  \n",
       "5930                    [australian dance, disco house]    10598.0  \n",
       "5931              [deep disco house, house, raw techno]    80982.0  \n",
       "5932                                           [la pop]   222284.0  \n",
       "\n",
       "[5933 rows x 4 columns]"
      ]
     },
     "execution_count": 32,
     "metadata": {},
     "output_type": "execute_result"
    }
   ],
   "source": [
    "related_artists"
   ]
  },
  {
   "cell_type": "code",
   "execution_count": null,
   "id": "16ae07d2-d0e8-4777-beff-56c50528b808",
   "metadata": {},
   "outputs": [],
   "source": [
    "# search for all tracks from related artists and artists from the random generated playlist\n",
    "# pull more tracks using offset from random playlist generator\n",
    "# goal will be to get 500k tracks\n",
    "# once I have 500k tracks ids pull the track features that are needed for modeling "
   ]
  },
  {
   "cell_type": "code",
   "execution_count": null,
   "id": "6338905b-44c8-4a59-9cef-b467cd75617c",
   "metadata": {},
   "outputs": [],
   "source": [
    "#sp.artist_albums('1A9o3Ljt67pFZ89YtPPL5X')['items'][2]['id']"
   ]
  },
  {
   "cell_type": "code",
   "execution_count": null,
   "id": "9a0990dd-8388-4487-88e7-0f3e31243945",
   "metadata": {},
   "outputs": [],
   "source": [
    "#related_artists['artist_id'][1]"
   ]
  },
  {
   "cell_type": "code",
   "execution_count": null,
   "id": "93c6f374-f095-463e-aadb-e8211a0ef061",
   "metadata": {},
   "outputs": [],
   "source": [
    "#sp.album_tracks('2OIMJ2Arm0dYpmWIfQOXTD')['items'][0]['name']"
   ]
  },
  {
   "cell_type": "markdown",
   "id": "683f66b9-0ab0-4aa9-abc6-841950f52c25",
   "metadata": {},
   "source": [
    "#### Pulling in the Genre and Followers for Kaggle Dataset - Done"
   ]
  },
  {
   "cell_type": "code",
   "execution_count": 82,
   "id": "64059c2f-1672-4c50-a62d-57ed4a7522b6",
   "metadata": {},
   "outputs": [],
   "source": [
    "def artist_features(artist):\n",
    "    results = sp.search(q=f'artist: {artist}', type='artist', limit=1)\n",
    "    t = results['artists']['items']\n",
    "    ids = []\n",
    "    artist = artist\n",
    "    name = []\n",
    "    genre = []\n",
    "    followers = []\n",
    "    \n",
    "    try:\n",
    "        for s in t: \n",
    "            ids.append(s['id'])\n",
    "            genre.append(s['genres'])\n",
    "            followers.append(s['followers']['total'])\n",
    "            name.append(s['name'])   \n",
    "    except:\n",
    "        ids.append(0)\n",
    "        \n",
    "    art_feat = pd.DataFrame(ids, columns = ['artist_id'])\n",
    "    art_feat['artists'] = artist\n",
    "    art_feat['artistName'] = name\n",
    "    art_feat['genre'] = genre\n",
    "    art_feat['followers'] = followers\n",
    "    \n",
    "    return art_feat"
   ]
  },
  {
   "cell_type": "code",
   "execution_count": 90,
   "id": "ac4f1a7a-1308-4297-b857-746514908f52",
   "metadata": {},
   "outputs": [],
   "source": [
    "#I ran into issues trying to pull artist data so I had to run API requests in smaller batches\n",
    "#I also had to filter out strings that were too long to be searched\n",
    "\n",
    "artist_batches = np.array_split(kaggle_df['artists'].loc[(kaggle_df['artists'].str.len() < 200)].unique(), 150)\n",
    "\n",
    "kaggle_artists = []"
   ]
  },
  {
   "cell_type": "code",
   "execution_count": 17,
   "id": "4a1858eb-62be-42f3-8f46-1e6802e64a22",
   "metadata": {},
   "outputs": [],
   "source": [
    "for x in range(140,150):\n",
    "    if counter < 1:\n",
    "        time.sleep(30)\n",
    "        kaggle_artists.append([artist_features(a) for a in artist_batches[x]])\n",
    "        counter += 1\n",
    "    else: \n",
    "        time.sleep(30)\n",
    "        counter == 0\n",
    "        kaggle_artists.append([artist_features(a) for a in artist_batches[x]])"
   ]
  },
  {
   "cell_type": "code",
   "execution_count": 71,
   "id": "e0378539-b9f6-47a4-9a1b-452b80a5e550",
   "metadata": {},
   "outputs": [],
   "source": [
    "#Condensing the artists data into one dataframe with the track data from kaggle_df\n",
    "batch_df = []\n",
    "\n",
    "for df in range(len(kaggle_artists)):\n",
    "    batch_df.append(pd.concat([x for x in kaggle_artists[df]]))\n",
    "\n",
    "test= pd.concat([batch_df[x] for x in range(len(batch_df))])\n",
    "\n",
    "kaggle = pd.merge(left = kaggle_df, right = test, on = ['artists', 'artists'], how = 'left')"
   ]
  },
  {
   "cell_type": "markdown",
   "id": "e3bd5b9a-e2fe-41b0-a79d-2875a5fc60b7",
   "metadata": {},
   "source": [
    "#### Extended Streaming History"
   ]
  },
  {
   "cell_type": "code",
   "execution_count": 128,
   "id": "2a71e01c-03bb-440a-b545-b11f050944f6",
   "metadata": {},
   "outputs": [],
   "source": [
    "ext_batches = np.array_split(extended['track_id'], 1000)\n",
    "art_feat = []\n",
    "counter = 0"
   ]
  },
  {
   "cell_type": "code",
   "execution_count": 125,
   "id": "d0666ec6-adfb-42c2-adad-b912d8e76514",
   "metadata": {},
   "outputs": [],
   "source": [
    "def get_track_artist(tracks):\n",
    "    results = sp.tracks(tracks)\n",
    "    t = results['tracks']\n",
    "    ids = []\n",
    "    track_id = [track for track in tracks]\n",
    "    \n",
    "    try:\n",
    "        for s in t: \n",
    "            ids.append(s['artists'][0]['id'])\n",
    "             \n",
    "    except:\n",
    "        ids.append(0)\n",
    "        \n",
    "    \n",
    "    #art_feat = pd.DataFrame(ids, columns = ['artist_id'])\n",
    "    #art_feat['track_id'] = track_id\n",
    "    \n",
    "    df = artist_features(ids)\n",
    "    df['track_id'] = track_id\n",
    "    \n",
    "    return df"
   ]
  },
  {
   "cell_type": "code",
   "execution_count": 83,
   "id": "1aedd121-fc58-4831-938b-5bd433db509e",
   "metadata": {},
   "outputs": [],
   "source": [
    "def artist_features(artist):\n",
    "    results = sp.artists(artist)\n",
    "    t = results['artists']\n",
    "    ids = []\n",
    "    artist_id = [x for x in artist]\n",
    "    name = []\n",
    "    genre = []\n",
    "    popularity = []\n",
    "    followers = []\n",
    "    \n",
    "    \n",
    "    try:\n",
    "        for s in t: \n",
    "            ids.append(s['id'])\n",
    "            genre.append(s['genres'])\n",
    "            popularity.append(s['popularity'])\n",
    "            followers.append(s['followers']['total'])   \n",
    "    except:\n",
    "        ids.append(0)\n",
    "        \n",
    "    art_feat = pd.DataFrame(ids, columns = ['artist_id'])\n",
    "    art_feat['artist_id'] = artist_id\n",
    "    art_feat['genre'] = genre\n",
    "    art_feat['popularity'] = popularity\n",
    "    art_feat['followers'] = followers\n",
    "    \n",
    "    return art_feat"
   ]
  },
  {
   "cell_type": "code",
   "execution_count": 155,
   "id": "6412939c-8436-4a7c-be70-eb0911a9ad19",
   "metadata": {},
   "outputs": [],
   "source": [
    "for x in range(900,1000):\n",
    "    if counter < 1:\n",
    "        time.sleep(5)\n",
    "        art_feat.append(get_track_artist(ext_batches[x]))\n",
    "        counter += 1\n",
    "    else: \n",
    "        time.sleep(5)\n",
    "        counter == 0\n",
    "        art_feat.append(get_track_artist(ext_batches[x]))"
   ]
  },
  {
   "cell_type": "code",
   "execution_count": null,
   "id": "8ebe2a8b-ca4d-4b21-bbd1-a9e7f5e7f313",
   "metadata": {},
   "outputs": [],
   "source": [
    "#split the data into 4 chunks to be processed individually. First try in a for loop then put it into a function\n",
    "batches = np.array_split(extended['master_metadata_album_artist_name'], 5)\n",
    "art_feat = [artist_features(x) for x in batches[0]]\n",
    "\n",
    "#concatenate the results into one dataframe and drop the duplicates\n",
    "test = pd.concat([art_feat[0], art_feat[1], art_feat[2], art_feat[3]], axis = 0)\n",
    "test.drop_duplicates(subset = 'artistName', inplace = True)\n",
    "test"
   ]
  },
  {
   "cell_type": "code",
   "execution_count": 32,
   "id": "336eccf5-d3cb-46d6-8997-78e5cc769426",
   "metadata": {},
   "outputs": [],
   "source": [
    "#Pulling the track features for each song in extended history\n",
    "ext_batches = np.array_split(extended['track_id'], 100)\n",
    "track_feat = []\n",
    "counter = 0"
   ]
  },
  {
   "cell_type": "code",
   "execution_count": 58,
   "id": "d0091667-95d7-4ac9-b6b5-1cd3de2efda7",
   "metadata": {},
   "outputs": [],
   "source": [
    "for x in range(95,100):\n",
    "    if counter < 1:\n",
    "        time.sleep(30)\n",
    "        track_feat.append(track_features(ext_batches[x]))\n",
    "        counter += 1\n",
    "    else: \n",
    "        time.sleep(30)\n",
    "        counter == 0\n",
    "        track_feat.append(track_features(ext_batches[x]))"
   ]
  },
  {
   "cell_type": "code",
   "execution_count": 185,
   "id": "0faf77a5-ab78-4b2a-84c3-037838346d05",
   "metadata": {},
   "outputs": [],
   "source": [
    "#Merge the track and artists features pulled from spotify api\n",
    "track_df = pd.concat([track_feat[x] for x in range(len(track_feat))])\n",
    "art_df = pd.concat([art_feat[x] for x in range(len(art_feat))])\n",
    "track_df.drop_duplicates(inplace = True)\n",
    "art_df.drop_duplicates(subset = 'track_id', inplace = True)\n",
    "\n",
    "extended_spotify = pd.merge(track_df, art_df, how = 'left', left_on = 'trackID', right_on ='track_id')\n",
    "extended = pd.merge(extended, extended_spotify, how = 'left', left_on = 'track_id', right_on = 'trackID')"
   ]
  },
  {
   "cell_type": "code",
   "execution_count": 194,
   "id": "1b986f82-de04-4d17-afe6-22a35fa100b0",
   "metadata": {},
   "outputs": [],
   "source": [
    "#save variables as csvs to pass to read across notebooks\n",
    "kaggle.to_csv('../data/kaggle.csv')\n",
    "history.to_csv('../data/streaminghistory.csv')\n",
    "extended.to_csv('../data/extendedhistory.csv')"
   ]
  },
  {
   "cell_type": "code",
   "execution_count": 200,
   "id": "eeab24a0-b23e-4e1c-8a02-49cff1b4ce9e",
   "metadata": {},
   "outputs": [],
   "source": [
    "%store -d track_feat\n",
    "%store -d art_feat"
   ]
  },
  {
   "cell_type": "code",
   "execution_count": null,
   "id": "3b216263-a597-4902-9009-b03e5a76e0b1",
   "metadata": {},
   "outputs": [],
   "source": []
  }
 ],
 "metadata": {
  "kernelspec": {
   "display_name": "Python 3 (ipykernel)",
   "language": "python",
   "name": "python3"
  },
  "language_info": {
   "codemirror_mode": {
    "name": "ipython",
    "version": 3
   },
   "file_extension": ".py",
   "mimetype": "text/x-python",
   "name": "python",
   "nbconvert_exporter": "python",
   "pygments_lexer": "ipython3",
   "version": "3.9.12"
  }
 },
 "nbformat": 4,
 "nbformat_minor": 5
}
