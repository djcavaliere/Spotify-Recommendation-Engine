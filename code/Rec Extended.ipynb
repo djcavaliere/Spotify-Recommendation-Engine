{
 "cells": [
  {
   "cell_type": "markdown",
   "id": "dfd0aa26-a242-434e-a7fe-310ef7cca90a",
   "metadata": {},
   "source": [
    "### Recommendation Engine\n",
    "\n",
    "Overview: The idea behind a song recommendation system is to identify songs that a user may enjoy based on their listening preferences. In order to accomplish this task I will pull in my listening history and compare various song features from my listening history with songs I not in my listening history to recommend songs that are most like the ones I listen to.\n",
    "\n",
    "Step 1: Combine my listening history with a random library of songs \n",
    "<br>Step 2: Preprocess the data so that each desired feature is considered\n",
    "<br>Step 3: Create a cosine similarity matrix\n",
    "<br>Step 4: Create a function to make recommendations given a selected song"
   ]
  },
  {
   "cell_type": "markdown",
   "id": "cd03844c-3263-47c2-8fcc-950c2e121651",
   "metadata": {},
   "source": [
    "### Import Libraries & Data"
   ]
  },
  {
   "cell_type": "code",
   "execution_count": 1,
   "id": "ac5181b9-4b06-444e-aae2-0f7762a14064",
   "metadata": {},
   "outputs": [],
   "source": [
    "import pandas as pd\n",
    "import numpy as np\n",
    "import pickle\n",
    "\n",
    "from sklearn.metrics.pairwise import pairwise_distances, cosine_similarity, cosine_distances\n",
    "from sklearn import preprocessing\n",
    "from sklearn.feature_extraction.text import TfidfVectorizer\n",
    "from sklearn.feature_extraction.text import CountVectorizer"
   ]
  },
  {
   "cell_type": "code",
   "execution_count": 2,
   "id": "08895142-5ac0-4900-b17e-a2b6493bcaaa",
   "metadata": {},
   "outputs": [],
   "source": [
    "#Load in the data\n",
    "kaggle = pd.read_csv('../data/kaggle.csv')\n",
    "%store -r extended"
   ]
  },
  {
   "cell_type": "code",
   "execution_count": 3,
   "id": "f501a842-f084-4ee8-abd1-3213fcb3e075",
   "metadata": {},
   "outputs": [],
   "source": [
    "#Remove Duplicates \n",
    "extended.drop_duplicates(subset = 'trackID', inplace = True)\n",
    "kaggle.dropna(inplace = True)\n",
    "kaggle.drop_duplicates(subset = 'id', inplace = True)"
   ]
  },
  {
   "cell_type": "code",
   "execution_count": 4,
   "id": "89a4f8c3-ede6-4b16-80c1-f12496a3fa57",
   "metadata": {},
   "outputs": [],
   "source": [
    "#Dropping unnecessary columns and combining listening history and library\n",
    "historytemp = extended.drop(columns = ['listen_count', 'year', 'ts', 'artist_id', 'trackID'])\n",
    "library = kaggle.drop(columns = ['Unnamed: 0','year', 'duration_ms', 'explicit', 'release_date', 'artistName', 'artist_id', 'id'])\n",
    "\n",
    "library = library[['name', 'artists', 'genre', 'popularity', 'followers', 'danceability', 'energy', 'key', 'loudness', 'mode', 'speechiness', 'acousticness', 'instrumentalness', 'liveness', 'valence', 'tempo']]\n",
    "library.rename(columns = {'name':'trackName','artists':'artistName'}, inplace = True)\n",
    "historytemp = historytemp[['master_metadata_track_name', 'master_metadata_album_artist_name', 'genre', 'popularity', 'followers', 'danceability', 'energy', 'key', 'loudness', 'mode', 'speechiness', 'acousticness', 'instrumentalness', 'liveness', 'valence', 'tempo']]\n",
    "historytemp.rename(columns = {'master_metadata_track_name':'trackName', 'master_metadata_album_artist_name': 'artistName'}, inplace = True)\n",
    "\n",
    "#Join the library and listening history into one dataframe\n",
    "combined = pd.concat([library, historytemp], axis=0)\n",
    "\n",
    "#Combine track and artist to easily identify songs\n",
    "combined['Song'] = combined['trackName'] + '-' + combined['artistName'] \n",
    "combined.drop(columns = ['trackName', 'artistName'], inplace = True)\n",
    "combined.reset_index(inplace = True)"
   ]
  },
  {
   "cell_type": "markdown",
   "id": "a9eb4233-5ce4-41dc-b863-ecee409db396",
   "metadata": {},
   "source": [
    "### Recommendation System -- No Genres --"
   ]
  },
  {
   "cell_type": "code",
   "execution_count": 5,
   "id": "9f45990a-79ab-4b99-85db-64a674021c13",
   "metadata": {},
   "outputs": [],
   "source": [
    "#Create a datframe without genres\n",
    "no_genre = combined.drop(columns = ['genre', 'Song'])\n",
    "no_genre.index = combined['Song']\n",
    "no_genre.drop(columns = ['index'], inplace = True)\n",
    "no_genre.dropna(inplace = True)"
   ]
  },
  {
   "cell_type": "code",
   "execution_count": 6,
   "id": "90719351-6e6a-4446-ac7b-24848b75b541",
   "metadata": {},
   "outputs": [
    {
     "data": {
      "text/html": [
       "<div>\n",
       "<style scoped>\n",
       "    .dataframe tbody tr th:only-of-type {\n",
       "        vertical-align: middle;\n",
       "    }\n",
       "\n",
       "    .dataframe tbody tr th {\n",
       "        vertical-align: top;\n",
       "    }\n",
       "\n",
       "    .dataframe thead th {\n",
       "        text-align: right;\n",
       "    }\n",
       "</style>\n",
       "<table border=\"1\" class=\"dataframe\">\n",
       "  <thead>\n",
       "    <tr style=\"text-align: right;\">\n",
       "      <th></th>\n",
       "      <th>All The Things (Your Man Won't Do)-Joe</th>\n",
       "    </tr>\n",
       "    <tr>\n",
       "      <th>Song</th>\n",
       "      <th></th>\n",
       "    </tr>\n",
       "  </thead>\n",
       "  <tbody>\n",
       "    <tr>\n",
       "      <th>All The Things (Your Man Won't Do)-Joe</th>\n",
       "      <td>1.0</td>\n",
       "    </tr>\n",
       "    <tr>\n",
       "      <th>Fallin-Macklemore</th>\n",
       "      <td>1.0</td>\n",
       "    </tr>\n",
       "    <tr>\n",
       "      <th>Notion-['Tash Sultana']</th>\n",
       "      <td>1.0</td>\n",
       "    </tr>\n",
       "    <tr>\n",
       "      <th>parents-['YUNGBLUD']</th>\n",
       "      <td>1.0</td>\n",
       "    </tr>\n",
       "    <tr>\n",
       "      <th>Free Fallin'-['Tom Petty']</th>\n",
       "      <td>1.0</td>\n",
       "    </tr>\n",
       "    <tr>\n",
       "      <th>Life Goes On-Oliver Tree</th>\n",
       "      <td>1.0</td>\n",
       "    </tr>\n",
       "    <tr>\n",
       "      <th>Spice Girl-['Aminé']</th>\n",
       "      <td>1.0</td>\n",
       "    </tr>\n",
       "    <tr>\n",
       "      <th>L-O-V-E-['Nat King Cole']</th>\n",
       "      <td>1.0</td>\n",
       "    </tr>\n",
       "    <tr>\n",
       "      <th>Single Saturday Night-['Cole Swindell']</th>\n",
       "      <td>1.0</td>\n",
       "    </tr>\n",
       "    <tr>\n",
       "      <th>She Used To Be Mine-['Sara Bareilles']</th>\n",
       "      <td>1.0</td>\n",
       "    </tr>\n",
       "  </tbody>\n",
       "</table>\n",
       "</div>"
      ],
      "text/plain": [
       "                                         All The Things (Your Man Won't Do)-Joe\n",
       "Song                                                                           \n",
       "All The Things (Your Man Won't Do)-Joe                                      1.0\n",
       "Fallin-Macklemore                                                           1.0\n",
       "Notion-['Tash Sultana']                                                     1.0\n",
       "parents-['YUNGBLUD']                                                        1.0\n",
       "Free Fallin'-['Tom Petty']                                                  1.0\n",
       "Life Goes On-Oliver Tree                                                    1.0\n",
       "Spice Girl-['Aminé']                                                        1.0\n",
       "L-O-V-E-['Nat King Cole']                                                   1.0\n",
       "Single Saturday Night-['Cole Swindell']                                     1.0\n",
       "She Used To Be Mine-['Sara Bareilles']                                      1.0"
      ]
     },
     "execution_count": 6,
     "metadata": {},
     "output_type": "execute_result"
    }
   ],
   "source": [
    "#calculate similarity scores\n",
    "similarity = cosine_similarity(no_genre, no_genre.iloc[[-1]])\n",
    "\n",
    "# sim = pd.DataFrame(similarity, index = temp.index, columns = temp.iloc[[0]].index)\n",
    "sim = pd.DataFrame(similarity, index = no_genre.index, columns = [no_genre.index[-1]])\n",
    "\n",
    "#return ten songs most similar to input song\n",
    "sim.sort_values(by = no_genre.index[-1], ascending = False).head(10)"
   ]
  },
  {
   "cell_type": "code",
   "execution_count": 25,
   "id": "e558d84e-8ab8-4969-b3ba-e22994e712e8",
   "metadata": {},
   "outputs": [],
   "source": [
    "#Recommendation Function- Update this to only return the Song not the similarity score\n",
    "def recommendations_nogenre(library, user_input):\n",
    "    #calculate similarity\n",
    "    similarity = cosine_similarity(library, user_input)\n",
    "    \n",
    "    #create a similarity DataFrame\n",
    "    sim = pd.DataFrame(similarity, index = library.index, columns = [user_input.index[0]])\n",
    "    \n",
    "    #filter to top 5 \n",
    "    recs = sim.sort_values(by = test.index[0], ascending = False)[1:6]\n",
    "    \n",
    "    return recs"
   ]
  },
  {
   "cell_type": "code",
   "execution_count": 22,
   "id": "3263fb07-4589-4c1c-bc1b-4d864772ef4a",
   "metadata": {},
   "outputs": [
    {
     "data": {
      "text/html": [
       "<div>\n",
       "<style scoped>\n",
       "    .dataframe tbody tr th:only-of-type {\n",
       "        vertical-align: middle;\n",
       "    }\n",
       "\n",
       "    .dataframe tbody tr th {\n",
       "        vertical-align: top;\n",
       "    }\n",
       "\n",
       "    .dataframe thead th {\n",
       "        text-align: right;\n",
       "    }\n",
       "</style>\n",
       "<table border=\"1\" class=\"dataframe\">\n",
       "  <thead>\n",
       "    <tr style=\"text-align: right;\">\n",
       "      <th></th>\n",
       "      <th>popularity</th>\n",
       "      <th>followers</th>\n",
       "      <th>danceability</th>\n",
       "      <th>energy</th>\n",
       "      <th>key</th>\n",
       "      <th>loudness</th>\n",
       "      <th>mode</th>\n",
       "      <th>speechiness</th>\n",
       "      <th>acousticness</th>\n",
       "      <th>instrumentalness</th>\n",
       "      <th>liveness</th>\n",
       "      <th>valence</th>\n",
       "      <th>tempo</th>\n",
       "    </tr>\n",
       "  </thead>\n",
       "  <tbody>\n",
       "    <tr>\n",
       "      <th>Have You Ever Loved A Woman</th>\n",
       "      <td>51</td>\n",
       "      <td>351424</td>\n",
       "      <td>0.678</td>\n",
       "      <td>0.388</td>\n",
       "      <td>1</td>\n",
       "      <td>-11.033</td>\n",
       "      <td>1</td>\n",
       "      <td>0.0273</td>\n",
       "      <td>0.675</td>\n",
       "      <td>0.000034</td>\n",
       "      <td>0.131</td>\n",
       "      <td>0.622</td>\n",
       "      <td>95.705</td>\n",
       "    </tr>\n",
       "  </tbody>\n",
       "</table>\n",
       "</div>"
      ],
      "text/plain": [
       "                             popularity  followers  danceability  energy  key  \\\n",
       "Have You Ever Loved A Woman          51     351424         0.678   0.388    1   \n",
       "\n",
       "                             loudness  mode  speechiness  acousticness  \\\n",
       "Have You Ever Loved A Woman   -11.033     1       0.0273         0.675   \n",
       "\n",
       "                             instrumentalness  liveness  valence   tempo  \n",
       "Have You Ever Loved A Woman          0.000034     0.131    0.622  95.705  "
      ]
     },
     "execution_count": 22,
     "metadata": {},
     "output_type": "execute_result"
    }
   ],
   "source": [
    "test.head(1)"
   ]
  },
  {
   "cell_type": "code",
   "execution_count": 26,
   "id": "9fcf594b-ded4-40e7-864e-53d3da3c4ce6",
   "metadata": {},
   "outputs": [
    {
     "data": {
      "text/html": [
       "<div>\n",
       "<style scoped>\n",
       "    .dataframe tbody tr th:only-of-type {\n",
       "        vertical-align: middle;\n",
       "    }\n",
       "\n",
       "    .dataframe tbody tr th {\n",
       "        vertical-align: top;\n",
       "    }\n",
       "\n",
       "    .dataframe thead th {\n",
       "        text-align: right;\n",
       "    }\n",
       "</style>\n",
       "<table border=\"1\" class=\"dataframe\">\n",
       "  <thead>\n",
       "    <tr style=\"text-align: right;\">\n",
       "      <th></th>\n",
       "      <th>Have You Ever Loved A Woman</th>\n",
       "    </tr>\n",
       "    <tr>\n",
       "      <th>Song</th>\n",
       "      <th></th>\n",
       "    </tr>\n",
       "  </thead>\n",
       "  <tbody>\n",
       "    <tr>\n",
       "      <th>Ice Ice Baby-['Vanilla Ice']</th>\n",
       "      <td>1.0</td>\n",
       "    </tr>\n",
       "    <tr>\n",
       "      <th>Honey White-['Morphine']</th>\n",
       "      <td>1.0</td>\n",
       "    </tr>\n",
       "    <tr>\n",
       "      <th>Jettin' - Remastered-Digable Planets</th>\n",
       "      <td>1.0</td>\n",
       "    </tr>\n",
       "    <tr>\n",
       "      <th>September In The Rain-['Dinah Washington']</th>\n",
       "      <td>1.0</td>\n",
       "    </tr>\n",
       "    <tr>\n",
       "      <th>Suburban Home-['Descendents']</th>\n",
       "      <td>1.0</td>\n",
       "    </tr>\n",
       "  </tbody>\n",
       "</table>\n",
       "</div>"
      ],
      "text/plain": [
       "                                            Have You Ever Loved A Woman\n",
       "Song                                                                   \n",
       "Ice Ice Baby-['Vanilla Ice']                                        1.0\n",
       "Honey White-['Morphine']                                            1.0\n",
       "Jettin' - Remastered-Digable Planets                                1.0\n",
       "September In The Rain-['Dinah Washington']                          1.0\n",
       "Suburban Home-['Descendents']                                       1.0"
      ]
     },
     "execution_count": 26,
     "metadata": {},
     "output_type": "execute_result"
    }
   ],
   "source": [
    "recommendations_nogenre(no_genre, test)"
   ]
  },
  {
   "cell_type": "code",
   "execution_count": null,
   "id": "d8185a0b-71f2-4b95-ab4d-abb2a016d34d",
   "metadata": {},
   "outputs": [],
   "source": [
    "# with open('../models/get_recommendation.pkl', 'wb') as f:\n",
    "#     pickle.dump(get_recommendations, f)"
   ]
  },
  {
   "cell_type": "code",
   "execution_count": null,
   "id": "00deef24-2adc-415c-93b5-bc09efe4cc27",
   "metadata": {},
   "outputs": [],
   "source": [
    "# with open('../models/library.pkl', 'wb') as f:\n",
    "#     pickle.dump(temp, f)"
   ]
  },
  {
   "cell_type": "code",
   "execution_count": 9,
   "id": "9dba0206-da3a-4096-9a36-b54af665a8b0",
   "metadata": {},
   "outputs": [],
   "source": [
    "%store -r test"
   ]
  },
  {
   "cell_type": "markdown",
   "id": "d9da9527-17c3-44ae-becc-7c98d9bfa0db",
   "metadata": {},
   "source": [
    "#### Recommendations are not great some things to experiment: \n",
    "<br>Add Genre\n",
    "<br>Normalize Features- Will have to do this on the input song as well* likely manual w/function\n",
    "<br>Check recommendations against library list and only surface recommendations in the same genre"
   ]
  },
  {
   "cell_type": "markdown",
   "id": "15480c4c-2343-4c4f-8608-09ded339162a",
   "metadata": {},
   "source": [
    "#### Normalizing Features"
   ]
  },
  {
   "cell_type": "code",
   "execution_count": null,
   "id": "e0dc0d23-2ea3-4a37-afba-ea2e1d648c6d",
   "metadata": {},
   "outputs": [],
   "source": [
    "#Step 1 Normalize Features over 1\n",
    "normalized = combined\n",
    "normalized['artist_popularity'] = pd.DataFrame(preprocessing.normalize([normalized['artist_popularity']]).T)\n",
    "normalized['loudness'] = pd.DataFrame(preprocessing.normalize([normalized['loudness']]).T)\n",
    "normalized['followers'] = pd.DataFrame(preprocessing.normalize([normalized['followers']]).T)\n",
    "normalized['tempo'] = pd.DataFrame(preprocessing.normalize([normalized['tempo']]).T)\n",
    "normalized['key'] = pd.DataFrame(preprocessing.normalize([normalized['key']]).T)"
   ]
  },
  {
   "cell_type": "code",
   "execution_count": null,
   "id": "aa656409-070c-4d55-92c7-69a81a53b8fc",
   "metadata": {},
   "outputs": [],
   "source": [
    "normalized.index = normalized['Song']\n",
    "normalized.drop(columns = ['Song', 'genres'], inplace = True)\n",
    "normalized.head(1)"
   ]
  },
  {
   "cell_type": "code",
   "execution_count": null,
   "id": "584a0a26-0cc5-4584-bb0b-dc6f616cac2f",
   "metadata": {},
   "outputs": [],
   "source": [
    "normalized.shape"
   ]
  },
  {
   "cell_type": "markdown",
   "id": "8989cdca-9493-4d9b-960d-f8316a856f53",
   "metadata": {},
   "source": [
    "#### Recommendation with Genre\n",
    "Not seeing much difference with Genre included. I am trying to first calculate the scores then only surface recommendations within the same genre. The problem is the genres column is a long list so its likely an exact match on genres would only surface songs from the same artist. Is there a way I can write a function to identify songs with at least 1 matching genre in the genres list."
   ]
  },
  {
   "cell_type": "code",
   "execution_count": 11,
   "id": "6a847a0d-a659-4133-9969-946e84abaabd",
   "metadata": {},
   "outputs": [],
   "source": [
    "#Count Vectorize the Genre Column\n",
    "vectorizer = CountVectorizer(max_features = 200)\n",
    "genre = vectorizer.fit_transform(combined['genre'])\n",
    "\n",
    "#Create genre dataframe\n",
    "genre_df = pd.DataFrame(genre.toarray(), columns =[vectorizer.get_feature_names_out()])\n",
    "\n",
    "#Add genre count to extended df\n",
    "combined_genre = pd.concat([combined, genre_df], axis = 1)\n",
    "combined_genre.index = combined_genre['Song']\n",
    "#combined_genre.reset_index(inplace = True, drop = True)\n",
    "combined_genre.drop(columns = ['index', 'genre', 'Song'], inplace = True)"
   ]
  },
  {
   "cell_type": "code",
   "execution_count": 12,
   "id": "e563d597-ad0f-4afc-bb0e-ec9385de1907",
   "metadata": {},
   "outputs": [
    {
     "data": {
      "text/html": [
       "<div>\n",
       "<style scoped>\n",
       "    .dataframe tbody tr th:only-of-type {\n",
       "        vertical-align: middle;\n",
       "    }\n",
       "\n",
       "    .dataframe tbody tr th {\n",
       "        vertical-align: top;\n",
       "    }\n",
       "\n",
       "    .dataframe thead th {\n",
       "        text-align: right;\n",
       "    }\n",
       "</style>\n",
       "<table border=\"1\" class=\"dataframe\">\n",
       "  <thead>\n",
       "    <tr style=\"text-align: right;\">\n",
       "      <th></th>\n",
       "      <th>All The Things (Your Man Won't Do)-Joe</th>\n",
       "    </tr>\n",
       "    <tr>\n",
       "      <th>Song</th>\n",
       "      <th></th>\n",
       "    </tr>\n",
       "  </thead>\n",
       "  <tbody>\n",
       "    <tr>\n",
       "      <th>All The Things (Your Man Won't Do)-Joe</th>\n",
       "      <td>1.0</td>\n",
       "    </tr>\n",
       "    <tr>\n",
       "      <th>Fallin-Macklemore</th>\n",
       "      <td>1.0</td>\n",
       "    </tr>\n",
       "    <tr>\n",
       "      <th>Notion-['Tash Sultana']</th>\n",
       "      <td>1.0</td>\n",
       "    </tr>\n",
       "    <tr>\n",
       "      <th>Do It-['Chloe x Halle']</th>\n",
       "      <td>1.0</td>\n",
       "    </tr>\n",
       "    <tr>\n",
       "      <th>Life Goes On-Oliver Tree</th>\n",
       "      <td>1.0</td>\n",
       "    </tr>\n",
       "    <tr>\n",
       "      <th>Spice Girl-['Aminé']</th>\n",
       "      <td>1.0</td>\n",
       "    </tr>\n",
       "    <tr>\n",
       "      <th>She Used To Be Mine-['Sara Bareilles']</th>\n",
       "      <td>1.0</td>\n",
       "    </tr>\n",
       "    <tr>\n",
       "      <th>skeletons-keshi</th>\n",
       "      <td>1.0</td>\n",
       "    </tr>\n",
       "    <tr>\n",
       "      <th>What If I Told You That I Love You-['Ali Gatie']</th>\n",
       "      <td>1.0</td>\n",
       "    </tr>\n",
       "    <tr>\n",
       "      <th>parents-['YUNGBLUD']</th>\n",
       "      <td>1.0</td>\n",
       "    </tr>\n",
       "  </tbody>\n",
       "</table>\n",
       "</div>"
      ],
      "text/plain": [
       "                                                  All The Things (Your Man Won't Do)-Joe\n",
       "Song                                                                                    \n",
       "All The Things (Your Man Won't Do)-Joe                                               1.0\n",
       "Fallin-Macklemore                                                                    1.0\n",
       "Notion-['Tash Sultana']                                                              1.0\n",
       "Do It-['Chloe x Halle']                                                              1.0\n",
       "Life Goes On-Oliver Tree                                                             1.0\n",
       "Spice Girl-['Aminé']                                                                 1.0\n",
       "She Used To Be Mine-['Sara Bareilles']                                               1.0\n",
       "skeletons-keshi                                                                      1.0\n",
       "What If I Told You That I Love You-['Ali Gatie']                                     1.0\n",
       "parents-['YUNGBLUD']                                                                 1.0"
      ]
     },
     "execution_count": 12,
     "metadata": {},
     "output_type": "execute_result"
    }
   ],
   "source": [
    "#Calculate the similarity between vectors\n",
    "similarity = cosine_similarity(combined_genre, combined_genre.iloc[[-1]])\n",
    "\n",
    "#create a dataframe with similarity scores\n",
    "sim = pd.DataFrame(similarity, index = combined_genre.index, columns = [combined_genre.index[-1]])\n",
    "\n",
    "#return 10 songs with highest similarity to input song\n",
    "sim.sort_values(by = combined_genre.index[-1], ascending = False).head(10)"
   ]
  },
  {
   "cell_type": "code",
   "execution_count": 42,
   "id": "5fbc67dd-e710-4ae4-9e39-4fc7c2c5e583",
   "metadata": {},
   "outputs": [],
   "source": [
    "#Recommendation Function- Update this to only return the Song not the similarity score\n",
    "def recommendations_genre(library, user_input):\n",
    "    #Join Library and User_Input\n",
    "    user_input['genre'] = str(user_input['genre'][0])\n",
    "    user_input['Song'] = user_input.index\n",
    "    df = pd.concat([library, user_input])\n",
    "    df.drop(columns = ['index'], inplace = True)\n",
    "    df.reset_index(inplace = True, drop = True)\n",
    "    \n",
    "    #normalize features\n",
    "    df['popularity'] = pd.DataFrame(preprocessing.normalize([df['popularity']]).T)\n",
    "    df['loudness'] = pd.DataFrame(preprocessing.normalize([df['loudness']]).T)\n",
    "    df['followers'] = pd.DataFrame(preprocessing.normalize([df['followers']]).T)\n",
    "    df['tempo'] = pd.DataFrame(preprocessing.normalize([df['tempo']]).T)\n",
    "    df['key'] = pd.DataFrame(preprocessing.normalize([df['key']]).T)\n",
    "    \n",
    "    #Count Vectorize library and input    \n",
    "    vectorizer = CountVectorizer(max_features = 200)\n",
    "    genre = vectorizer.fit_transform(df['genre'])\n",
    "\n",
    "    #Create genre dataframe\n",
    "    genre_df = pd.DataFrame(genre.toarray(), columns =[vectorizer.get_feature_names_out()])\n",
    "\n",
    "    #Add genre count to extended df\n",
    "    combined_genre = pd.concat([df, genre_df], axis = 1)\n",
    "    combined_genre.index = combined_genre['Song']\n",
    "    #combined_genre.reset_index(inplace = True, drop = True)\n",
    "    combined_genre.drop(columns = ['genre', 'Song'], inplace = True)\n",
    "    \n",
    "    #calculate similarity\n",
    "    similarity = cosine_similarity(combined_genre, combined_genre.iloc[[-1]])\n",
    "    \n",
    "    #create a similarity DataFrame\n",
    "    sim = pd.DataFrame(similarity, index = combined_genre.index, columns = [user_input.index[0]])\n",
    "    \n",
    "    #filter to top 5 \n",
    "    recs = sim.sort_values(by = user_input.index[0], ascending = False)[50:55]\n",
    "    recs.reset_index(inplace = True)\n",
    "    \n",
    "    return recs[['Song']]"
   ]
  },
  {
   "cell_type": "code",
   "execution_count": null,
   "id": "0ec44c44-c5da-4670-aa8c-ccba40254603",
   "metadata": {},
   "outputs": [],
   "source": [
    "%store -r sample"
   ]
  },
  {
   "cell_type": "code",
   "execution_count": 44,
   "id": "b7af4f97-cc47-4be6-b078-83821639dac4",
   "metadata": {},
   "outputs": [],
   "source": [
    "temp = recommendations_genre(combined, sample)"
   ]
  },
  {
   "cell_type": "code",
   "execution_count": 45,
   "id": "53be8e77-3cfa-4a5a-93b6-d8bf4d0a6baa",
   "metadata": {},
   "outputs": [
    {
     "data": {
      "text/html": [
       "<div>\n",
       "<style scoped>\n",
       "    .dataframe tbody tr th:only-of-type {\n",
       "        vertical-align: middle;\n",
       "    }\n",
       "\n",
       "    .dataframe tbody tr th {\n",
       "        vertical-align: top;\n",
       "    }\n",
       "\n",
       "    .dataframe thead th {\n",
       "        text-align: right;\n",
       "    }\n",
       "</style>\n",
       "<table border=\"1\" class=\"dataframe\">\n",
       "  <thead>\n",
       "    <tr style=\"text-align: right;\">\n",
       "      <th></th>\n",
       "      <th>Song</th>\n",
       "    </tr>\n",
       "  </thead>\n",
       "  <tbody>\n",
       "    <tr>\n",
       "      <th>0</th>\n",
       "      <td>Halley's Comet-Billie Eilish</td>\n",
       "    </tr>\n",
       "    <tr>\n",
       "      <th>1</th>\n",
       "      <td>Tilted-['Christine and the Queens']</td>\n",
       "    </tr>\n",
       "    <tr>\n",
       "      <th>2</th>\n",
       "      <td>Sad Girl-['Lana Del Rey']</td>\n",
       "    </tr>\n",
       "    <tr>\n",
       "      <th>3</th>\n",
       "      <td>American-['Lana Del Rey']</td>\n",
       "    </tr>\n",
       "    <tr>\n",
       "      <th>4</th>\n",
       "      <td>Burning Desire-['Lana Del Rey']</td>\n",
       "    </tr>\n",
       "  </tbody>\n",
       "</table>\n",
       "</div>"
      ],
      "text/plain": [
       "                                  Song\n",
       "0         Halley's Comet-Billie Eilish\n",
       "1  Tilted-['Christine and the Queens']\n",
       "2            Sad Girl-['Lana Del Rey']\n",
       "3            American-['Lana Del Rey']\n",
       "4      Burning Desire-['Lana Del Rey']"
      ]
     },
     "execution_count": 45,
     "metadata": {},
     "output_type": "execute_result"
    }
   ],
   "source": [
    "temp"
   ]
  },
  {
   "cell_type": "code",
   "execution_count": 18,
   "id": "056fa0f4-4817-4097-9203-f9d2e1889974",
   "metadata": {},
   "outputs": [],
   "source": [
    "with open('../models/library2.pkl', 'wb') as f:\n",
    "    pickle.dump(combined, f)"
   ]
  },
  {
   "cell_type": "code",
   "execution_count": 30,
   "id": "eb6ee9be-b622-44aa-abef-574f79f264aa",
   "metadata": {},
   "outputs": [
    {
     "data": {
      "text/html": [
       "<div>\n",
       "<style scoped>\n",
       "    .dataframe tbody tr th:only-of-type {\n",
       "        vertical-align: middle;\n",
       "    }\n",
       "\n",
       "    .dataframe tbody tr th {\n",
       "        vertical-align: top;\n",
       "    }\n",
       "\n",
       "    .dataframe thead th {\n",
       "        text-align: right;\n",
       "    }\n",
       "</style>\n",
       "<table border=\"1\" class=\"dataframe\">\n",
       "  <thead>\n",
       "    <tr style=\"text-align: right;\">\n",
       "      <th></th>\n",
       "      <th>index</th>\n",
       "      <th>genre</th>\n",
       "      <th>popularity</th>\n",
       "      <th>followers</th>\n",
       "      <th>danceability</th>\n",
       "      <th>energy</th>\n",
       "      <th>key</th>\n",
       "      <th>loudness</th>\n",
       "      <th>mode</th>\n",
       "      <th>speechiness</th>\n",
       "      <th>acousticness</th>\n",
       "      <th>instrumentalness</th>\n",
       "      <th>liveness</th>\n",
       "      <th>valence</th>\n",
       "      <th>tempo</th>\n",
       "      <th>Song</th>\n",
       "    </tr>\n",
       "  </thead>\n",
       "  <tbody>\n",
       "    <tr>\n",
       "      <th>0</th>\n",
       "      <td>0</td>\n",
       "      <td>['classical', 'post-romantic era', 'russian ro...</td>\n",
       "      <td>4.0</td>\n",
       "      <td>560524.0</td>\n",
       "      <td>0.279</td>\n",
       "      <td>0.211</td>\n",
       "      <td>10.0</td>\n",
       "      <td>-20.096</td>\n",
       "      <td>1.0</td>\n",
       "      <td>0.0366</td>\n",
       "      <td>0.982</td>\n",
       "      <td>0.878</td>\n",
       "      <td>0.665</td>\n",
       "      <td>0.0594</td>\n",
       "      <td>80.954</td>\n",
       "      <td>Piano Concerto No. 3 in D Minor, Op. 30: III. ...</td>\n",
       "    </tr>\n",
       "  </tbody>\n",
       "</table>\n",
       "</div>"
      ],
      "text/plain": [
       "   index                                              genre  popularity  \\\n",
       "0      0  ['classical', 'post-romantic era', 'russian ro...         4.0   \n",
       "\n",
       "   followers  danceability  energy   key  loudness  mode  speechiness  \\\n",
       "0   560524.0         0.279   0.211  10.0   -20.096   1.0       0.0366   \n",
       "\n",
       "   acousticness  instrumentalness  liveness  valence   tempo  \\\n",
       "0         0.982             0.878     0.665   0.0594  80.954   \n",
       "\n",
       "                                                Song  \n",
       "0  Piano Concerto No. 3 in D Minor, Op. 30: III. ...  "
      ]
     },
     "execution_count": 30,
     "metadata": {},
     "output_type": "execute_result"
    }
   ],
   "source": [
    "combined.head(1)"
   ]
  },
  {
   "cell_type": "code",
   "execution_count": null,
   "id": "5b5be7c2-0d5b-45bf-810d-5b9a954af1b7",
   "metadata": {},
   "outputs": [],
   "source": []
  }
 ],
 "metadata": {
  "kernelspec": {
   "display_name": "Python 3 (ipykernel)",
   "language": "python",
   "name": "python3"
  },
  "language_info": {
   "codemirror_mode": {
    "name": "ipython",
    "version": 3
   },
   "file_extension": ".py",
   "mimetype": "text/x-python",
   "name": "python",
   "nbconvert_exporter": "python",
   "pygments_lexer": "ipython3",
   "version": "3.9.12"
  }
 },
 "nbformat": 4,
 "nbformat_minor": 5
}
